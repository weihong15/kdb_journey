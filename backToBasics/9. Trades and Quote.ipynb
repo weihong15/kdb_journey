{
 "cells": [
  {
   "cell_type": "markdown",
   "metadata": {},
   "source": [
    "We start off by learning how to generate random dataset between two time, as trade and quotes to not appear on fixed interval"
   ]
  },
  {
   "cell_type": "code",
   "execution_count": 1,
   "metadata": {},
   "outputs": [],
   "source": [
    "system \"l qtips/util.q\"\n",
    "system \"l qtips/sim.q\"\n",
    "system \"l qtips/stat.q\""
   ]
  },
  {
   "cell_type": "markdown",
   "metadata": {},
   "source": [
    "# Forming the Quote Table"
   ]
  },
  {
   "cell_type": "code",
   "execution_count": 2,
   "metadata": {},
   "outputs": [
    {
     "data": {
      "text/plain": [
       "{[n;s;e]s+n?e-s}\r\n"
      ]
     },
     "execution_count": 2,
     "metadata": {},
     "output_type": "execute_result"
    }
   ],
   "source": [
    "//.util.randrng\n",
    "{[n;s;e]s+n?e-s} //number of points, start and end. "
   ]
  },
  {
   "cell_type": "markdown",
   "metadata": {},
   "source": [
    "after generating random points for each symbol, we need to sort them by ascending  \n",
    "we need to do that for each of the symbols  \n",
    "In the example below, for each symbol(10 sym), we are generating 1000 random datapoint between 9am-5pm and then sorting each"
   ]
  },
  {
   "cell_type": "code",
   "execution_count": 3,
   "metadata": {},
   "outputs": [
    {
     "data": {
      "text/plain": [
       "0D09:29:21.558446288 0D09:38:04.958276152 0D09:59:21.541441082 0D10:24:23.950..\r\n",
       "0D09:31:01.985957622 0D09:48:11.992092132 0D10:01:56.390570998 0D10:06:52.560..\r\n",
       "0D09:03:41.037706732 0D09:04:10.258335471 0D09:13:17.324824333 0D09:51:19.216..\r\n",
       "0D09:12:21.870930790 0D09:50:17.871433496 0D10:01:23.300882577 0D10:13:30.791..\r\n",
       "0D09:13:07.991917133 0D09:44:47.695714831 0D09:52:39.908562898 0D10:31:26.031..\r\n",
       "0D09:04:23.563379645 0D09:11:56.735091805 0D09:12:41.995035409 0D09:28:03.950..\r\n",
       "0D09:12:21.636988520 0D09:20:59.043127298 0D09:48:28.629029989 0D09:49:43.537..\r\n",
       "0D09:15:05.394887924 0D09:24:05.889401435 0D10:09:50.892899036 0D10:15:46.441..\r\n",
       "0D09:10:37.773191928 0D09:19:25.386235713 0D09:28:23.233784437 0D09:29:31.290..\r\n",
       "0D09:11:06.781845688 0D09:41:22.974824309 0D09:41:28.834458589 0D10:00:59.533..\r\n"
      ]
     },
     "execution_count": 3,
     "metadata": {},
     "output_type": "execute_result"
    },
    {
     "data": {
      "text/plain": [
       "0D09:22:44.136528968 0D09:33:48.329801559 0D09:41:35.471209287 0D10:22:57.442..\r\n",
       "0D09:06:56.049054265 0D09:38:12.786705493 0D09:42:07.903193235 0D09:50:09.976..\r\n",
       "0D09:12:17.943479418 0D09:17:43.182190060 0D09:41:41.935976743 0D09:47:17.130..\r\n",
       "0D09:01:45.896991491 0D09:04:53.230676651 0D09:21:37.962409257 0D10:05:30.307..\r\n",
       "0D09:14:14.977700114 0D09:21:21.317210197 0D09:21:32.448994517 0D09:35:49.753..\r\n",
       "0D09:43:38.494802713 0D09:55:18.920212984 0D09:58:07.755373120 0D10:11:21.172..\r\n",
       "0D09:01:37.617575526 0D09:08:58.282576203 0D09:09:32.779110074 0D09:33:35.902..\r\n",
       "0D09:06:00.105496644 0D09:41:20.569499731 0D10:14:30.264092087 0D10:25:20.132..\r\n",
       "0D09:05:58.247852325 0D09:07:11.134575605 0D09:14:13.690642118 0D09:30:52.607..\r\n",
       "0D09:13:15.375931262 0D09:46:30.331220626 0D10:05:50.977590680 0D10:39:30.536..\r\n"
      ]
     },
     "execution_count": 3,
     "metadata": {},
     "output_type": "execute_result"
    },
    {
     "data": {
      "text/plain": [
       "0D09:15:48.094797134 0D09:34:16.981158256 0D09:52:49.896733760 0D09:59:17.641..\r\n",
       "0D09:20:29.444360733 0D09:22:13.695119619 0D09:28:10.791285037 0D09:30:25.574..\r\n",
       "0D09:03:35.392675995 0D09:37:56.293024420 0D09:51:08.843436241 0D09:57:44.034..\r\n",
       "0D09:06:34.986552000 0D09:14:41.462368369 0D10:04:29.135534763 0D10:17:49.121..\r\n",
       "0D09:26:49.439644217 0D09:31:13.840034008 0D09:53:21.713633537 0D10:13:18.742..\r\n",
       "0D09:44:59.144241213 0D10:32:16.592862010 0D10:35:26.693299412 0D10:40:12.171..\r\n",
       "0D09:01:36.730434894 0D09:23:07.640780210 0D09:46:58.322432041 0D09:57:23.524..\r\n",
       "0D09:23:09.521893858 0D09:23:21.400941610 0D09:37:14.547847509 0D09:52:56.526..\r\n",
       "0D09:08:50.949068069 0D09:39:57.971543669 0D09:41:02.585610151 0D09:47:39.613..\r\n",
       "0D09:09:47.881153821 0D09:17:48.982493877 0D09:25:17.151671648 0D09:27:01.163..\r\n"
      ]
     },
     "execution_count": 3,
     "metadata": {},
     "output_type": "execute_result"
    }
   ],
   "source": [
    "n:10;\n",
    "asc each .util.randrng[;0D09;09D17] each n#1000 //generating 1000 points between 9am-5pm for each symbol\n",
    "{asc .util.randrng[x;0D09;09D17]} each n#1000 //remove multiple each\n",
    "(asc .util.randrng[;0D09;09D17]@) each n#1000 //composition, the @ make the function expects a single arguement"
   ]
  },
  {
   "cell_type": "markdown",
   "metadata": {},
   "source": [
    "With the time matrix, we will be able to generate our quotes table"
   ]
  },
  {
   "cell_type": "code",
   "execution_count": 4,
   "metadata": {},
   "outputs": [
    {
     "name": "stdout",
     "output_type": "stream",
     "text": [
      "id time                 price   \r\n",
      "--------------------------------\r\n",
      "0  0D09:02:12.776319980 69      \r\n",
      "0  0D09:26:32.767971754 69.10768\r\n",
      "0  0D09:51:04.881813526 69.06698\r\n",
      "0  0D10:06:27.911179661 68.76946\r\n",
      "0  0D11:08:10.309900045 68.6698 \r\n",
      "0  0D11:09:17.315960526 68.67202\r\n",
      "0  0D11:43:29.928444027 68.80577\r\n",
      "0  0D11:46:09.448345899 68.82407\r\n",
      "0  0D12:18:38.598639965 68.859  \r\n",
      "0  0D12:23:12.968800663 68.91704\r\n",
      "0  0D12:31:54.445084333 68.88418\r\n",
      "0  0D12:44:08.214215040 69.07861\r\n",
      "0  0D12:45:19.771072268 69.04712\r\n",
      "0  0D12:51:34.027072191 69.16403\r\n",
      "0  0D12:55:00.353640317 69.14653\r\n",
      "0  0D12:58:39.231793284 69.24125\r\n",
      "0  0D12:59:24.691883325 69.27917\r\n",
      "0  0D13:03:32.102919816 69.2199 \r\n",
      "0  0D13:25:36.030104756 69.20555\r\n",
      "0  0D13:29:01.149973869 69.18962\r\n",
      "..\r\n"
     ]
    }
   ],
   "source": [
    "n:10; tms: (asc .util.randrng[;0D09;09D17]@) each n#1000;\n",
    "show p:raze .sim.genp'[til n;n?100;n?.3;n?.03;tms] //note that is is currently each id first, then asc time"
   ]
  },
  {
   "cell_type": "markdown",
   "metadata": {},
   "source": [
    "However, prices are quoted with fixed decimal place, depending on the exchange and price. We will introduce the step function to make the above table more realistic\n",
    "## Step Function\n",
    "We will create a step function such that <$5, 0.01, <$10 0.05, etc"
   ]
  },
  {
   "cell_type": "code",
   "execution_count": 5,
   "metadata": {},
   "outputs": [
    {
     "name": "stdout",
     "output_type": "stream",
     "text": [
      "   | 0.01\r\n",
      "5  | 0.05\r\n",
      "10 | 0.1\r\n",
      "25 | 0.25\r\n",
      "50 | 0.5\r\n",
      "100| 1\r\n",
      "`s#`s#0n 5 10 25 50 100!0.01 0.05 0.1 0.25 0.5 1\n"
     ]
    },
    {
     "data": {
      "text/plain": [
       "   | 0.01\r\n",
       "5  | 0.05\r\n",
       "10 | 0.1\r\n",
       "25 | 0.25\r\n",
       "50 | 0.5\r\n",
       "100| 1\r\n"
      ]
     },
     "execution_count": 5,
     "metadata": {},
     "output_type": "execute_result"
    }
   ],
   "source": [
    "k:0n 5 10 25 50 100; v:.01 .05 .1 .25 .5 1\n",
    "show sf:`s#k!v //applying sort to whole dictionary changes it to a step function //pre-req\n",
    "0N!sf //notice the double sorted, it's sorted on the key and whole dictionary"
   ]
  },
  {
   "cell_type": "code",
   "execution_count": 6,
   "metadata": {},
   "outputs": [
    {
     "data": {
      "text/plain": [
       "0.01 0.01 0.05 0.05 0.1 0.5 0.5 1\r\n"
      ]
     },
     "execution_count": 6,
     "metadata": {},
     "output_type": "execute_result"
    }
   ],
   "source": [
    "//sf will return the value equal or less than it(closest)\n",
    "sf -5 3 5 7 10 50 51 101f"
   ]
  },
  {
   "cell_type": "markdown",
   "metadata": {},
   "source": [
    "We now put everything in a function, a function that will input a step function or a single round off element"
   ]
  },
  {
   "cell_type": "code",
   "execution_count": 7,
   "metadata": {},
   "outputs": [
    {
     "data": {
      "text/plain": [
       "{if[99h=type x;x@:y];(y;x+y:x*floor y%x)}\r\n"
      ]
     },
     "execution_count": 7,
     "metadata": {},
     "output_type": "execute_result"
    }
   ],
   "source": [
    "//.sim.tickrnd\n",
    "{if[99h=type x;x@:y];(y;x+y:x*floor y%x)} //x: step function or round off number, y:prices, \n",
    "//if it is step function, apply it to get round off number and save down to x, after that round off //return 2 lists"
   ]
  },
  {
   "cell_type": "code",
   "execution_count": 8,
   "metadata": {
    "scrolled": true
   },
   "outputs": [
    {
     "data": {
      "text/plain": [
       "bid   ask  \r\n",
       "-----------\r\n",
       "69    69.01\r\n",
       "69.1  69.11\r\n",
       "69.06 69.07\r\n",
       "68.76 68.77\r\n",
       "68.66 68.67\r\n"
      ]
     },
     "execution_count": 8,
     "metadata": {},
     "output_type": "execute_result"
    }
   ],
   "source": [
    "ts:`s#0n 5 50 100!.001 .005 .01 .02;\n",
    "5#flip `bid`ask!.sim.tickrnd[ts] p `price"
   ]
  },
  {
   "cell_type": "markdown",
   "metadata": {},
   "source": [
    "## Extending the Table, adding MA5, MA10 to table"
   ]
  },
  {
   "cell_type": "code",
   "execution_count": 9,
   "metadata": {},
   "outputs": [
    {
     "data": {
      "text/plain": [
       "id time                 price    MA5      MA10     MA20    \r\n",
       "-----------------------------------------------------------\r\n",
       "0  0D09:02:12.776319980 69       69       69       69      \r\n",
       "0  0D09:26:32.767971754 69.10768 69.05384 69.05384 69.05384\r\n",
       "0  0D09:51:04.881813526 69.06698 69.05822 69.05822 69.05822\r\n",
       "0  0D10:06:27.911179661 68.76946 68.98603 68.98603 68.98603\r\n",
       "0  0D11:08:10.309900045 68.6698  68.92279 68.92279 68.92279\r\n",
       "0  0D11:09:17.315960526 68.67202 68.85719 68.88099 68.88099\r\n",
       "0  0D11:43:29.928444027 68.80577 68.79681 68.87025 68.87025\r\n",
       "0  0D11:46:09.448345899 68.82407 68.74823 68.86447 68.86447\r\n",
       "0  0D12:18:38.598639965 68.859   68.76613 68.86387 68.86387\r\n",
       "0  0D12:23:12.968800663 68.91704 68.81558 68.86918 68.86918\r\n"
      ]
     },
     "execution_count": 9,
     "metadata": {},
     "output_type": "execute_result"
    }
   ],
   "source": [
    "w:5 10 20\n",
    "10#p:p,'flip(`$\"MA\",/:string w)!w mavg\\:p `price //adding three ma into charts \n",
    "//we make a mistake here, as id 1 will take average from id 0"
   ]
  },
  {
   "cell_type": "markdown",
   "metadata": {},
   "source": [
    "## Adding bid and ask size\n",
    "We just pick a value between 1 and a maximum quote_size(qs) to get bs and as(bid_size, ask_size)"
   ]
  },
  {
   "cell_type": "code",
   "execution_count": 10,
   "metadata": {},
   "outputs": [
    {
     "data": {
      "text/plain": [
       "id time                 price    MA5      MA10     MA20     bs as\r\n",
       "-----------------------------------------------------------------\r\n",
       "0  0D09:02:12.776319980 69       69       69       69       14 75\r\n",
       "0  0D09:26:32.767971754 69.10768 69.05384 69.05384 69.05384 88 29\r\n",
       "0  0D09:51:04.881813526 69.06698 69.05822 69.05822 69.05822 51 41\r\n",
       "0  0D10:06:27.911179661 68.76946 68.98603 68.98603 68.98603 57 26\r\n",
       "0  0D11:08:10.309900045 68.6698  68.92279 68.92279 68.92279 45 39\r\n"
      ]
     },
     "execution_count": 10,
     "metadata": {},
     "output_type": "execute_result"
    }
   ],
   "source": [
    "qs:100;\n",
    "5#p:p,'flip `bs`as!1+count[p]?/:2#qs //generate count p number from 2#qs(1 for bid 1 for ask)"
   ]
  },
  {
   "cell_type": "markdown",
   "metadata": {},
   "source": [
    "## Combining it all tgt"
   ]
  },
  {
   "cell_type": "code",
   "execution_count": 11,
   "metadata": {},
   "outputs": [
    {
     "data": {
      "text/plain": [
       "{[ts;qs;p] //generally this functrion normalize price and add bid/ask size\r\n",
       " q:p,'flip `bp`ap!tickrnd[ts] p `price; //normaizing it by step function or j..\r\n",
       " q:q,'flip `bs`as!1+count[p]?/:2#qs; //adding bs, as to table\r\n",
       " q:`id`time`bs`bp`ap`as#q; //taking out certain column in the order we want t..\r\n",
       " q}\r\n"
      ]
     },
     "execution_count": 11,
     "metadata": {},
     "output_type": "execute_result"
    }
   ],
   "source": [
    "//.sim.genq\n",
    "{[ts;qs;p] //generally this functrion normalize price and add bid/ask size\n",
    " q:p,'flip `bp`ap!tickrnd[ts] p `price; //normaizing it by step function or just a normalizing factor, adding to table\n",
    " q:q,'flip `bs`as!1+count[p]?/:2#qs; //adding bs, as to table\n",
    " q:`id`time`bs`bp`ap`as#q; //taking out certain column in the order we want them\n",
    " q}"
   ]
  },
  {
   "cell_type": "markdown",
   "metadata": {},
   "source": [
    "# Making the trade table\n",
    "Generally trade occurs between quote updates, can achieve by aj and wj  \n",
    "first define delay function between quotes"
   ]
  },
  {
   "cell_type": "code",
   "execution_count": 12,
   "metadata": {},
   "outputs": [
    {
     "data": {
      "text/plain": [
       "{abs[type x]$x+next deltas[x]*count[x]?1f}\r\n"
      ]
     },
     "execution_count": 12,
     "metadata": {},
     "output_type": "execute_result"
    },
    {
     "data": {
      "text/plain": [
       "{abs[type x]$x+next deltas[x]*count[x]?1f}\r\n"
      ]
     },
     "execution_count": 12,
     "metadata": {},
     "output_type": "execute_result"
    }
   ],
   "source": [
    ".sim.delay  //meaning only got 1 trade between quotes\n",
    "{abs[type x]$x+next deltas[x]*count[x]?1f}"
   ]
  },
  {
   "cell_type": "markdown",
   "metadata": {},
   "source": [
    "### next/prev/xprev"
   ]
  },
  {
   "cell_type": "code",
   "execution_count": 13,
   "metadata": {},
   "outputs": [
    {
     "data": {
      "text/plain": [
       "1 2 3 4 5 6 7 8 9 0N\r\n"
      ]
     },
     "execution_count": 13,
     "metadata": {},
     "output_type": "execute_result"
    },
    {
     "data": {
      "text/plain": [
       "0N 0 1 2 3 4 5 6 7 8\r\n"
      ]
     },
     "execution_count": 13,
     "metadata": {},
     "output_type": "execute_result"
    },
    {
     "data": {
      "text/plain": [
       "0N 0N 0N 0N 0N 0 1 2 3 4\r\n"
      ]
     },
     "execution_count": 13,
     "metadata": {},
     "output_type": "execute_result"
    },
    {
     "data": {
      "text/plain": [
       "5 6 7 8 9 0N 0N 0N 0N 0N\r\n"
      ]
     },
     "execution_count": 13,
     "metadata": {},
     "output_type": "execute_result"
    }
   ],
   "source": [
    "\n",
    "next til 10 //take next number //try to not use this, look ahead bias\n",
    "prev til 10 //take before number\n",
    "5 xprev til 10 //take 5 numbers before\n",
    "-5 xprev til 10 //Note that xnext does not exist, try not to use this, look ahead bias"
   ]
  },
  {
   "cell_type": "markdown",
   "metadata": {},
   "source": [
    "## Casting between types\n",
    "All below will round off to nearest whole numer (both up and down)"
   ]
  },
  {
   "cell_type": "code",
   "execution_count": 14,
   "metadata": {},
   "outputs": [
    {
     "name": "stdout",
     "output_type": "stream",
     "text": [
      "43.94663 41.1932 75.01595 62.33957 25.33286\r\n"
     ]
    },
    {
     "data": {
      "text/plain": [
       "44 41 75 62 25\r\n"
      ]
     },
     "execution_count": 14,
     "metadata": {},
     "output_type": "execute_result"
    },
    {
     "data": {
      "text/plain": [
       "44 41 75 62 25\r\n"
      ]
     },
     "execution_count": 14,
     "metadata": {},
     "output_type": "execute_result"
    },
    {
     "data": {
      "text/plain": [
       "44 41 75 62 25\r\n"
      ]
     },
     "execution_count": 14,
     "metadata": {},
     "output_type": "execute_result"
    }
   ],
   "source": [
    "show x:5?100f\n",
    "`long$x\n",
    "\"j\"$x\n",
    "7h$x"
   ]
  },
  {
   "cell_type": "markdown",
   "metadata": {},
   "source": [
    "### Redefine quotes table\n",
    "due to mistake aboive"
   ]
  },
  {
   "cell_type": "code",
   "execution_count": 15,
   "metadata": {},
   "outputs": [
    {
     "data": {
      "text/plain": [
       "id time                 bs bp    ap    as\r\n",
       "-----------------------------------------\r\n",
       "0  0D09:02:12.776319980 23 69    69.01 16\r\n",
       "0  0D09:26:32.767971754 23 69.1  69.11 17\r\n",
       "0  0D09:51:04.881813526 44 69.06 69.07 71\r\n",
       "0  0D10:06:27.911179661 33 68.76 68.77 99\r\n",
       "0  0D11:08:10.309900045 14 68.66 68.67 19\r\n"
      ]
     },
     "execution_count": 15,
     "metadata": {},
     "output_type": "execute_result"
    }
   ],
   "source": [
    "5#q:.sim.genq[ts;qs] p  //this don't have the moving average failure"
   ]
  },
  {
   "cell_type": "code",
   "execution_count": 16,
   "metadata": {},
   "outputs": [
    {
     "data": {
      "text/plain": [
       "0D09:02:12.776319980 0D09:26:32.767971754 0D09:51:04.881813526 0D10:06:27.911..\r\n"
      ]
     },
     "execution_count": 16,
     "metadata": {},
     "output_type": "execute_result"
    },
    {
     "data": {
      "text/plain": [
       "id time                 bs bp    ap    as\r\n",
       "-----------------------------------------\r\n",
       "0  0D09:13:33.823887720 23 69    69.01 16\r\n",
       "0  0D09:28:38.678992245 23 69.1  69.11 17\r\n",
       "0  0D09:51:56.402794764 44 69.06 69.07 71\r\n"
      ]
     },
     "execution_count": 16,
     "metadata": {},
     "output_type": "execute_result"
    },
    {
     "data": {
      "text/plain": [
       "id time bs bp    ap     as\r\n",
       "--------------------------\r\n",
       "9       29 31.52 31.525 20\r\n"
      ]
     },
     "execution_count": 16,
     "metadata": {},
     "output_type": "execute_result"
    },
    {
     "data": {
      "text/plain": [
       "0N 9D16:16:05.277166005 9D15:58:24.891781546 9D15:47:49.233482696 9D15:15:01...\r\n"
      ]
     },
     "execution_count": 16,
     "metadata": {},
     "output_type": "execute_result"
    }
   ],
   "source": [
    "//applying a delay to quote\n",
    "q`time\n",
    "3#p1:@[q;`time;.sim.delay]\n",
    "-1#p1 //time value does not exist\n",
    "reverse p1`time //0N"
   ]
  },
  {
   "cell_type": "code",
   "execution_count": 17,
   "metadata": {},
   "outputs": [
    {
     "data": {
      "text/plain": [
       "{y asc (neg\"j\"$x*n)?n:count y}\r\n"
      ]
     },
     "execution_count": 17,
     "metadata": {},
     "output_type": "execute_result"
    }
   ],
   "source": [
    "//trade occurs a lot lefss frequently than quotes, so we just need to pick a subset of quotes, we define filter to do that\n",
    "//.sim.filter\n",
    "{y asc (neg\"j\"$x*n)?n:count y} //x:percentage to keep, y: original list //sort them back to ascending index //slice"
   ]
  },
  {
   "cell_type": "code",
   "execution_count": 18,
   "metadata": {},
   "outputs": [
    {
     "data": {
      "text/plain": [
       "id time                 bs bp    ap    as \r\n",
       "------------------------------------------\r\n",
       "0  0D09:16:34.659577424 23 69    69.01 16 \r\n",
       "0  0D09:34:02.955467383 23 69.1  69.11 17 \r\n",
       "0  0D09:58:50.702694336 44 69.06 69.07 71 \r\n",
       "0  0D11:41:19.750004914 40 68.67 68.68 69 \r\n",
       "0  0D12:50:16.239504908 48 69.04 69.05 100\r\n",
       "0  0D12:58:12.581458556 63 69.14 69.15 8  \r\n",
       "0  0D13:01:04.652882441 82 69.27 69.28 43 \r\n",
       "0  0D13:17:06.983890954 45 69.21 69.22 3  \r\n",
       "0  0D13:27:01.616741642 58 69.2  69.21 83 \r\n",
       "0  0D14:04:20.331079990 45 69.05 69.06 98 \r\n",
       "0  0D15:40:51.929449388 97 68.99 69    1  \r\n",
       "0  0D15:48:11.955018763 19 68.99 69    81 \r\n",
       "0  0D16:19:06.862840605 15 69.04 69.05 54 \r\n",
       "0  0D17:08:12.700199537 97 69.28 69.29 89 \r\n",
       "0  0D17:30:28.491750242 33 69.21 69.22 20 \r\n",
       "0  0D18:11:38.443602630 53 69.2  69.21 18 \r\n",
       "0  0D18:56:01.547201044 77 68.91 68.92 72 \r\n",
       "0  0D18:56:52.096413641 34 68.94 68.95 51 \r\n",
       "0  0D19:26:09.743109327 35 68.94 68.95 2  \r\n",
       "0  0D21:20:23.506746338 48 69.07 69.08 17 \r\n",
       "..\r\n"
      ]
     },
     "execution_count": 18,
     "metadata": {},
     "output_type": "execute_result"
    }
   ],
   "source": [
    ".sim.filter[.3] -1_@[;`time;.sim.delay] q //applying quote to have delay, dropping last row, and randomly taking 30% of trade"
   ]
  },
  {
   "cell_type": "markdown",
   "metadata": {},
   "source": [
    "### Subconciously, we made the same mistake again, we should do a delay for each ID rather than whole table,\n",
    "This is similar to MA mistake"
   ]
  },
  {
   "cell_type": "code",
   "execution_count": 19,
   "metadata": {},
   "outputs": [
    {
     "data": {
      "text/plain": [
       "0| 0    1    2    3    4    5    6    7    8    9    10   11   12   13   14  ..\r\n",
       "1| 1000 1001 1002 1003 1004 1005 1006 1007 1008 1009 1010 1011 1012 1013 1014..\r\n",
       "2| 2000 2001 2002 2003 2004 2005 2006 2007 2008 2009 2010 2011 2012 2013 2014..\r\n",
       "3| 3000 3001 3002 3003 3004 3005 3006 3007 3008 3009 3010 3011 3012 3013 3014..\r\n",
       "4| 4000 4001 4002 4003 4004 4005 4006 4007 4008 4009 4010 4011 4012 4013 4014..\r\n",
       "5| 5000 5001 5002 5003 5004 5005 5006 5007 5008 5009 5010 5011 5012 5013 5014..\r\n",
       "6| 6000 6001 6002 6003 6004 6005 6006 6007 6008 6009 6010 6011 6012 6013 6014..\r\n",
       "7| 7000 7001 7002 7003 7004 7005 7006 7007 7008 7009 7010 7011 7012 7013 7014..\r\n",
       "8| 8000 8001 8002 8003 8004 8005 8006 8007 8008 8009 8010 8011 8012 8013 8014..\r\n",
       "9| 9000 9001 9002 9003 9004 9005 9006 9007 9008 9009 9010 9011 9012 9013 9014..\r\n"
      ]
     },
     "execution_count": 19,
     "metadata": {},
     "output_type": "execute_result"
    }
   ],
   "source": [
    "group q`id //group is a dictionary with key = distinct id, and value = row with those id"
   ]
  },
  {
   "cell_type": "code",
   "execution_count": 20,
   "metadata": {},
   "outputs": [
    {
     "data": {
      "text/plain": [
       "0| +`id`time`bs`bp`ap`as!(0 0 0 0 0 0 0 0 0 0 0 0 0 0 0 0 0 0 0 0 0 0 0 0 0 0..\r\n",
       "1| +`id`time`bs`bp`ap`as!(1 1 1 1 1 1 1 1 1 1 1 1 1 1 1 1 1 1 1 1 1 1 1 1 1 1..\r\n",
       "2| +`id`time`bs`bp`ap`as!(2 2 2 2 2 2 2 2 2 2 2 2 2 2 2 2 2 2 2 2 2 2 2 2 2 2..\r\n",
       "3| +`id`time`bs`bp`ap`as!(3 3 3 3 3 3 3 3 3 3 3 3 3 3 3 3 3 3 3 3 3 3 3 3 3 3..\r\n",
       "4| +`id`time`bs`bp`ap`as!(4 4 4 4 4 4 4 4 4 4 4 4 4 4 4 4 4 4 4 4 4 4 4 4 4 4..\r\n",
       "5| +`id`time`bs`bp`ap`as!(5 5 5 5 5 5 5 5 5 5 5 5 5 5 5 5 5 5 5 5 5 5 5 5 5 5..\r\n",
       "6| +`id`time`bs`bp`ap`as!(6 6 6 6 6 6 6 6 6 6 6 6 6 6 6 6 6 6 6 6 6 6 6 6 6 6..\r\n",
       "7| +`id`time`bs`bp`ap`as!(7 7 7 7 7 7 7 7 7 7 7 7 7 7 7 7 7 7 7 7 7 7 7 7 7 7..\r\n",
       "8| +`id`time`bs`bp`ap`as!(8 8 8 8 8 8 8 8 8 8 8 8 8 8 8 8 8 8 8 8 8 8 8 8 8 8..\r\n",
       "9| +`id`time`bs`bp`ap`as!(9 9 9 9 9 9 9 9 9 9 9 9 9 9 9 9 9 9 9 9 9 9 9 9 9 9..\r\n"
      ]
     },
     "execution_count": 20,
     "metadata": {},
     "output_type": "execute_result"
    }
   ],
   "source": [
    "q group q`id //dictionary of tables, remember we need raze to get back table"
   ]
  },
  {
   "cell_type": "code",
   "execution_count": 21,
   "metadata": {},
   "outputs": [
    {
     "data": {
      "text/plain": [
       "id time                 bs bp    ap    as \r\n",
       "------------------------------------------\r\n",
       "0  0D09:10:01.946886746 23 69    69.01 16 \r\n",
       "0  0D09:39:44.455713762 23 69.1  69.11 17 \r\n",
       "0  0D09:57:12.492160735 44 69.06 69.07 71 \r\n",
       "0  0D10:29:18.083028867 33 68.76 68.77 99 \r\n",
       "0  0D11:08:36.754360450 14 68.66 68.67 19 \r\n",
       "0  0D11:14:19.806118557 40 68.67 68.68 69 \r\n",
       "0  0D11:45:30.734824973 52 68.8  68.81 47 \r\n",
       "0  0D11:47:23.634616575 53 68.82 68.83 53 \r\n",
       "0  0D12:20:00.368882532 96 68.85 68.86 40 \r\n",
       "0  0D12:27:34.232595687 7  68.91 68.92 15 \r\n",
       "0  0D12:42:54.002959727 66 68.88 68.89 65 \r\n",
       "0  0D12:45:08.987861928 60 69.07 69.08 40 \r\n",
       "0  0D12:48:02.191388733 48 69.04 69.05 100\r\n",
       "0  0D12:51:56.518318441 99 69.16 69.17 73 \r\n",
       "0  0D12:57:17.512033711 63 69.14 69.15 8  \r\n",
       "0  0D12:58:41.296811625 82 69.24 69.25 95 \r\n",
       "0  0D12:59:54.766639676 82 69.27 69.28 43 \r\n",
       "0  0D13:18:10.580847863 45 69.21 69.22 3  \r\n",
       "0  0D13:25:46.605476826 58 69.2  69.21 83 \r\n",
       "0  0D13:50:33.899583665 21 69.18 69.19 65 \r\n",
       "..\r\n"
      ]
     },
     "execution_count": 21,
     "metadata": {},
     "output_type": "execute_result"
    }
   ],
   "source": [
    "//generate trade without filter\n",
    "raze (-1_@[;`time;.sim.delay]@) each q group q`id //note 2 \"@\" here, the right @ will supress calculation\n",
    "//we are putting one table into this bracket function"
   ]
  },
  {
   "cell_type": "code",
   "execution_count": 22,
   "metadata": {},
   "outputs": [
    {
     "data": {
      "text/plain": [
       "id time                 bs bp    ap    as \r\n",
       "------------------------------------------\r\n",
       "0  0D09:06:06.543083999 23 69    69.01 16 \r\n",
       "0  0D09:41:12.874420720 23 69.1  69.11 17 \r\n",
       "0  0D10:00:31.114089911 44 69.06 69.07 71 \r\n",
       "0  0D11:04:16.651339267 33 68.76 68.77 99 \r\n",
       "0  0D11:08:25.014680243 14 68.66 68.67 19 \r\n",
       "0  0D11:24:32.688497522 40 68.67 68.68 69 \r\n",
       "0  0D11:45:01.478327513 52 68.8  68.81 47 \r\n",
       "0  0D12:08:50.709462972 53 68.82 68.83 53 \r\n",
       "0  0D12:21:55.072837488 96 68.85 68.86 40 \r\n",
       "0  0D12:24:28.493945597 7  68.91 68.92 15 \r\n",
       "0  0D12:35:32.865800808 66 68.88 68.89 65 \r\n",
       "0  0D12:44:50.210457286 60 69.07 69.08 40 \r\n",
       "0  0D12:49:28.907804412 48 69.04 69.05 100\r\n",
       "0  0D12:54:29.912280419 99 69.16 69.17 73 \r\n",
       "0  0D12:56:51.434054830 63 69.14 69.15 8  \r\n",
       "0  0D12:59:22.648340971 82 69.24 69.25 95 \r\n",
       "0  0D13:03:01.713389425 82 69.27 69.28 43 \r\n",
       "0  0D13:14:55.563849780 45 69.21 69.22 3  \r\n",
       "0  0D13:26:16.958538355 58 69.2  69.21 83 \r\n",
       "0  0D13:40:37.895089994 21 69.18 69.19 65 \r\n",
       "..\r\n"
      ]
     },
     "execution_count": 22,
     "metadata": {},
     "output_type": "execute_result"
    }
   ],
   "source": [
    "//the following results is same as above, however, this time we are putting a list of row id into bracket\n",
    "//however by bringing just the index inside instead of table, we prevent a potentially large allocation of temporary memory\n",
    "raze (-1_@[;`time;.sim.delay] q@) each group q`id"
   ]
  },
  {
   "cell_type": "code",
   "execution_count": 23,
   "metadata": {},
   "outputs": [
    {
     "data": {
      "text/plain": [
       "{[b;pct;bs;bp;ap;as](ceiling pct*?[b;bs;as];?[b;bp;ap])}\r\n"
      ]
     },
     "execution_count": 23,
     "metadata": {},
     "output_type": "execute_result"
    }
   ],
   "source": [
    "// now we want to know whether the trade is buy or sell //and what percentage of the bid and ask it is\n",
    "//.sim.trd\n",
    "{[b;pct;bs;bp;ap;as](ceiling pct*?[b;bs;as];?[b;bp;ap])} //return (size;price) \"?\" is vector if else"
   ]
  },
  {
   "cell_type": "code",
   "execution_count": 39,
   "metadata": {},
   "outputs": [
    {
     "data": {
      "text/plain": [
       "8  17   14    37    9     2     46   9     40    3     29    12    11    49  ..\r\n",
       "69 69.1 69.07 68.77 68.67 68.68 68.8 68.82 68.85 68.91 68.88 69.07 69.04 69.1..\r\n"
      ]
     },
     "execution_count": 39,
     "metadata": {},
     "output_type": "execute_result"
    }
   ],
   "source": [
    "n:10000;\n",
    ".sim.trd[n?0b;n?1f] . (q`bs`bp`ap`as) //size and price"
   ]
  },
  {
   "cell_type": "code",
   "execution_count": 41,
   "metadata": {},
   "outputs": [],
   "source": [
    "//we these we need to combine with our original table\n",
    "t:q,' flip `ts`tp!.sim.trd[n?0b;n?1f] . (q`bs`bp`ap`as)"
   ]
  },
  {
   "cell_type": "code",
   "execution_count": 42,
   "metadata": {},
   "outputs": [
    {
     "data": {
      "text/plain": [
       "{[pct;q]\r\n",
       " q:filter[pct] raze (-1_@[;`time;delay] q@) each group q `id;\r\n",
       " t:q,' flip `ts`tp!trd[n?0b;(n:count q)?1f] . q `bs`bp`ap`as;\r\n",
       " t:`id`time`ts`tp#t;\r\n",
       " t}\r\n"
      ]
     },
     "execution_count": 42,
     "metadata": {},
     "output_type": "execute_result"
    }
   ],
   "source": [
    "//.sim.gent //combine filtering and trade generation and size price\n",
    "{[pct;q]\n",
    " q:filter[pct] raze (-1_@[;`time;delay] q@) each group q `id;\n",
    " t:q,' flip `ts`tp!trd[n?0b;(n:count q)?1f] . q `bs`bp`ap`as;\n",
    " t:`id`time`ts`tp#t;\n",
    " t}\n"
   ]
  },
  {
   "cell_type": "code",
   "execution_count": null,
   "metadata": {},
   "outputs": [],
   "source": []
  }
 ],
 "metadata": {
  "kernelspec": {
   "display_name": "Q (kdb+)",
   "language": "q",
   "name": "qpk"
  },
  "language_info": {
   "file_extension": ".q",
   "mimetype": "text/x-q",
   "name": "q",
   "version": "3.6.0"
  }
 },
 "nbformat": 4,
 "nbformat_minor": 2
}
