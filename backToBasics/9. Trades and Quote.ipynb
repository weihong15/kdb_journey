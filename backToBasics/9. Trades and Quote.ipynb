{
 "cells": [
  {
   "cell_type": "markdown",
   "metadata": {},
   "source": [
    "We start off by learning how to generate random dataset between two time, as trade and quotes to not appear on fixed interval"
   ]
  },
  {
   "cell_type": "code",
   "execution_count": 9,
   "metadata": {},
   "outputs": [],
   "source": [
    "system \"l qtips/util.q\"\n",
    "system \"l qtips/sim.q\"\n",
    "system \"l qtips/stat.q\""
   ]
  },
  {
   "cell_type": "markdown",
   "metadata": {},
   "source": [
    "# Forming the Quote Table"
   ]
  },
  {
   "cell_type": "code",
   "execution_count": 2,
   "metadata": {},
   "outputs": [
    {
     "data": {
      "text/plain": [
       "{[n;s;e]s+n?e-s}\r\n"
      ]
     },
     "execution_count": 2,
     "metadata": {},
     "output_type": "execute_result"
    }
   ],
   "source": [
    "//.util.randrng\n",
    "{[n;s;e]s+n?e-s} //number of points, start and end. "
   ]
  },
  {
   "cell_type": "markdown",
   "metadata": {},
   "source": [
    "after generating random points for each symbol, we need to sort them by ascending  \n",
    "we need to do that for each of the symbols  \n",
    "In the example below, for each symbol(10 sym), we are generating 1000 random datapoint between 9am-5pm and then sorting each"
   ]
  },
  {
   "cell_type": "code",
   "execution_count": 3,
   "metadata": {},
   "outputs": [
    {
     "data": {
      "text/plain": [
       "0D09:02:12.776319980 0D09:26:32.767971754 0D09:51:04.881813526 0D10:06:27.911..\r\n",
       "0D09:16:27.776926159 0D09:23:00.578389763 0D09:29:18.266356587 0D09:36:25.993..\r\n",
       "0D09:01:05.397191047 0D09:08:06.533081531 0D09:37:34.443079233 0D09:44:16.674..\r\n",
       "0D09:00:52.545762062 0D09:27:19.235740900 0D09:29:55.407602190 0D09:46:39.700..\r\n",
       "0D09:18:56.101958155 0D09:27:27.077313065 0D09:41:38.935657739 0D09:45:05.635..\r\n",
       "0D09:00:44.604867696 0D09:11:19.160320758 0D09:37:43.757023215 0D09:40:02.609..\r\n",
       "0D09:29:00.747159719 0D09:35:54.514244198 0D09:37:58.492382168 0D09:45:36.516..\r\n",
       "0D09:10:38.891458511 0D09:27:01.589809656 0D09:27:58.655576705 0D09:33:58.408..\r\n",
       "0D09:02:17.158513069 0D09:33:08.766521215 0D09:47:26.752989292 0D09:49:58.766..\r\n",
       "0D09:10:37.720996141 0D09:16:54.183300733 0D09:23:45.462260842 0D09:45:39.861..\r\n"
      ]
     },
     "execution_count": 3,
     "metadata": {},
     "output_type": "execute_result"
    },
    {
     "data": {
      "text/plain": [
       "0D09:10:02.323991060 0D09:29:08.358169198 0D09:39:03.164652585 0D10:01:03.676..\r\n",
       "0D09:00:30.021777749 0D09:04:02.461261153 0D09:20:02.335408329 0D09:22:18.307..\r\n",
       "0D09:10:07.908940315 0D09:10:56.015995144 0D09:25:24.444812536 0D09:39:33.491..\r\n",
       "0D09:04:26.035920381 0D09:42:55.765791535 0D09:57:42.568277120 0D10:11:27.416..\r\n",
       "0D09:14:08.291006684 0D10:00:56.339317560 0D10:23:22.241116762 0D10:39:38.841..\r\n",
       "0D09:20:54.105368256 0D09:22:58.091955184 0D09:47:00.010721683 0D09:49:16.960..\r\n",
       "0D09:06:17.581322193 0D09:17:01.800693869 0D09:46:08.688744306 0D09:50:03.829..\r\n",
       "0D09:32:03.467150330 0D09:40:58.059972524 0D09:41:01.310943961 0D09:49:01.405..\r\n",
       "0D09:17:44.606121182 0D09:29:41.051883101 0D10:06:32.636400461 0D10:16:24.552..\r\n",
       "0D09:17:24.280743598 0D09:17:54.126783013 0D09:22:06.089742779 0D09:42:25.271..\r\n"
      ]
     },
     "execution_count": 3,
     "metadata": {},
     "output_type": "execute_result"
    },
    {
     "data": {
      "text/plain": [
       "0D09:09:55.419690012 0D09:19:31.950700879 0D09:20:51.090592145 0D09:21:05.316..\r\n",
       "0D09:06:40.588586926 0D09:10:58.078104257 0D09:18:18.830035328 0D09:18:58.396..\r\n",
       "0D09:00:00.651508569 0D09:21:49.358364343 0D09:34:02.853185534 0D09:41:07.862..\r\n",
       "0D09:03:02.448685169 0D09:06:58.710476160 0D09:15:29.318770766 0D09:30:30.854..\r\n",
       "0D09:14:10.710788369 0D09:25:29.088735580 0D09:27:36.111878156 0D09:30:16.925..\r\n",
       "0D09:13:13.649527430 0D09:39:22.497559189 0D10:02:02.859656810 0D10:43:00.876..\r\n",
       "0D09:46:45.349901318 0D09:48:49.145541787 0D09:51:12.605475783 0D10:07:56.803..\r\n",
       "0D09:14:53.449938297 0D09:16:14.816974997 0D09:22:09.996353387 0D09:24:51.953..\r\n",
       "0D09:13:37.714226245 0D09:27:02.836124897 0D09:47:38.251833915 0D09:58:09.802..\r\n",
       "0D09:17:54.750879406 0D09:20:59.989786148 0D09:35:23.282575607 0D09:47:47.034..\r\n"
      ]
     },
     "execution_count": 3,
     "metadata": {},
     "output_type": "execute_result"
    }
   ],
   "source": [
    "n:10;\n",
    "asc each .util.randrng[;0D09;09D17] each n#1000 //generating 1000 points between 9am-5pm for each symbol\n",
    "{asc .util.randrng[x;0D09;09D17]} each n#1000 //remove multiple each\n",
    "(asc .util.randrng[;0D09;09D17]@) each n#1000 //composition, the @ make the function expects a single arguement"
   ]
  },
  {
   "cell_type": "markdown",
   "metadata": {},
   "source": [
    "With the time matrix, we will be able to generate our quotes table"
   ]
  },
  {
   "cell_type": "code",
   "execution_count": 30,
   "metadata": {},
   "outputs": [
    {
     "name": "stdout",
     "output_type": "stream",
     "text": [
      "id time                 price   \r\n",
      "--------------------------------\r\n",
      "0  0D09:13:04.237387776 55      \r\n",
      "0  0D09:30:33.279213309 54.9994 \r\n",
      "0  0D09:34:53.977269530 54.99679\r\n",
      "0  0D09:52:09.898801445 54.9735 \r\n",
      "0  0D09:58:33.379186391 54.97206\r\n",
      "0  0D09:59:20.441574454 54.97893\r\n",
      "0  0D09:59:39.811468720 54.97963\r\n",
      "0  0D10:09:11.020199060 54.95714\r\n",
      "0  0D10:12:41.516234278 54.92424\r\n",
      "0  0D10:36:38.540613055 55.0255 \r\n",
      "0  0D10:37:23.536385893 55.02299\r\n",
      "0  0D11:02:53.703959584 54.99806\r\n",
      "0  0D11:11:06.207262873 54.98496\r\n",
      "0  0D11:48:52.354778051 54.99799\r\n",
      "0  0D12:08:14.544678926 55.03909\r\n",
      "0  0D12:14:45.302996635 55.04933\r\n",
      "0  0D12:18:06.366614699 55.03421\r\n",
      "0  0D12:23:03.831158280 55.00755\r\n",
      "0  0D12:23:18.323938250 55.00495\r\n",
      "0  0D12:36:49.022149443 54.9826 \r\n",
      "..\r\n"
     ]
    }
   ],
   "source": [
    "n:10; tms: (asc .util.randrng[;0D09;09D17]@) each n#1000;\n",
    "show p:raze .sim.genp'[til n;n?100;n?.3;n?.03;tms] //note that is is currently each id first, then asc time"
   ]
  },
  {
   "cell_type": "markdown",
   "metadata": {},
   "source": [
    "However, prices are quoted with fixed decimal place, depending on the exchange and price. We will introduce the step function to make the above table more realistic\n",
    "## Step Function\n",
    "We will create a step function such that <$5, 0.01, <$10 0.05, etc"
   ]
  },
  {
   "cell_type": "code",
   "execution_count": 15,
   "metadata": {},
   "outputs": [
    {
     "name": "stdout",
     "output_type": "stream",
     "text": [
      "   | 0.01\r\n",
      "5  | 0.05\r\n",
      "10 | 0.1\r\n",
      "25 | 0.25\r\n",
      "50 | 0.5\r\n",
      "100| 1\r\n",
      "`s#`s#0n 5 10 25 50 100!0.01 0.05 0.1 0.25 0.5 1\n"
     ]
    },
    {
     "data": {
      "text/plain": [
       "   | 0.01\r\n",
       "5  | 0.05\r\n",
       "10 | 0.1\r\n",
       "25 | 0.25\r\n",
       "50 | 0.5\r\n",
       "100| 1\r\n"
      ]
     },
     "execution_count": 15,
     "metadata": {},
     "output_type": "execute_result"
    }
   ],
   "source": [
    "k:0n 5 10 25 50 100; v:.01 .05 .1 .25 .5 1\n",
    "show sf:`s#k!v //applying sort to whole dictionary changes it to a step function //pre-req\n",
    "0N!sf //notice the double sorted, it's sorted on the key and whole dictionary"
   ]
  },
  {
   "cell_type": "code",
   "execution_count": 2,
   "metadata": {},
   "outputs": [
    {
     "data": {
      "text/plain": [
       "0.01 0.01 0.05 0.05 0.1 0.5 0.5 1\r\n"
      ]
     },
     "execution_count": 2,
     "metadata": {},
     "output_type": "execute_result"
    }
   ],
   "source": [
    "//sf will return the value equal or less than it(closest)\n",
    "sf -5 3 5 7 10 50 51 101f"
   ]
  },
  {
   "cell_type": "markdown",
   "metadata": {},
   "source": [
    "We now put everything in a function, a function that will input a step function or a single round off element"
   ]
  },
  {
   "cell_type": "code",
   "execution_count": 20,
   "metadata": {},
   "outputs": [
    {
     "data": {
      "text/plain": [
       "{if[99h=type x;x@:y];(y;x+y:x*floor y%x)}\r\n"
      ]
     },
     "execution_count": 20,
     "metadata": {},
     "output_type": "execute_result"
    }
   ],
   "source": [
    "//.sim.tickrnd\n",
    "{if[99h=type x;x@:y];(y;x+y:x*floor y%x)} //x: step function or round off number, y:prices, \n",
    "//if it is step function, apply it to get round off number and save down to x, after that round off //return 2 lists"
   ]
  },
  {
   "cell_type": "code",
   "execution_count": 31,
   "metadata": {
    "scrolled": true
   },
   "outputs": [
    {
     "data": {
      "text/plain": [
       "bid   ask  \r\n",
       "-----------\r\n",
       "55    55.01\r\n",
       "54.99 55   \r\n",
       "54.99 55   \r\n",
       "54.97 54.98\r\n",
       "54.97 54.98\r\n"
      ]
     },
     "execution_count": 31,
     "metadata": {},
     "output_type": "execute_result"
    }
   ],
   "source": [
    "ts:`s#0n 5 50 100!.001 .005 .01 .02;\n",
    "5#flip `bid`ask!.sim.tickrnd[ts] p `price"
   ]
  },
  {
   "cell_type": "markdown",
   "metadata": {},
   "source": [
    "## Extending the Table, adding MA5, MA10 to table"
   ]
  },
  {
   "cell_type": "code",
   "execution_count": 16,
   "metadata": {},
   "outputs": [
    {
     "data": {
      "text/plain": [
       "id time                 price    MA5      MA10     MA20    \r\n",
       "-----------------------------------------------------------\r\n",
       "0  0D09:29:21.558446288 63       63       63       63      \r\n",
       "0  0D09:38:04.958276152 62.90316 62.95158 62.95158 62.95158\r\n",
       "0  0D09:59:21.541441082 62.80904 62.90407 62.90407 62.90407\r\n",
       "0  0D10:24:23.950243592 62.82783 62.88501 62.88501 62.88501\r\n",
       "0  0D11:01:07.069655656 62.84808 62.87762 62.87762 62.87762\r\n",
       "0  0D11:29:54.733509421 62.66533 62.81069 62.84224 62.84224\r\n",
       "0  0D11:44:07.820332646 62.62854 62.75576 62.81171 62.81171\r\n",
       "0  0D11:46:25.670158267 62.6134  62.71664 62.78692 62.78692\r\n",
       "0  0D11:52:07.025914192 62.6463  62.68033 62.7713  62.7713 \r\n",
       "0  0D11:57:11.123453378 62.71012 62.65274 62.76518 62.76518\r\n"
      ]
     },
     "execution_count": 16,
     "metadata": {},
     "output_type": "execute_result"
    }
   ],
   "source": [
    "w:5 10 20\n",
    "10#p:p,'flip(`$\"MA\",/:string w)!w mavg\\:p `price //adding three ma into charts \n",
    "//we make a mistake here, as id 1 will take average from id 0"
   ]
  },
  {
   "cell_type": "markdown",
   "metadata": {},
   "source": [
    "## Adding bid and ask size\n",
    "We just pick a value between 1 and a maximum quote_size(qs) to get bs and as(bid_size, ask_size)"
   ]
  },
  {
   "cell_type": "code",
   "execution_count": 19,
   "metadata": {},
   "outputs": [
    {
     "data": {
      "text/plain": [
       "id time                 price    MA5      MA10     MA20     bs as\r\n",
       "-----------------------------------------------------------------\r\n",
       "0  0D09:29:21.558446288 63       63       63       63       2  58\r\n",
       "0  0D09:38:04.958276152 62.90316 62.95158 62.95158 62.95158 11 7 \r\n",
       "0  0D09:59:21.541441082 62.80904 62.90407 62.90407 62.90407 38 60\r\n",
       "0  0D10:24:23.950243592 62.82783 62.88501 62.88501 62.88501 43 92\r\n",
       "0  0D11:01:07.069655656 62.84808 62.87762 62.87762 62.87762 32 39\r\n"
      ]
     },
     "execution_count": 19,
     "metadata": {},
     "output_type": "execute_result"
    }
   ],
   "source": [
    "qs:100;\n",
    "5#p:p,'flip `bs`as!1+count[p]?/:2#qs //generate count p number from 2#qs(1 for bid 1 for ask)"
   ]
  },
  {
   "cell_type": "markdown",
   "metadata": {},
   "source": [
    "## Combining it all tgt"
   ]
  },
  {
   "cell_type": "code",
   "execution_count": 20,
   "metadata": {},
   "outputs": [
    {
     "data": {
      "text/plain": [
       "{[ts;qs;p]\r\n",
       " q:p,'flip `bp`ap!tickrnd[ts] p `price;\r\n",
       " q:q,'flip `bs`as!1+count[p]?/:2#qs;\r\n",
       " q:`id`time`bs`bp`ap`as#q;\r\n",
       " q}\r\n"
      ]
     },
     "execution_count": 20,
     "metadata": {},
     "output_type": "execute_result"
    }
   ],
   "source": [
    "//.sim.genq\n",
    "{[ts;qs;p] //generally this functrion normalize price and add bid/ask size\n",
    " q:p,'flip `bp`ap!tickrnd[ts] p `price; //normaizing it by step function or just a normalizing factor, adding to table\n",
    " q:q,'flip `bs`as!1+count[p]?/:2#qs; //adding bs, as to table\n",
    " q:`id`time`bs`bp`ap`as#q; //taking out certain column in the order we want them\n",
    " q}"
   ]
  },
  {
   "cell_type": "markdown",
   "metadata": {},
   "source": [
    "# Making the trade table\n",
    "Generally trade occurs between quote updates, can achieve by aj and wj  \n",
    "first define delay function between quotes"
   ]
  },
  {
   "cell_type": "code",
   "execution_count": 21,
   "metadata": {},
   "outputs": [
    {
     "data": {
      "text/plain": [
       "{abs[type x]$x+next deltas[x]*count[x]?1f}\r\n"
      ]
     },
     "execution_count": 21,
     "metadata": {},
     "output_type": "execute_result"
    }
   ],
   "source": [
    ".sim.delay  //meaning only got 1 trade between quotes\n",
    "{abs[type x]$x+next deltas[x]*count[x]?1f}"
   ]
  },
  {
   "cell_type": "markdown",
   "metadata": {},
   "source": [
    "### next/prev/xprev"
   ]
  },
  {
   "cell_type": "code",
   "execution_count": 26,
   "metadata": {},
   "outputs": [
    {
     "data": {
      "text/plain": [
       "1 2 3 4 5 6 7 8 9 0N\r\n"
      ]
     },
     "execution_count": 26,
     "metadata": {},
     "output_type": "execute_result"
    },
    {
     "data": {
      "text/plain": [
       "0N 0 1 2 3 4 5 6 7 8\r\n"
      ]
     },
     "execution_count": 26,
     "metadata": {},
     "output_type": "execute_result"
    },
    {
     "data": {
      "text/plain": [
       "0N 0N 0N 0N 0N 0 1 2 3 4\r\n"
      ]
     },
     "execution_count": 26,
     "metadata": {},
     "output_type": "execute_result"
    },
    {
     "data": {
      "text/plain": [
       "5 6 7 8 9 0N 0N 0N 0N 0N\r\n"
      ]
     },
     "execution_count": 26,
     "metadata": {},
     "output_type": "execute_result"
    }
   ],
   "source": [
    "\n",
    "next til 10 //take next number //try to not use this, look ahead bias\n",
    "prev til 10 //take before number\n",
    "5 xprev til 10 //take 5 numbers before\n",
    "-5 xprev til 10 //Note that xnext does not exist, try not to use this, look ahead bias"
   ]
  },
  {
   "cell_type": "markdown",
   "metadata": {},
   "source": [
    "## Casting between types\n",
    "All below will round off to nearest whole numer (both up and down)"
   ]
  },
  {
   "cell_type": "code",
   "execution_count": 27,
   "metadata": {},
   "outputs": [
    {
     "name": "stdout",
     "output_type": "stream",
     "text": [
      "3.608423 79.33553 38.46181 20.68962 87.83315\r\n"
     ]
    },
    {
     "data": {
      "text/plain": [
       "4 79 38 21 88\r\n"
      ]
     },
     "execution_count": 27,
     "metadata": {},
     "output_type": "execute_result"
    },
    {
     "data": {
      "text/plain": [
       "4 79 38 21 88\r\n"
      ]
     },
     "execution_count": 27,
     "metadata": {},
     "output_type": "execute_result"
    },
    {
     "data": {
      "text/plain": [
       "4 79 38 21 88\r\n"
      ]
     },
     "execution_count": 27,
     "metadata": {},
     "output_type": "execute_result"
    }
   ],
   "source": [
    "show x:5?100f\n",
    "`long$x\n",
    "\"j\"$x\n",
    "7h$x"
   ]
  },
  {
   "cell_type": "markdown",
   "metadata": {},
   "source": [
    "### Redefine quotes table\n",
    "due to mistake aboive"
   ]
  },
  {
   "cell_type": "code",
   "execution_count": 32,
   "metadata": {},
   "outputs": [
    {
     "data": {
      "text/plain": [
       "id time                 bs bp    ap    as\r\n",
       "-----------------------------------------\r\n",
       "0  0D09:13:04.237387776 89 55    55.01 56\r\n",
       "0  0D09:30:33.279213309 83 54.99 55    64\r\n",
       "0  0D09:34:53.977269530 14 54.99 55    5 \r\n",
       "0  0D09:52:09.898801445 88 54.97 54.98 50\r\n",
       "0  0D09:58:33.379186391 58 54.97 54.98 41\r\n"
      ]
     },
     "execution_count": 32,
     "metadata": {},
     "output_type": "execute_result"
    }
   ],
   "source": [
    "5#q:.sim.genq[ts;qs] p  //this don't have the moving average failure"
   ]
  },
  {
   "cell_type": "code",
   "execution_count": 36,
   "metadata": {},
   "outputs": [
    {
     "data": {
      "text/plain": [
       "0D09:13:04.237387776 0D09:30:33.279213309 0D09:34:53.977269530 0D09:52:09.898..\r\n"
      ]
     },
     "execution_count": 36,
     "metadata": {},
     "output_type": "execute_result"
    },
    {
     "data": {
      "text/plain": [
       "id time                 bs bp    ap    as\r\n",
       "-----------------------------------------\r\n",
       "0  0D09:14:16.948556171 89 55    55.01 56\r\n",
       "0  0D09:31:48.786109947 83 54.99 55    64\r\n",
       "0  0D09:39:25.841100051 14 54.99 55    5 \r\n"
      ]
     },
     "execution_count": 36,
     "metadata": {},
     "output_type": "execute_result"
    },
    {
     "data": {
      "text/plain": [
       "id time bs bp   ap    as\r\n",
       "------------------------\r\n",
       "9       34 94.9 94.91 62\r\n"
      ]
     },
     "execution_count": 36,
     "metadata": {},
     "output_type": "execute_result"
    },
    {
     "data": {
      "text/plain": [
       "0N 9D16:22:45.685423851 9D16:07:38.264016063 9D15:56:19.053046472 9D15:32:34...\r\n"
      ]
     },
     "execution_count": 36,
     "metadata": {},
     "output_type": "execute_result"
    }
   ],
   "source": [
    "//applying a delay to quote\n",
    "q`time\n",
    "3#p1:@[q;`time;.sim.delay]\n",
    "-1#p1 //time value does not exist\n",
    "reverse p1`time //0N"
   ]
  },
  {
   "cell_type": "code",
   "execution_count": 38,
   "metadata": {},
   "outputs": [
    {
     "data": {
      "text/plain": [
       "{y asc (neg\"j\"$x*n)?n:count y}\r\n"
      ]
     },
     "execution_count": 38,
     "metadata": {},
     "output_type": "execute_result"
    }
   ],
   "source": [
    "//trade occurs a lot lefss frequently than quotes, so we just need to pick a subset of quotes, we define filter to do that\n",
    "//.sim.filter\n",
    "{y asc (neg\"j\"$x*n)?n:count y} //x:percentage to keep, y: original list //sort them back to ascending index //slice"
   ]
  },
  {
   "cell_type": "code",
   "execution_count": 39,
   "metadata": {},
   "outputs": [
    {
     "data": {
      "text/plain": [
       "id time                 bs bp    ap    as\r\n",
       "-----------------------------------------\r\n",
       "0  0D09:59:11.633601856 58 54.97 54.98 41\r\n",
       "0  0D10:01:07.406759772 89 54.97 54.98 73\r\n",
       "0  0D11:42:49.125773669 79 54.98 54.99 76\r\n",
       "0  0D14:14:27.194278269 84 55.07 55.08 23\r\n",
       "0  0D14:34:15.978592805 14 55.11 55.12 9 \r\n",
       "0  0D14:51:48.461746657 30 55.16 55.17 63\r\n",
       "0  0D15:28:02.531046251 67 55.19 55.2  88\r\n",
       "0  0D15:35:40.992532898 21 55.2  55.21 34\r\n",
       "0  0D15:39:54.720615185 59 55.19 55.2  95\r\n",
       "0  0D15:58:01.538175556 85 55.19 55.2  75\r\n",
       "0  0D17:07:21.992882091 17 55.17 55.18 52\r\n",
       "0  0D17:32:28.375307813 57 55.24 55.25 10\r\n",
       "0  0D17:39:58.790562026 17 55.22 55.23 39\r\n",
       "0  0D17:55:54.184425244 50 55.23 55.24 82\r\n",
       "0  0D18:37:05.347032137 19 55.21 55.22 59\r\n",
       "0  0D19:40:27.775722618 44 55.22 55.23 99\r\n",
       "0  0D20:22:22.243181573 4  55.22 55.23 90\r\n",
       "0  0D21:20:32.726186179 63 55.2  55.21 84\r\n",
       "0  0D21:56:38.827046375 51 55.23 55.24 15\r\n",
       "0  0D21:58:57.553912804 31 55.25 55.26 80\r\n",
       "..\r\n"
      ]
     },
     "execution_count": 39,
     "metadata": {},
     "output_type": "execute_result"
    }
   ],
   "source": [
    ".sim.filter[.3] -1_@[;`time;.sim.delay] q //applying quote to have delay, dropping last row, and randomly taking 30% of trade"
   ]
  },
  {
   "cell_type": "markdown",
   "metadata": {},
   "source": [
    "### Subconciously, we made the same mistake again, we should do a delay for each ID rather than whole table,\n",
    "This is similar to MA mistake"
   ]
  },
  {
   "cell_type": "code",
   "execution_count": 44,
   "metadata": {},
   "outputs": [
    {
     "data": {
      "text/plain": [
       "0| 0    1    2    3    4    5    6    7    8    9    10   11   12   13   14  ..\r\n",
       "1| 1000 1001 1002 1003 1004 1005 1006 1007 1008 1009 1010 1011 1012 1013 1014..\r\n",
       "2| 2000 2001 2002 2003 2004 2005 2006 2007 2008 2009 2010 2011 2012 2013 2014..\r\n",
       "3| 3000 3001 3002 3003 3004 3005 3006 3007 3008 3009 3010 3011 3012 3013 3014..\r\n",
       "4| 4000 4001 4002 4003 4004 4005 4006 4007 4008 4009 4010 4011 4012 4013 4014..\r\n",
       "5| 5000 5001 5002 5003 5004 5005 5006 5007 5008 5009 5010 5011 5012 5013 5014..\r\n",
       "6| 6000 6001 6002 6003 6004 6005 6006 6007 6008 6009 6010 6011 6012 6013 6014..\r\n",
       "7| 7000 7001 7002 7003 7004 7005 7006 7007 7008 7009 7010 7011 7012 7013 7014..\r\n",
       "8| 8000 8001 8002 8003 8004 8005 8006 8007 8008 8009 8010 8011 8012 8013 8014..\r\n",
       "9| 9000 9001 9002 9003 9004 9005 9006 9007 9008 9009 9010 9011 9012 9013 9014..\r\n"
      ]
     },
     "execution_count": 44,
     "metadata": {},
     "output_type": "execute_result"
    }
   ],
   "source": [
    "group q`id //group is a dictionary with key = distinct id, and value = row with those id"
   ]
  },
  {
   "cell_type": "code",
   "execution_count": 47,
   "metadata": {},
   "outputs": [
    {
     "data": {
      "text/plain": [
       "0| +`id`time`bs`bp`ap`as!(0 0 0 0 0 0 0 0 0 0 0 0 0 0 0 0 0 0 0 0 0 0 0 0 0 0..\r\n",
       "1| +`id`time`bs`bp`ap`as!(1 1 1 1 1 1 1 1 1 1 1 1 1 1 1 1 1 1 1 1 1 1 1 1 1 1..\r\n",
       "2| +`id`time`bs`bp`ap`as!(2 2 2 2 2 2 2 2 2 2 2 2 2 2 2 2 2 2 2 2 2 2 2 2 2 2..\r\n",
       "3| +`id`time`bs`bp`ap`as!(3 3 3 3 3 3 3 3 3 3 3 3 3 3 3 3 3 3 3 3 3 3 3 3 3 3..\r\n",
       "4| +`id`time`bs`bp`ap`as!(4 4 4 4 4 4 4 4 4 4 4 4 4 4 4 4 4 4 4 4 4 4 4 4 4 4..\r\n",
       "5| +`id`time`bs`bp`ap`as!(5 5 5 5 5 5 5 5 5 5 5 5 5 5 5 5 5 5 5 5 5 5 5 5 5 5..\r\n",
       "6| +`id`time`bs`bp`ap`as!(6 6 6 6 6 6 6 6 6 6 6 6 6 6 6 6 6 6 6 6 6 6 6 6 6 6..\r\n",
       "7| +`id`time`bs`bp`ap`as!(7 7 7 7 7 7 7 7 7 7 7 7 7 7 7 7 7 7 7 7 7 7 7 7 7 7..\r\n",
       "8| +`id`time`bs`bp`ap`as!(8 8 8 8 8 8 8 8 8 8 8 8 8 8 8 8 8 8 8 8 8 8 8 8 8 8..\r\n",
       "9| +`id`time`bs`bp`ap`as!(9 9 9 9 9 9 9 9 9 9 9 9 9 9 9 9 9 9 9 9 9 9 9 9 9 9..\r\n"
      ]
     },
     "execution_count": 47,
     "metadata": {},
     "output_type": "execute_result"
    }
   ],
   "source": [
    "q group q`id //dictionary of tables, remember we need raze to get back table"
   ]
  },
  {
   "cell_type": "code",
   "execution_count": 48,
   "metadata": {},
   "outputs": [
    {
     "data": {
      "text/plain": [
       "id time                 bs bp    ap    as \r\n",
       "------------------------------------------\r\n",
       "0  0D09:19:41.132531333 89 55    55.01 56 \r\n",
       "0  0D09:32:46.006799218 83 54.99 55    64 \r\n",
       "0  0D09:43:13.722614600 14 54.99 55    5  \r\n",
       "0  0D09:54:34.617593926 88 54.97 54.98 50 \r\n",
       "0  0D09:59:03.831806078 58 54.97 54.98 41 \r\n",
       "0  0D09:59:30.700465088 82 54.97 54.98 59 \r\n",
       "0  0D10:07:09.542325857 89 54.97 54.98 73 \r\n",
       "0  0D10:12:08.401129021 91 54.95 54.96 24 \r\n",
       "0  0D10:36:19.331540425 99 54.92 54.93 13 \r\n",
       "0  0D10:37:12.635912863 58 55.02 55.03 80 \r\n",
       "0  0D10:45:12.307235071 60 55.02 55.03 47 \r\n",
       "0  0D11:10:20.295577268 95 54.99 55    100\r\n",
       "0  0D11:30:18.630858567 79 54.98 54.99 76 \r\n",
       "0  0D11:55:32.874419770 9  54.99 55    43 \r\n",
       "0  0D12:11:43.384166322 89 55.03 55.04 74 \r\n",
       "0  0D12:17:40.834026849 51 55.04 55.05 8  \r\n",
       "0  0D12:19:29.387198396 98 55.03 55.04 3  \r\n",
       "0  0D12:23:17.181982588 28 55    55.01 15 \r\n",
       "0  0D12:25:06.799001093 78 55    55.01 44 \r\n",
       "0  0D12:40:12.209306908 60 54.98 54.99 74 \r\n",
       "..\r\n"
      ]
     },
     "execution_count": 48,
     "metadata": {},
     "output_type": "execute_result"
    }
   ],
   "source": [
    "//generate trade without filter\n",
    "raze (-1_@[;`time;.sim.delay]@) each q group q`id //note 2 \"@\" here, the right @ will supress calculation\n",
    "//we are putting one table into this bracket function"
   ]
  },
  {
   "cell_type": "code",
   "execution_count": null,
   "metadata": {},
   "outputs": [],
   "source": [
    "//the following results is same as above, however, this time we are putting a list of row id into bracket\n",
    "//however "
   ]
  }
 ],
 "metadata": {
  "kernelspec": {
   "display_name": "Q (kdb+)",
   "language": "q",
   "name": "qpk"
  },
  "language_info": {
   "file_extension": ".q",
   "mimetype": "text/x-q",
   "name": "q",
   "version": "3.6.0"
  }
 },
 "nbformat": 4,
 "nbformat_minor": 2
}
