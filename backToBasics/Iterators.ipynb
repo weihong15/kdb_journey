{
 "cells": [
  {
   "cell_type": "markdown",
   "metadata": {},
   "source": [
    "# Iterators\n",
    "This notebook will be splited into ways iterators work\n"
   ]
  },
  {
   "cell_type": "markdown",
   "metadata": {},
   "source": [
    "## Content Page\n",
    "- [Iterators for Unary Function using **each** or **'**(single apostrophe)](#Iterators-for-Unary-Function)"
   ]
  },
  {
   "cell_type": "markdown",
   "metadata": {},
   "source": [
    "## Iterators for Unary Function\n",
    "We can either use each or '(single apostrophe). However good q style prefer each over '"
   ]
  },
  {
   "cell_type": "code",
   "execution_count": 6,
   "metadata": {},
   "outputs": [
    {
     "data": {
      "text/plain": [
       "1 12 2 9\r\n"
      ]
     },
     "execution_count": 6,
     "metadata": {},
     "output_type": "execute_result"
    }
   ],
   "source": [
    "L:(\"A\";\"presentation\";\"on\";\"iterators\")\n",
    "count each L //Prefered style"
   ]
  },
  {
   "cell_type": "code",
   "execution_count": 2,
   "metadata": {},
   "outputs": [
    {
     "data": {
      "text/plain": [
       "1 12 2 9\r\n"
      ]
     },
     "execution_count": 2,
     "metadata": {},
     "output_type": "execute_result"
    }
   ],
   "source": [
    "count'[L] //Avoid where possible"
   ]
  },
  {
   "cell_type": "code",
   "execution_count": 3,
   "metadata": {},
   "outputs": [
    {
     "data": {
      "text/plain": [
       "1 12 2 9\r\n"
      ]
     },
     "execution_count": 3,
     "metadata": {},
     "output_type": "execute_result"
    }
   ],
   "source": [
    "(count')L //Avoid where possible)"
   ]
  },
  {
   "cell_type": "code",
   "execution_count": 17,
   "metadata": {},
   "outputs": [
    {
     "data": {
      "text/plain": [
       "106h\r\n"
      ]
     },
     "execution_count": 17,
     "metadata": {},
     "output_type": "execute_result"
    }
   ],
   "source": [
    "type (count') //We note that single apostrophe '  will transform a function, but not used as a function, hence adverb."
   ]
  },
  {
   "cell_type": "code",
   "execution_count": 18,
   "metadata": {},
   "outputs": [
    {
     "data": {
      "text/plain": [
       "1\r\n",
       "1 1 1 1 1 1 1 1 1 1 1 1\r\n",
       "1 1\r\n",
       "1 1 1 1 1 1 1 1 1\r\n"
      ]
     },
     "execution_count": 18,
     "metadata": {},
     "output_type": "execute_result"
    }
   ],
   "source": [
    "count each'L //Unfortunately, to apply a unary function at depth we do need to use the apostrophe."
   ]
  },
  {
   "cell_type": "code",
   "execution_count": 19,
   "metadata": {},
   "outputs": [
    {
     "data": {
      "text/plain": [
       "1\r\n",
       "1 1 1 1 1 1 1 1 1 1 1 1\r\n",
       "1 1\r\n",
       "1 1 1 1 1 1 1 1 1\r\n"
      ]
     },
     "execution_count": 19,
     "metadata": {},
     "output_type": "execute_result"
    }
   ],
   "source": [
    "(count')'[L]"
   ]
  },
  {
   "cell_type": "markdown",
   "metadata": {},
   "source": [
    "## Iterators for Binary Function or >2 arguements function\n",
    "We use '(single apostrophe) for binary function  \n",
    "for both the arguements, they should have the **same length**, or **one of it of length one**(extended)"
   ]
  },
  {
   "cell_type": "code",
   "execution_count": 16,
   "metadata": {},
   "outputs": [
    {
     "data": {
      "text/plain": [
       "1011b\r\n"
      ]
     },
     "execution_count": 16,
     "metadata": {},
     "output_type": "execute_result"
    }
   ],
   "source": [
    "\"Aqns\"in'L  //both of length four, so pairwise i.e. \"A\" in \"A\", \"q\" in \"presentation\""
   ]
  },
  {
   "cell_type": "code",
   "execution_count": 15,
   "metadata": {},
   "outputs": [
    {
     "data": {
      "text/plain": [
       "111b\r\n"
      ]
     },
     "execution_count": 15,
     "metadata": {},
     "output_type": "execute_result"
    }
   ],
   "source": [
    "enlist[\"omg\"] in \"omgwtfbbq\""
   ]
  },
  {
   "cell_type": "code",
   "execution_count": 17,
   "metadata": {},
   "outputs": [
    {
     "data": {
      "text/plain": [
       "\"AA\"\r\n",
       "\"qpresentation\"\r\n",
       "\"non\"\r\n",
       "\"siterators\"\r\n"
      ]
     },
     "execution_count": 17,
     "metadata": {},
     "output_type": "execute_result"
    }
   ],
   "source": [
    "\"Aqns\",'L //same length, so will join piecewise //,'[\"Aqns\";L]"
   ]
  },
  {
   "cell_type": "code",
   "execution_count": 18,
   "metadata": {},
   "outputs": [
    {
     "data": {
      "text/plain": [
       "\"AA\"\r\n",
       "\"Apresentation\"\r\n",
       "\"Aon\"\r\n",
       "\"Aiterators\"\r\n"
      ]
     },
     "execution_count": 18,
     "metadata": {},
     "output_type": "execute_result"
    }
   ],
   "source": [
    "\"A\",'L // Atom \"A\" is extended, length one and length four  //equivalently ,'[\"A\";L]"
   ]
  },
  {
   "cell_type": "code",
   "execution_count": 21,
   "metadata": {},
   "outputs": [
    {
     "data": {
      "text/plain": [
       "1005000 1000000 1007000\r\n"
      ]
     },
     "execution_count": 21,
     "metadata": {},
     "output_type": "execute_result"
    }
   ],
   "source": [
    "{x+y*z}'[1000000;1 0 1;5000 6000 7000] // First arg here is extended"
   ]
  },
  {
   "cell_type": "markdown",
   "metadata": {},
   "source": [
    "## Iterators for selecting elements (case)\n",
    "The left arguement will determine where to select the element  \n",
    "The right arguement(a list), will require all it elements of same length, or some of it as len 1"
   ]
  },
  {
   "cell_type": "code",
   "execution_count": 25,
   "metadata": {},
   "outputs": [
    {
     "data": {
      "text/plain": [
       "\"xbz\"\r\n"
      ]
     },
     "execution_count": 25,
     "metadata": {},
     "output_type": "execute_result"
    },
    {
     "data": {
      "text/plain": [
       "\"cab\"\r\n"
      ]
     },
     "execution_count": 25,
     "metadata": {},
     "output_type": "execute_result"
    }
   ],
   "source": [
    "1 0 1'[\"abc\";\"xyz\"]\n",
    "2 0 1'[\"a\";\"b\";\"cde\"] // Atoms still extended as neccesary"
   ]
  },
  {
   "cell_type": "code",
   "execution_count": 28,
   "metadata": {},
   "outputs": [
    {
     "data": {
      "text/plain": [
       "1b\r\n"
      ]
     },
     "execution_count": 28,
     "metadata": {},
     "output_type": "execute_result"
    }
   ],
   "source": [
    "(1 0 1'[\"abc\";\"xyz\"])~?[010b;\"abc\";\"xyz\"]  //normally if for two elements, we will try to use vector conditional for clarity\n",
    "// hard to replicate with vector condition if right arguement has more than two elements"
   ]
  },
  {
   "cell_type": "code",
   "execution_count": 29,
   "metadata": {},
   "outputs": [
    {
     "data": {
      "text/plain": [
       "pref   home office mobile call\r\n",
       "------------------------------\r\n",
       "office 93   90     12     90  \r\n",
       "mobile 54   43     10     10  \r\n",
       "home   38   90     1      38  \r\n",
       "office 97   84     90     84  \r\n",
       "office 88   63     73     63  \r\n"
      ]
     },
     "execution_count": 29,
     "metadata": {},
     "output_type": "execute_result"
    }
   ],
   "source": [
    "t:([]pref:5?`home`office`mobile;home:5?100;office:5?100;mobile:5?100)\n",
    "update call:(`home`office`mobile?pref)'[home;office;mobile] from t"
   ]
  },
  {
   "cell_type": "code",
   "execution_count": null,
   "metadata": {},
   "outputs": [],
   "source": []
  }
 ],
 "metadata": {
  "kernelspec": {
   "display_name": "Q (kdb+)",
   "language": "q",
   "name": "qpk"
  },
  "language_info": {
   "file_extension": ".q",
   "mimetype": "text/x-q",
   "name": "q",
   "version": "3.6.0"
  }
 },
 "nbformat": 4,
 "nbformat_minor": 2
}
