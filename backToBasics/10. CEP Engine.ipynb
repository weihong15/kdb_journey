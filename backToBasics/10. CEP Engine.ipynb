{
 "cells": [
  {
   "cell_type": "markdown",
   "metadata": {},
   "source": [
    "Define timer by \\t 1000 //this means 1second call .z.ts once  \n",
    ".z.ts must take one arguement, time"
   ]
  },
  {
   "cell_type": "code",
   "execution_count": 10,
   "metadata": {},
   "outputs": [
    {
     "data": {
      "text/plain": [
       "name func time\r\n",
       "--------------\r\n"
      ]
     },
     "execution_count": 10,
     "metadata": {},
     "output_type": "execute_result"
    },
    {
     "name": "stdout",
     "output_type": "stream",
     "text": [
      "name func time\r\n",
      "--------------\r\n"
     ]
    },
    {
     "data": {
      "text/plain": [
       "name func time\r\n",
       "--------------\r\n"
      ]
     },
     "execution_count": 10,
     "metadata": {},
     "output_type": "execute_result"
    }
   ],
   "source": [
    "([]name:`symbol$();func:();time:`timestamp$())\n",
    "([]name:`$();func:();time:\"p\"$())\n",
    "show timer.job: flip `name`func`time!\"s*p\"$\\:() //all three are the same, last will be shortest for many columns"
   ]
  },
  {
   "cell_type": "code",
   "execution_count": 11,
   "metadata": {},
   "outputs": [
    {
     "data": {
      "text/plain": [
       "c   | t f a\r\n",
       "----| -----\r\n",
       "name| s    \r\n",
       "func|      \r\n",
       "time| p    \r\n"
      ]
     },
     "execution_count": 11,
     "metadata": {},
     "output_type": "execute_result"
    },
    {
     "data": {
      "text/plain": [
       "c   | t f a\r\n",
       "----| -----\r\n",
       "name| s    \r\n",
       "func|      \r\n",
       "time| p    \r\n"
      ]
     },
     "execution_count": 11,
     "metadata": {},
     "output_type": "execute_result"
    },
    {
     "data": {
      "text/plain": [
       "c   | t f a\r\n",
       "----| -----\r\n",
       "name| s    \r\n",
       "func|      \r\n",
       "time| p    \r\n"
      ]
     },
     "execution_count": 11,
     "metadata": {},
     "output_type": "execute_result"
    },
    {
     "data": {
      "text/plain": [
       "name func time\r\n",
       "--------------\r\n",
       "              \r\n"
      ]
     },
     "execution_count": 11,
     "metadata": {},
     "output_type": "execute_result"
    },
    {
     "data": {
      "text/plain": [
       "name func time                         \r\n",
       "---------------------------------------\r\n",
       "     test 2020.04.02D22:27:15.136472000\r\n"
      ]
     },
     "execution_count": 11,
     "metadata": {},
     "output_type": "execute_result"
    }
   ],
   "source": [
    "meta timer.job //do note that the func will change type depending on first entry that goes in, we need make it generic\n",
    "meta timer.job upsert (`;();.z.P) //adding a mixed list will make it well, can add identity too\n",
    "meta timer.job upsert (`;::;.z.P)\n",
    "1#flip `name`func`time!\"s*p\"$\\:() //this is also a good way //adding empty row\n",
    "timer.job upsert (`;`test;.z.P) //can add any rubbish in middle row now"
   ]
  },
  {
   "cell_type": "markdown",
   "metadata": {},
   "source": [
    "#### upsert  \n",
    "upsert[table;row]  \n",
    "table: (symbol:in placed return symbol), (name: not in palce, return table)  \n",
    "row/table: a list or a table,\n",
    "\n",
    "#### xdesc\n",
    "xdesc[col;table]  \n",
    "col: must be symbol  \n",
    "table: can be symbol or name\n",
    "\n",
    "### Key to make them accept a table or a symbol\n",
    "```\n",
    "q)upsert\n",
    ".[;();,;]\n",
    "```\n",
    "so to make drop works for both table and symbol we can define\n",
    "```\n",
    "q) newDrop:.[;();_;]\n",
    "```\n"
   ]
  },
  {
   "cell_type": "code",
   "execution_count": 6,
   "metadata": {},
   "outputs": [
    {
     "data": {
      "text/plain": [
       "name func time\r\n",
       "--------------\r\n",
       "          0W  \r\n"
      ]
     },
     "execution_count": 6,
     "metadata": {},
     "output_type": "execute_result"
    }
   ],
   "source": [
    "//however in this scenerio, we want our first row to be something that never runs// infinity time, so we won't see it\n",
    "get `timer.job upsert (`;();0Wp) //back tick on table name, inplaced. return symbol. value to print it"
   ]
  },
  {
   "cell_type": "markdown",
   "metadata": {},
   "source": [
    "### Four Utilities function for timer\n",
    "- merge: insert new timer events\n",
    "- add: convert timestamps tp GMT before calling merge\n",
    "- run: execute event from timer.job\n",
    "- loop: called from kdb+ timer and check queue for event to run  \n",
    "the kdb timer will be called every few millisecond.  \n",
    "Note that kdb list/table is similar to python, appending and removing from the end is faster than from the front"
   ]
  },
  {
   "cell_type": "code",
   "execution_count": 28,
   "metadata": {},
   "outputs": [
    {
     "data": {
      "text/plain": [
       "k){$[#x;.Q.ord[>:;x]y;y]}[`time].[;();,;]\r\n"
      ]
     },
     "execution_count": 28,
     "metadata": {},
     "output_type": "execute_result"
    }
   ],
   "source": [
    "system \"l qtips/timer.q\"\n",
    ".timer.merge"
   ]
  },
  {
   "cell_type": "code",
   "execution_count": 8,
   "metadata": {},
   "outputs": [],
   "source": [
    "/ merge record(y) into table(x) in reverse chronological order\n",
    "merge:`time xdesc upsert //upsert takes 2 input, table and data, so merge takes 2 input too"
   ]
  },
  {
   "cell_type": "code",
   "execution_count": 12,
   "metadata": {},
   "outputs": [
    {
     "data": {
      "text/plain": [
       "{[t;n;f;tm]\r\n",
       " r:(n;f;gtime tm);\r\n",
       " t:merge[t;$[0h>type tm;r;reverse flip r]];\r\n",
       " t}\r\n"
      ]
     },
     "execution_count": 12,
     "metadata": {},
     "output_type": "execute_result"
    }
   ],
   "source": [
    "//.timer.add\n",
    "{[t;n;f;tm] //table;eventName;function;time to run it\n",
    " r:(n;f;gtime tm);    //gtime converts to GMT, r is the data\n",
    " t:merge[t;$[0h>type tm;r;reverse flip r]]; //if atom, append atom, else flip will make any single element into right length\n",
    " t} //reverse is for first in, bottom of list\n",
    "//Notice we do not hard code the table inside, now we have the flexibility of putting in a symbol or table\n",
    "//symbol being a global table and later being a local table\n",
    "//Note that global is more efficient as it is inplaced\n",
    "//so this will return either a table or a symbol"
   ]
  },
  {
   "cell_type": "code",
   "execution_count": 3,
   "metadata": {},
   "outputs": [
    {
     "data": {
      "text/plain": [
       "{[t;tm]\r\n",
       " while[tm>=last tms:t `time;t:run[t;-1+count tms;tm]];\r\n",
       " t}\r\n"
      ]
     },
     "execution_count": 3,
     "metadata": {},
     "output_type": "execute_result"
    }
   ],
   "source": [
    "//.timer.loop  //periodically check timer.job for runnable event, to be used in .z.ts, last arguement is current time\n",
    "{[t;tm] //normally we will not use while loop for kdb, but the table might change , while can inspect modified table\n",
    " while[tm>=last tms:t `time;t:run[t;-1+count tms;tm]]; \n",
    " t} //note that: .z.ts:.timer.loop[`timer.job]"
   ]
  },
  {
   "cell_type": "code",
   "execution_count": 2,
   "metadata": {},
   "outputs": [
    {
     "data": {
      "text/plain": [
       "{[t;i;tm]\r\n",
       " j:t i;\r\n",
       " t:.[t;();_;i];\r\n",
       " r:value (f:j `func),ltime tm;\r\n",
       " if[not null r;merge[t;(j `name;f;tm+r)]];\r\n",
       " t}\r\n"
      ]
     },
     "execution_count": 2,
     "metadata": {},
     "output_type": "execute_result"
    }
   ],
   "source": [
    "//.timer.run \n",
    "{[t;i;tm] //table, row index, current time in GMT\n",
    " j:t i; //pick out i row\n",
    " t:.[t;();_;i]; //drop row i, note that t:t_i will not work with tables name, so need use apply method, so work on both\n",
    " r:value (f:j `func),ltime tm; //run the function with local time as input,\n",
    " if[not null r;merge[t;(j `name;f;tm+r)]]; //if above results is not null, repeat again \n",
    " t}"
   ]
  },
  {
   "cell_type": "code",
   "execution_count": 30,
   "metadata": {
    "scrolled": true
   },
   "outputs": [
    {
     "data": {
      "text/plain": [
       "{[d;et;f;tm]if[tm<et;@[value;f,tm;0N!];:d]}\r\n"
      ]
     },
     "execution_count": 30,
     "metadata": {},
     "output_type": "execute_result"
    }
   ],
   "source": [
    "//.timer.until //delay, endTime, function, currentTime\n",
    "{[d;et;f;tm]if[tm<et;@[value;f,tm;0N!];:d]} //if start time<end time, attempt to find value of f with arguement tm, else 0N!"
   ]
  },
  {
   "cell_type": "code",
   "execution_count": 36,
   "metadata": {},
   "outputs": [
    {
     "data": {
      "text/plain": [
       "`timer.job\r\n"
      ]
     },
     "execution_count": 36,
     "metadata": {},
     "output_type": "execute_result"
    }
   ],
   "source": [
    "//to run one off stuff just use add\n",
    "e:(`.timer.until;0D00:00:05;.z.P+0D00:00:30;`.q.show); //every five seconds for next 30 sections show the time\n",
    ".timer.add[`timer.job;`a;e;.z.P]"
   ]
  },
  {
   "cell_type": "code",
   "execution_count": 37,
   "metadata": {},
   "outputs": [
    {
     "data": {
      "text/plain": [
       "name func                                                                        time                         \r\n",
       "--------------------------------------------------------------------------------------------------------------\r\n",
       "     ()                                                                          0W                           \r\n",
       "a    (`.timer.until;0D00:00:05.000000000;2020.04.03D01:26:43.740606000;`.q.show) 2020.04.02D17:26:13.740616000\r\n",
       "a    (`.timer.until;0D00:00:05.000000000;2020.04.03D01:26:07.351885000;`.q.show) 2020.04.02D17:25:37.352113000\r\n"
      ]
     },
     "execution_count": 37,
     "metadata": {},
     "output_type": "execute_result"
    }
   ],
   "source": [
    "system \"c 100 500\"\n",
    "timer.job "
   ]
  },
  {
   "cell_type": "code",
   "execution_count": null,
   "metadata": {},
   "outputs": [],
   "source": []
  }
 ],
 "metadata": {
  "kernelspec": {
   "display_name": "Q (kdb+)",
   "language": "q",
   "name": "qpk"
  },
  "language_info": {
   "file_extension": ".q",
   "mimetype": "text/x-q",
   "name": "q",
   "version": "3.6.0"
  }
 },
 "nbformat": 4,
 "nbformat_minor": 2
}
