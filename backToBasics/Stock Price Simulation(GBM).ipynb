{
 "cells": [
  {
   "cell_type": "markdown",
   "metadata": {},
   "source": [
    "# Geometric Brownian Motion\n",
    "https://en.wikipedia.org/wiki/Geometric_Brownian_motion  \n",
    "A stochastic Process $S_t$ is a GBM if it follows the follow SDE:\n",
    "$$dS_t=\\mu S_t dt +\\sigma S_t dW_t$$\n",
    "where $W_t$ is a Wiener Process, $\\mu$ (% drift) and $\\sigma$(volatility)\n",
    "By Ito's, we can solve the above eqution to\n",
    "$$S_t = S_0 \\exp((\\mu - \\frac{\\sigma^2}{2})t+\\sigma W_t)$$\n",
    "\n",
    "## Wiener Process\n",
    "https://en.wikipedia.org/wiki/Wiener_process  \n",
    "There are four conditions for it to be wiener, but for this instance the property we are interested in is:\n",
    "$$W_t \\sim \\mathcal{N}(0 ,t) = \\sqrt{t} \\mathcal{N}(0 ,1)$$\n",
    "\n",
    "### kdb Formulae for GBM\n",
    "in .stat namespace. In this case we are calculating $S_t/S_0$, the four arguements are\n",
    "* $s = \\sigma$\n",
    "* $r = \\mu$\n",
    "* $t = t$\n",
    "* $z = \\mathcal{N}(0 ,1)$ (or a vectors of normal)|"
   ]
  },
  {
   "cell_type": "code",
   "execution_count": 1,
   "metadata": {},
   "outputs": [],
   "source": [
    "gbm:{[s;r;t;z]exp (t*r-.5*s*s)+z*s*sqrt t} //multiply by 0.5 instead of %2, better"
   ]
  },
  {
   "cell_type": "code",
   "execution_count": 2,
   "metadata": {},
   "outputs": [
    {
     "data": {
      "text/plain": [
       "{\r\n",
       " i:x<.5;\r\n",
       " x:?[i;1f-x;x];\r\n",
       " x:?[x<.92;cnorminv x;tnorminv x];\r\n",
       " x:?[i;neg x;x];\r\n",
       " x}\r\n"
      ]
     },
     "execution_count": 2,
     "metadata": {},
     "output_type": "execute_result"
    }
   ],
   "source": [
    "system \"l qtips/stat.q\"\n",
    "//importing norminv\n",
    ".stat.norminv //check whether function exist"
   ]
  },
  {
   "cell_type": "code",
   "execution_count": 3,
   "metadata": {},
   "outputs": [
    {
     "data": {
      "text/plain": [
       "0.9948897 1.00083 1.000777 0.9955672 0.9827334 0.9902536 1.015048 1.001668 1...\r\n"
      ]
     },
     "execution_count": 3,
     "metadata": {},
     "output_type": "execute_result"
    }
   ],
   "source": [
    "// generate path for 1 year of data, 252 biz days\n",
    ".stat.gbm[.3;.05;1%252] .stat.norminv 252?1f //sigma = 30%, mu = 5%, dt=1 //sigma and mu for whole period? Y"
   ]
  },
  {
   "cell_type": "code",
   "execution_count": 4,
   "metadata": {},
   "outputs": [
    {
     "data": {
      "text/plain": [
       "1.319982\r\n"
      ]
     },
     "execution_count": 4,
     "metadata": {},
     "output_type": "execute_result"
    },
    {
     "data": {
      "text/plain": [
       "0.9878928 1.016377 1.021751 1.019821 1.025445 1.069637 1.10095 1.108199 1.132..\r\n"
      ]
     },
     "execution_count": 4,
     "metadata": {},
     "output_type": "execute_result"
    }
   ],
   "source": [
    "//above is daily returns \n",
    "prd .stat.gbm[.3;.05;1%252] .stat.norminv 252?1f //cummulative returns aggregating function: reduce length\n",
    "prds .stat.gbm[.3;.05;1%252] .stat.norminv 252?1f //uniform function : return list of equal length"
   ]
  },
  {
   "cell_type": "code",
   "execution_count": 30,
   "metadata": {},
   "outputs": [
    {
     "data": {
      "text/plain": [
       "1.050408\r\n"
      ]
     },
     "execution_count": 30,
     "metadata": {},
     "output_type": "execute_result"
    }
   ],
   "source": [
    "avg 5000{prd .stat.gbm[.1;.05;1%500] .stat.norminv 500?1f}\\1 //investigate on whether really 5%."
   ]
  },
  {
   "cell_type": "markdown",
   "metadata": {},
   "source": [
    "## Path Generation with weekends consideration\n",
    "note we use 2 arguement deltas, else first element will be itself(2001.01.01 === 365), with the first arguement, first element is 0"
   ]
  },
  {
   "cell_type": "code",
   "execution_count": 3,
   "metadata": {},
   "outputs": [
    {
     "data": {
      "text/plain": [
       "1 1.000687 1.00133 0.997638 0.9833011 0.9695503 0.9816554 0.9830126 0.9916588..\r\n"
      ]
     },
     "execution_count": 3,
     "metadata": {},
     "output_type": "execute_result"
    }
   ],
   "source": [
    "system \"l qtips/util.q\"\n",
    "s:.3;r:.05;dt:.util.wday 2001.01.01+til 365;tm:deltas[first dt;dt]%365; \n",
    "prds .stat.gbm[s;r;tm] .stat.norminv (count dt)?1f"
   ]
  },
  {
   "cell_type": "code",
   "execution_count": 3,
   "metadata": {},
   "outputs": [
    {
     "data": {
      "text/plain": [
       "261\r\n"
      ]
     },
     "execution_count": 3,
     "metadata": {},
     "output_type": "execute_result"
    }
   ],
   "source": [
    "count tm //261 days including PH, maybe 252 is \"better\""
   ]
  },
  {
   "cell_type": "code",
   "execution_count": 1,
   "metadata": {},
   "outputs": [],
   "source": [
    "path:{[s;r;t]\n",
    "    z:.stat.norminv count[t]?1f;\n",
    "    prds .stat.gbm[s;r;deltas[first t;t]] z}"
   ]
  },
  {
   "cell_type": "code",
   "execution_count": 6,
   "metadata": {},
   "outputs": [
    {
     "data": {
      "text/plain": [
       "1 0.9872489 0.9881535 0.9815315 0.9782276 1.030696 1.03243 1.037051 1.030438 ..\r\n"
      ]
     },
     "execution_count": 6,
     "metadata": {},
     "output_type": "execute_result"
    }
   ],
   "source": [
    "path[.3;.05](1%365.25)*.util.wday 2001.01.01+til 365"
   ]
  },
  {
   "cell_type": "code",
   "execution_count": 7,
   "metadata": {},
   "outputs": [
    {
     "data": {
      "text/plain": [
       "0.001026694 0.001028595 0.001030497 0.001032398 0.001034299 0.0010362 0.00103..\r\n"
      ]
     },
     "execution_count": 7,
     "metadata": {},
     "output_type": "execute_result"
    }
   ],
   "source": [
    ".util.rng[0D00:01;0D09;0D15]%365D06 //365D06 = 1 year"
   ]
  },
  {
   "cell_type": "code",
   "execution_count": 9,
   "metadata": {},
   "outputs": [
    {
     "data": {
      "text/plain": [
       "1 0.9994987 0.9989085 0.9998023 0.9995217 1.000419 0.9997889 1.000427 1.00059..\r\n"
      ]
     },
     "execution_count": 9,
     "metadata": {},
     "output_type": "execute_result"
    }
   ],
   "source": [
    "path[.3;.05] .util.rng[0D00:01;0D09;0D15]%365D06 //path for 1 day //minute data"
   ]
  },
  {
   "cell_type": "code",
   "execution_count": 10,
   "metadata": {},
   "outputs": [
    {
     "data": {
      "text/plain": [
       "100 100.05 100.05 100 100 100 100 100 100 100 99.95 100 100 100 100.05 100 10..\r\n"
      ]
     },
     "execution_count": 10,
     "metadata": {},
     "output_type": "execute_result"
    }
   ],
   "source": [
    ".util.rnd[0.05] 100* path[.3;.05] .util.rng[0D00:01;0D09;0D15]%365D06 //path for 1 day //imagine S_0 = 100"
   ]
  },
  {
   "cell_type": "code",
   "execution_count": null,
   "metadata": {},
   "outputs": [],
   "source": []
  }
 ],
 "metadata": {
  "kernelspec": {
   "display_name": "Q (kdb+)",
   "language": "q",
   "name": "qpk"
  },
  "language_info": {
   "file_extension": ".q",
   "mimetype": "text/x-q",
   "name": "q",
   "version": "3.6.0"
  }
 },
 "nbformat": 4,
 "nbformat_minor": 2
}
