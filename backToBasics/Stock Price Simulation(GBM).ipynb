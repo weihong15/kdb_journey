{
 "cells": [
  {
   "cell_type": "markdown",
   "metadata": {},
   "source": [
    "# Geometric Brownian Motion\n",
    "https://en.wikipedia.org/wiki/Geometric_Brownian_motion  \n",
    "A stochastic Process $S_t$ is a GBM if it follows the follow SDE:\n",
    "$$dS_t=\\mu S_t dt +\\sigma S_t dW_t$$\n",
    "where $W_t$ is a Wiener Process, $\\mu$ (% drift) and $\\sigma$(volatility)\n",
    "By Ito's, we can solve the above eqution to\n",
    "$$S_t = S_0 \\exp((\\mu - \\frac{\\sigma^2}{2})t+\\sigma W_t)$$\n",
    "\n",
    "## Wiener Process\n",
    "https://en.wikipedia.org/wiki/Wiener_process  \n",
    "There are four conditions for it to be wiener, but for this instance the property we are interested in is:\n",
    "$$W_t \\sim \\mathcal{N}(0 ,t) = \\sqrt{t} \\mathcal{N}(0 ,1)$$\n",
    "\n",
    "### kdb Formulae for GBM\n",
    "in .stat namespace. In this case we are calculating $S_t/S_0$, the four arguements are\n",
    "* $s = \\sigma$\n",
    "* $r = \\mu$\n",
    "* $t = t$\n",
    "* $z = \\mathcal{N}(0 ,1)$ (or a vectors of normal)|"
   ]
  },
  {
   "cell_type": "code",
   "execution_count": 2,
   "metadata": {},
   "outputs": [],
   "source": [
    "gbm:{[s;r;t;z]exp (t*r-.5*s*s)+z*s*sqrt t}"
   ]
  },
  {
   "cell_type": "code",
   "execution_count": null,
   "metadata": {},
   "outputs": [],
   "source": []
  }
 ],
 "metadata": {
  "kernelspec": {
   "display_name": "Q (kdb+)",
   "language": "q",
   "name": "qpk"
  },
  "language_info": {
   "file_extension": ".q",
   "mimetype": "text/x-q",
   "name": "q",
   "version": "3.6.0"
  }
 },
 "nbformat": 4,
 "nbformat_minor": 2
}
