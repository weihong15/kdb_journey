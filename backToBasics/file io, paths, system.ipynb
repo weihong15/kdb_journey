{
 "cells": [
  {
   "cell_type": "markdown",
   "metadata": {},
   "source": [
    "## Loading a file\n",
    "M1: ``` \\l stat.q```  \n",
    "M2: ``` path:\"/tmp\"  \n",
    "        system \"l \",path,\"/stat.q\"```"
   ]
  },
  {
   "cell_type": "markdown",
   "metadata": {},
   "source": [
    "## Building file path using sv and vs"
   ]
  },
  {
   "cell_type": "code",
   "execution_count": 5,
   "metadata": {},
   "outputs": [
    {
     "data": {
      "text/plain": [
       "`stat.q\r\n"
      ]
     },
     "execution_count": 5,
     "metadata": {},
     "output_type": "execute_result"
    },
    {
     "data": {
      "text/plain": [
       "`:/tmp/stat.q\r\n"
      ]
     },
     "execution_count": 5,
     "metadata": {},
     "output_type": "execute_result"
    }
   ],
   "source": [
    "` sv `stat`q //if a list of symbol, ` sv will change all other ` into .  (i.e. list of symbols into a symbol connected by .)\n",
    "path: `:/tmp\n",
    "` sv path,`stat.q //if the list of symbol begins with : it will change ` into / (i.e. list of symbol into a symbol connected by /)"
   ]
  },
  {
   "cell_type": "code",
   "execution_count": 6,
   "metadata": {},
   "outputs": [
    {
     "data": {
      "text/plain": [
       "`file`ext`ext2\r\n"
      ]
     },
     "execution_count": 6,
     "metadata": {},
     "output_type": "execute_result"
    },
    {
     "data": {
      "text/plain": [
       "`:/tmp`state.q\r\n"
      ]
     },
     "execution_count": 6,
     "metadata": {},
     "output_type": "execute_result"
    }
   ],
   "source": [
    "` vs `file.ext.ext2 //likewise if a symbol without colon, change . into list of symbols\n",
    "` vs `:/tmp/state.q //with colon, change / into symbols"
   ]
  },
  {
   "cell_type": "code",
   "execution_count": 17,
   "metadata": {},
   "outputs": [
    {
     "data": {
      "text/plain": [
       "`:rah.q`:meh.q`:omgwtf/bbq.q\r\n"
      ]
     },
     "execution_count": 17,
     "metadata": {},
     "output_type": "execute_result"
    }
   ],
   "source": [
    "//hsym, add to colon to every symbol\n",
    "hsym `rah.q`meh.q,`$\"omgwtf/bbq.q\""
   ]
  },
  {
   "cell_type": "markdown",
   "metadata": {},
   "source": [
    "## File Existence"
   ]
  },
  {
   "cell_type": "code",
   "execution_count": null,
   "metadata": {},
   "outputs": [],
   "source": [
    "system \"cd ..\""
   ]
  },
  {
   "cell_type": "code",
   "execution_count": 11,
   "metadata": {},
   "outputs": [
    {
     "data": {
      "text/plain": [
       "`.git`IPC`README.md`backToBasics\r\n"
      ]
     },
     "execution_count": 11,
     "metadata": {},
     "output_type": "execute_result"
    },
    {
     "data": {
      "text/plain": [
       "`:README.md\r\n"
      ]
     },
     "execution_count": 11,
     "metadata": {},
     "output_type": "execute_result"
    },
    {
     "data": {
      "text/plain": [
       "`README.md`chatroom`deferredResponse`ipc_cmtp\r\n"
      ]
     },
     "execution_count": 11,
     "metadata": {},
     "output_type": "execute_result"
    }
   ],
   "source": [
    "key`:.    //this just mean current directory\n",
    "key`:README.md  //if files exist will return file name\n",
    "key`:IPC   //if directory exist will return content of folder"
   ]
  },
  {
   "cell_type": "code",
   "execution_count": 12,
   "metadata": {},
   "outputs": [],
   "source": [
    "//key `:doesNotExist.q  //suppose to return blank list but don't work on jupyter"
   ]
  },
  {
   "cell_type": "markdown",
   "metadata": {},
   "source": [
    "```\n",
    "q)key`:.\n",
    "`.git`IPC`README.md`backToBasics\n",
    "q)key`:doesNotExist.q\n",
    "q)key`:IPC\n",
    "`README.md`chatroom`deferredResponse`ipc_cmtp\n",
    "q)()~key`:doesNotExist.q \n",
    "1b\n",
    "```"
   ]
  },
  {
   "cell_type": "code",
   "execution_count": 14,
   "metadata": {
    "collapsed": true
   },
   "outputs": [
    {
     "ename": "\u001b[0;31mREADME.md\u001b[0m",
     "evalue": "\u001b[0;31mREADME.md\u001b[0m",
     "output_type": "error",
     "traceback": [
      "\u001b[0;31mevaluation error:\n\u001b[0m",
      "\u001b[0;31mREADME.md\u001b[0m",
      "\u001b[0;31m\u001b[0m",
      "\u001b[0;31m  [1]  (.Q.l)\n\n\u001b[0m",
      "\u001b[0;31m  [0]  if[f~key f;system \"l \", 1_string f]  //nope that 1_string will remove leading colon\r\n                  ^\r\n\u001b[0m"
     ]
    }
   ],
   "source": [
    "//loading a file that dne will result in error, so better to check whether it exist\n",
    "if[f~key f;system \"l \", 1_string f]  //nope that 1_string will remove leading colon"
   ]
  },
  {
   "cell_type": "markdown",
   "metadata": {},
   "source": [
    "## Environmental variables"
   ]
  },
  {
   "cell_type": "code",
   "execution_count": 18,
   "metadata": {},
   "outputs": [
    {
     "data": {
      "text/plain": [
       "\"C:\\\\Users\\\\Weihong\\\\Anaconda3\\\\q\"\r\n"
      ]
     },
     "execution_count": 18,
     "metadata": {},
     "output_type": "execute_result"
    },
    {
     "data": {
      "text/plain": [
       "\"\"\r\n"
      ]
     },
     "execution_count": 18,
     "metadata": {},
     "output_type": "execute_result"
    }
   ],
   "source": [
    "getenv`QHOME //we can use getenv and symbol the string of the variable, \n",
    "getenv`HOME //does not exist, return empty string"
   ]
  },
  {
   "cell_type": "code",
   "execution_count": 19,
   "metadata": {},
   "outputs": [],
   "source": [
    "qDir: hsym `$getenv`QHOME //to get it into a proper kdb path, we can use hsym\n",
    "// system \"l \", 1_string ` sv qDir,`q.k  //this will load q.k, which is already loaded"
   ]
  },
  {
   "cell_type": "code",
   "execution_count": null,
   "metadata": {},
   "outputs": [],
   "source": [
    "// we can also store new environment using setenv\n",
    "// `HOME setenv \"/newHomeDir\"\n",
    "// getenv`HOME ===>> \"/newHomeDir\""
   ]
  },
  {
   "cell_type": "markdown",
   "metadata": {},
   "source": [
    "## Namespaces\n",
    "\\v : lists all variables in namespsace  \n",
    "\\f : lists all functions in namespsace  \n",
    "\\c : console size(i.e. \\c 20 1000, \\c to find current size)"
   ]
  },
  {
   "cell_type": "code",
   "execution_count": 1,
   "metadata": {},
   "outputs": [
    {
     "data": {
      "text/plain": [
       ",`qtips\r\n"
      ]
     },
     "execution_count": 1,
     "metadata": {},
     "output_type": "execute_result"
    }
   ],
   "source": [
    "qtips.a:1\n",
    "qtips.b:2\n",
    "system \"v\"  //variables in current namespace"
   ]
  },
  {
   "cell_type": "code",
   "execution_count": 2,
   "metadata": {},
   "outputs": [
    {
     "data": {
      "text/plain": [
       "`s#`a`b\r\n"
      ]
     },
     "execution_count": 2,
     "metadata": {},
     "output_type": "execute_result"
    }
   ],
   "source": [
    "system \"v qtips\" //all variables in the namespace"
   ]
  },
  {
   "cell_type": "code",
   "execution_count": 5,
   "metadata": {},
   "outputs": [
    {
     "data": {
      "text/plain": [
       "   | ::\r\n",
       "a  | 1\r\n",
       "b  | 2\r\n",
       "add| +\r\n"
      ]
     },
     "execution_count": 5,
     "metadata": {},
     "output_type": "execute_result"
    }
   ],
   "source": [
    "qtips.add:+\n",
    "qtips //inspecting namespace, functions and variables, first element in null map to identity (mixed dictionary)"
   ]
  },
  {
   "cell_type": "code",
   "execution_count": 6,
   "metadata": {},
   "outputs": [
    {
     "data": {
      "text/plain": [
       "help | {[gh;h;x]if[10=type u:gh[h]x;-2 u]}[{[h;x]$[i.isf x;h x;i.isw x;h x`.;..\r\n",
       "print| {x y;}[{[f;x]embedPy[f;x]}[foreign]enlist]\r\n",
       "qtips| ``a`b`add!(::;1;2;+)\r\n"
      ]
     },
     "execution_count": 6,
     "metadata": {},
     "output_type": "execute_result"
    }
   ],
   "source": [
    "value `. //all variables/function in root "
   ]
  },
  {
   "cell_type": "code",
   "execution_count": 7,
   "metadata": {},
   "outputs": [
    {
     "data": {
      "text/plain": [
       "`q`Q`h`j`o`qpk`P`p`b64\r\n"
      ]
     },
     "execution_count": 7,
     "metadata": {},
     "output_type": "execute_result"
    }
   ],
   "source": [
    "key ` //all namespace loaded, q.k, etc"
   ]
  },
  {
   "cell_type": "code",
   "execution_count": 8,
   "metadata": {},
   "outputs": [
    {
     "data": {
      "text/plain": [
       ",`csv\r\n"
      ]
     },
     "execution_count": 8,
     "metadata": {},
     "output_type": "execute_result"
    },
    {
     "data": {
      "text/plain": [
       "`aj`aj0`ajf`ajf0`all`and`any`asc`asof`attr`avgs`ceiling`cols`count`cross`cut`..\r\n"
      ]
     },
     "execution_count": 8,
     "metadata": {},
     "output_type": "execute_result"
    }
   ],
   "source": [
    "\\v .q //every q terminal loads the q.k files\n",
    "\\f .q //many functions inside defined in k"
   ]
  },
  {
   "cell_type": "code",
   "execution_count": 9,
   "metadata": {
    "scrolled": true
   },
   "outputs": [
    {
     "data": {
      "text/plain": [
       "          | ::\r\n",
       "neg       | -:\r\n",
       "not       | ~:\r\n",
       "null      | ^:\r\n",
       "string    | $:\r\n",
       "reciprocal| %:\r\n",
       "floor     | _:\r\n",
       "ceiling   | -_-:\r\n",
       "signum    | k){(x>0)-x<0}\r\n",
       "mod       | k){x-y*x div y}\r\n",
       "xbar      | k){x*y div x:$[16h=abs[@x];\"j\"$x;x]}\r\n",
       "xlog      | k){log[y]%log x}\r\n",
       "and       | &\r\n",
       "or        | |\r\n",
       "each      | k){x'y}\r\n",
       "scan      | k){x\\y}\r\n",
       "over      | k){x/y}\r\n",
       "prior     | k){x':y}\r\n",
       "mmu       | $\r\n",
       "lsq       | !\r\n",
       "inv       | !:\r\n",
       "md5       | ![-15]\r\n",
       "..\r\n"
      ]
     },
     "execution_count": 9,
     "metadata": {},
     "output_type": "execute_result"
    }
   ],
   "source": [
    ".q  //inspecting directly"
   ]
  },
  {
   "cell_type": "markdown",
   "metadata": {},
   "source": [
    "Moving in and out of namespaces\n",
    "```\n",
    "q)\\d .qtips\n",
    "q.qtips)\\d .rah\n",
    "q.rah)\\d .\n",
    "```"
   ]
  },
  {
   "cell_type": "markdown",
   "metadata": {},
   "source": [
    "accessing variables in main namespaces\n",
    "```\n",
    "q)a:123\n",
    "q)\\d .bar\n",
    "q.bar)..a\n",
    "'.\n",
    "  [0]  ..a\n",
    "       ^\n",
    "q.bar)value `..a  //method 1\n",
    "123\n",
    "q.bar)`. `a  //M2\n",
    "123\n",
    "q.bar)`.[`a]  //M3\n",
    "123\n",
    "q.bar)`.@`a  //M4\n",
    "123\n",
    "q.bar)`.qtips `a  //in other namespace\n",
    "321\n",
    "```"
   ]
  },
  {
   "cell_type": "markdown",
   "metadata": {},
   "source": [
    "## Namespaces vs directories\n",
    "Directories has certain limitations\n",
    "* Directories can not contain views\n",
    "* Automatic logging with -1 flag only records data updated in root directory\n",
    "* Partition databases can not be loaded into directories\n",
    "Conclusion, function should be in directories but large datasets should be in namespace"
   ]
  },
  {
   "cell_type": "code",
   "execution_count": null,
   "metadata": {},
   "outputs": [],
   "source": []
  }
 ],
 "metadata": {
  "kernelspec": {
   "display_name": "Q (kdb+)",
   "language": "q",
   "name": "qpk"
  },
  "language_info": {
   "file_extension": ".q",
   "mimetype": "text/x-q",
   "name": "q",
   "version": "3.6.0"
  }
 },
 "nbformat": 4,
 "nbformat_minor": 2
}
