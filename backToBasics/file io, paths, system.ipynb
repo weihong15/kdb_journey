{
 "cells": [
  {
   "cell_type": "markdown",
   "metadata": {},
   "source": [
    "## Loading a file\n",
    "M1: ``` \\l stat.q```  \n",
    "M2: ``` path:\"/tmp\"  \n",
    "        system \"l \",path,\"/stat.q\"```"
   ]
  },
  {
   "cell_type": "markdown",
   "metadata": {},
   "source": [
    "## Building file path using sv and vs"
   ]
  },
  {
   "cell_type": "code",
   "execution_count": 5,
   "metadata": {},
   "outputs": [
    {
     "data": {
      "text/plain": [
       "`stat.q\r\n"
      ]
     },
     "execution_count": 5,
     "metadata": {},
     "output_type": "execute_result"
    },
    {
     "data": {
      "text/plain": [
       "`:/tmp/stat.q\r\n"
      ]
     },
     "execution_count": 5,
     "metadata": {},
     "output_type": "execute_result"
    }
   ],
   "source": [
    "` sv `stat`q //if a list of symbol, ` sv will change all other ` into .  (i.e. list of symbols into a symbol connected by .)\n",
    "path: `:/tmp\n",
    "` sv path,`stat.q //if the list of symbol begins with : it will change ` into / (i.e. list of symbol into a symbol connected by /)"
   ]
  },
  {
   "cell_type": "code",
   "execution_count": 6,
   "metadata": {},
   "outputs": [
    {
     "data": {
      "text/plain": [
       "`file`ext`ext2\r\n"
      ]
     },
     "execution_count": 6,
     "metadata": {},
     "output_type": "execute_result"
    },
    {
     "data": {
      "text/plain": [
       "`:/tmp`state.q\r\n"
      ]
     },
     "execution_count": 6,
     "metadata": {},
     "output_type": "execute_result"
    }
   ],
   "source": [
    "` vs `file.ext.ext2 //likewise if a symbol without colon, change . into list of symbols\n",
    "` vs `:/tmp/state.q //with colon, change / into symbols"
   ]
  },
  {
   "cell_type": "code",
   "execution_count": 17,
   "metadata": {},
   "outputs": [
    {
     "data": {
      "text/plain": [
       "`:rah.q`:meh.q`:omgwtf/bbq.q\r\n"
      ]
     },
     "execution_count": 17,
     "metadata": {},
     "output_type": "execute_result"
    }
   ],
   "source": [
    "//hsym, add to colon to every symbol\n",
    "hsym `rah.q`meh.q,`$\"omgwtf/bbq.q\""
   ]
  },
  {
   "cell_type": "markdown",
   "metadata": {},
   "source": [
    "## File Existence"
   ]
  },
  {
   "cell_type": "code",
   "execution_count": null,
   "metadata": {},
   "outputs": [],
   "source": [
    "system \"cd ..\""
   ]
  },
  {
   "cell_type": "code",
   "execution_count": 11,
   "metadata": {},
   "outputs": [
    {
     "data": {
      "text/plain": [
       "`.git`IPC`README.md`backToBasics\r\n"
      ]
     },
     "execution_count": 11,
     "metadata": {},
     "output_type": "execute_result"
    },
    {
     "data": {
      "text/plain": [
       "`:README.md\r\n"
      ]
     },
     "execution_count": 11,
     "metadata": {},
     "output_type": "execute_result"
    },
    {
     "data": {
      "text/plain": [
       "`README.md`chatroom`deferredResponse`ipc_cmtp\r\n"
      ]
     },
     "execution_count": 11,
     "metadata": {},
     "output_type": "execute_result"
    }
   ],
   "source": [
    "key`:.    //this just mean current directory\n",
    "key`:README.md  //if files exist will return file name\n",
    "key`:IPC   //if directory exist will return content of folder"
   ]
  },
  {
   "cell_type": "code",
   "execution_count": 12,
   "metadata": {},
   "outputs": [],
   "source": [
    "//key `:doesNotExist.q  //suppose to return blank list but don't work on jupyter"
   ]
  },
  {
   "cell_type": "markdown",
   "metadata": {},
   "source": [
    "```\n",
    "q)key`:.\n",
    "`.git`IPC`README.md`backToBasics\n",
    "q)key`:doesNotExist.q\n",
    "q)key`:IPC\n",
    "`README.md`chatroom`deferredResponse`ipc_cmtp\n",
    "q)()~key`:doesNotExist.q \n",
    "1b\n",
    "```"
   ]
  },
  {
   "cell_type": "code",
   "execution_count": 14,
   "metadata": {
    "collapsed": true
   },
   "outputs": [
    {
     "ename": "\u001b[0;31mREADME.md\u001b[0m",
     "evalue": "\u001b[0;31mREADME.md\u001b[0m",
     "output_type": "error",
     "traceback": [
      "\u001b[0;31mevaluation error:\n\u001b[0m",
      "\u001b[0;31mREADME.md\u001b[0m",
      "\u001b[0;31m\u001b[0m",
      "\u001b[0;31m  [1]  (.Q.l)\n\n\u001b[0m",
      "\u001b[0;31m  [0]  if[f~key f;system \"l \", 1_string f]  //nope that 1_string will remove leading colon\r\n                  ^\r\n\u001b[0m"
     ]
    }
   ],
   "source": [
    "//loading a file that dne will result in error, so better to check whether it exist\n",
    "if[f~key f;system \"l \", 1_string f]  //nope that 1_string will remove leading colon"
   ]
  },
  {
   "cell_type": "markdown",
   "metadata": {},
   "source": [
    "## Environmental variables"
   ]
  },
  {
   "cell_type": "code",
   "execution_count": 18,
   "metadata": {},
   "outputs": [
    {
     "data": {
      "text/plain": [
       "\"C:\\\\Users\\\\Weihong\\\\Anaconda3\\\\q\"\r\n"
      ]
     },
     "execution_count": 18,
     "metadata": {},
     "output_type": "execute_result"
    },
    {
     "data": {
      "text/plain": [
       "\"\"\r\n"
      ]
     },
     "execution_count": 18,
     "metadata": {},
     "output_type": "execute_result"
    }
   ],
   "source": [
    "getenv`QHOME //we can use getenv and symbol the string of the variable, \n",
    "getenv`HOME //does not exist, return empty string"
   ]
  },
  {
   "cell_type": "code",
   "execution_count": 19,
   "metadata": {},
   "outputs": [],
   "source": [
    "qDir: hsym `$getenv`QHOME //to get it into a proper kdb path, we can use hsym\n",
    "// system \"l \", 1_string ` sv qDir,`q.k  //this will load q.k, which is already loaded"
   ]
  },
  {
   "cell_type": "code",
   "execution_count": null,
   "metadata": {},
   "outputs": [],
   "source": [
    "// we can also store new environment using setenv\n",
    "// `HOME setenv \"/newHomeDir\"\n",
    "// getenv`HOME ===>> \"/newHomeDir\""
   ]
  },
  {
   "cell_type": "code",
   "execution_count": null,
   "metadata": {},
   "outputs": [],
   "source": []
  },
  {
   "cell_type": "code",
   "execution_count": null,
   "metadata": {},
   "outputs": [],
   "source": []
  }
 ],
 "metadata": {
  "kernelspec": {
   "display_name": "Q (kdb+)",
   "language": "q",
   "name": "qpk"
  },
  "language_info": {
   "file_extension": ".q",
   "mimetype": "text/x-q",
   "name": "q",
   "version": "3.6.0"
  }
 },
 "nbformat": 4,
 "nbformat_minor": 2
}
