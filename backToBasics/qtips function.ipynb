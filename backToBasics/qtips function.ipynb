{
 "cells": [
  {
   "cell_type": "markdown",
   "metadata": {},
   "source": [
    "# Utils\n",
    "\n",
    "## Ranges"
   ]
  },
  {
   "cell_type": "code",
   "execution_count": 6,
   "metadata": {},
   "outputs": [
    {
     "data": {
      "text/plain": [
       "2000.01.01 2000.01.08 2000.01.15 2000.01.22 2000.01.29 2000.02.05 2000.02.12 ..\r\n"
      ]
     },
     "execution_count": 6,
     "metadata": {},
     "output_type": "execute_result"
    },
    {
     "data": {
      "text/plain": [
       "2000.06.01 2000.08.01\r\n"
      ]
     },
     "execution_count": 6,
     "metadata": {},
     "output_type": "execute_result"
    },
    {
     "data": {
      "text/plain": [
       "2000.06.01 2000.06.02 2000.06.03 2000.06.04 2000.06.05 2000.06.06 2000.06.07 ..\r\n"
      ]
     },
     "execution_count": 6,
     "metadata": {},
     "output_type": "execute_result"
    }
   ],
   "source": [
    "rng:{[w;s;e]s+w*til ceiling(e-s)*w} // can use for temporal and everything else\n",
    "rng[7;2000.01.01;2001.01.01] //every week after 2000.01.01\n",
    ".Q.addmonths[2000.01.01;5 7]\n",
    "rng[1] . .Q.addmonths[2000.01.01;5 7]\n",
    "rng[0D00:01;0D09;0D15] //every minute interval from 9am to 3pm"
   ]
  },
  {
   "cell_type": "markdown",
   "metadata": {},
   "source": [
    "## rounding function"
   ]
  },
  {
   "cell_type": "code",
   "execution_count": 9,
   "metadata": {},
   "outputs": [
    {
     "name": "stdout",
     "output_type": "stream",
     "text": [
      "0.4707883 0.6346716 0.9672398 0.2306385 0.949975 0.439081 0.5759051 0.5919004..\r\n"
     ]
    },
    {
     "data": {
      "text/plain": [
       "0.45 0.65 0.95 0.25 0.95 0.45 0.6 0.6 0.85 0.4\r\n"
      ]
     },
     "execution_count": 9,
     "metadata": {},
     "output_type": "execute_result"
    }
   ],
   "source": [
    "rnd:{x*\"j\"$y%x} //\"j\"$ will round to nearest integer, x is nearest what, y is the real values\n",
    "show x: 10?1.0\n",
    "rnd[0.05] x"
   ]
  },
  {
   "cell_type": "code",
   "execution_count": null,
   "metadata": {},
   "outputs": [],
   "source": []
  }
 ],
 "metadata": {
  "kernelspec": {
   "display_name": "Q (kdb+)",
   "language": "q",
   "name": "qpk"
  },
  "language_info": {
   "file_extension": ".q",
   "mimetype": "text/x-q",
   "name": "q",
   "version": "3.6.0"
  }
 },
 "nbformat": 4,
 "nbformat_minor": 2
}
