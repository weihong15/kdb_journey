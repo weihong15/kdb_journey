{
 "cells": [
  {
   "cell_type": "markdown",
   "metadata": {},
   "source": [
    "Content Page?\n",
    "- [Nulls and Infinity](#Nulls-and-Infinity)\n",
    "    - [operations on null](#Benefits-of-using-null-and-infinities)\n",
    "    - [Filling nulls](#Handling-Nulls)\n",
    "- [Temporal Data](#Temporal-Data)\n",
    "    - [Date](#Date)\n",
    "    - [Time](#Time)\n",
    "    - [Both date & Time](#Date-and-Time-together)\n",
    "- [Dictionary](#Dictionary)\n",
    "    - [Creating a Dictionary](#Creating-a-dictionary)\n",
    "    - [Splitting a Dictionary](#Splitting-Dictionary-into-2-lists)\n",
    "    - [Accessing a value in the dictionary](#Dictionary-Lookup-and-accessing-value)\n",
    "    - [Subset of dictionary](#Subset-of-dictionary)\n",
    "    - [Amending a dictionary](#Amending-a-dictionary)\n",
    "    - [Appending more key-value pairs to a dictionary](#Appending-to-a-dictionary)\n",
    "    - [Applying functions to lists into dictionary](#List-functions-on-dictionaries)\n",
    "- [Tables](#Tables)\n",
    "    - [Representation of tables](#Representation)\n",
    "        - [1.Flipped column Dictionary](#1.-Flipped-(column-Dictionary-OR-dictionary-of-list))\n",
    "        - [2.List of Dictionaries](#2.-List-of-dictionary)\n",
    "        - [3. Collection of lists of equal length](#3.-Collection-of-lists-of-equal-length)\n",
    "    - [Manipulation of tables](#Table-manipulation)\n",
    "        - [getting name of columns and the whole column(with values)](#Getting-Columns-names-or-whole-columns)\n",
    "        - [Reordering Columns](#Reordering-columns)\n",
    "        - [Adding New col(s) using ,'](#Adding-new-col)\n",
    "- [Keyed Tables](#keyed-tables)\n",
    "    - [Declaring a key table](#Declaring-a-key-table)\n",
    "        - [Method 1:Declaring it directly when making a table](#Method-1:-declare-it-directly)\n",
    "        - [Method 2:Transform from an existing normal table](#Method-2:-transform-an-existing-table)\n",
    "    - [Unkeying a table (i.e. back to normal table)](#Unkeying-table)\n",
    "    - [Representation and Indexing keyed tables (wow, it's actually a dictionary of 2 tables)](#Representation-and-Indexing-of-keyed-tables)\n"
   ]
  },
  {
   "cell_type": "markdown",
   "metadata": {},
   "source": [
    "# Nulls and Infinity\n",
    "Ascending Order: 0N, -0W, 0W //this are all long  \n",
    "For other types, we need to add 0Wi //integers, add i behind  \n",
    "boolean and byte got no null or infinity  \n",
    "Note that: 0N is long while 0n is float"
   ]
  },
  {
   "cell_type": "code",
   "execution_count": 13,
   "metadata": {
    "scrolled": true
   },
   "outputs": [
    {
     "data": {
      "text/plain": [
       "9223372036854775806 0W 0N -0W -9223372036854775806\r\n"
      ]
     },
     "execution_count": 13,
     "metadata": {},
     "output_type": "execute_result"
    },
    {
     "data": {
      "text/plain": [
       "32766\r\n"
      ]
     },
     "execution_count": 13,
     "metadata": {},
     "output_type": "execute_result"
    }
   ],
   "source": [
    "0W + -1+til 5 //bigest number , 0W , Null(go one round), -0W, smallest number\n",
    "0Wh + (-1) //biggest short"
   ]
  },
  {
   "cell_type": "markdown",
   "metadata": {},
   "source": [
    "## Benefits of using null and infinities"
   ]
  },
  {
   "cell_type": "code",
   "execution_count": 14,
   "metadata": {},
   "outputs": [
    {
     "data": {
      "text/plain": [
       "2 3 0N\r\n"
      ]
     },
     "execution_count": 14,
     "metadata": {},
     "output_type": "execute_result"
    },
    {
     "data": {
      "text/plain": [
       "1.5\r\n"
      ]
     },
     "execution_count": 14,
     "metadata": {},
     "output_type": "execute_result"
    },
    {
     "data": {
      "text/plain": [
       "2 0n 0n\r\n"
      ]
     },
     "execution_count": 14,
     "metadata": {},
     "output_type": "execute_result"
    }
   ],
   "source": [
    "//atomic operation propagate null values\n",
    "1+1 2 0N\n",
    "//aggregate function tend to ignore them\n",
    "avg 1 2 0N\n",
    "//average of matrix (2d list) do not ignore them, it propagates\n",
    "avg (1 2 0N;3 0N 5)"
   ]
  },
  {
   "cell_type": "markdown",
   "metadata": {},
   "source": [
    "## Handling Nulls\n",
    "either dyadic fill operator **\\^**  OR monadic **fills** operator"
   ]
  },
  {
   "cell_type": "code",
   "execution_count": 16,
   "metadata": {
    "scrolled": true
   },
   "outputs": [
    {
     "data": {
      "text/plain": [
       "1 2 0\r\n",
       "3 1 1\r\n"
      ]
     },
     "execution_count": 16,
     "metadata": {},
     "output_type": "execute_result"
    }
   ],
   "source": [
    "0 1^ (1 2 0N;3 0N 0N) //first list fill 0, seocnd list fill 1"
   ]
  },
  {
   "cell_type": "code",
   "execution_count": 20,
   "metadata": {},
   "outputs": [
    {
     "name": "stdout",
     "output_type": "stream",
     "text": [
      "0N 0 1 2 3 4 0N\n"
     ]
    },
    {
     "data": {
      "text/plain": [
       "0N 0 1 2 3 4 4\r\n"
      ]
     },
     "execution_count": 20,
     "metadata": {},
     "output_type": "execute_result"
    }
   ],
   "source": [
    "fills 0N!0N,,[til 5;0N] //fill with previous value"
   ]
  },
  {
   "cell_type": "markdown",
   "metadata": {},
   "source": [
    "# Temporal Data\n",
    "All are integers except for datetime(do not use)\n",
    "## Date\n",
    "* YYY.MM.DD\n",
    "* start from 2000.01.01 (integer 0), Saturday (if mod 7, 0 and 1 are weekends)\n",
    "* .z.D (today local Date), .z.d (today GMT date)"
   ]
  },
  {
   "cell_type": "code",
   "execution_count": 1,
   "metadata": {},
   "outputs": [
    {
     "data": {
      "text/plain": [
       "0i\r\n"
      ]
     },
     "execution_count": 1,
     "metadata": {},
     "output_type": "execute_result"
    },
    {
     "data": {
      "text/plain": [
       "2000.01.01 2000.01.02 2000.01.03 2000.01.04 2000.01.05\r\n"
      ]
     },
     "execution_count": 1,
     "metadata": {},
     "output_type": "execute_result"
    },
    {
     "data": {
      "text/plain": [
       "2000.01.03 2000.01.04 2000.01.05 2000.01.06 2000.01.07 2000.01.10\r\n"
      ]
     },
     "execution_count": 1,
     "metadata": {},
     "output_type": "execute_result"
    }
   ],
   "source": [
    "\"i\"$2000.01.01\n",
    "2000.01.01 +til 5\n",
    "wday:{x where 1<x mod 7}; wday 2000.01.01 + til 10"
   ]
  },
  {
   "cell_type": "code",
   "execution_count": 4,
   "metadata": {},
   "outputs": [
    {
     "data": {
      "text/plain": [
       "2020.03.23\r\n"
      ]
     },
     "execution_count": 4,
     "metadata": {},
     "output_type": "execute_result"
    },
    {
     "data": {
      "text/plain": [
       "2020.03.22\r\n"
      ]
     },
     "execution_count": 4,
     "metadata": {},
     "output_type": "execute_result"
    }
   ],
   "source": [
    ".z.D\n",
    ".z.d"
   ]
  },
  {
   "cell_type": "markdown",
   "metadata": {},
   "source": [
    "## Time\n",
    "There are many different precision, all are 4-byte except nanosecond is 8-byte  \n",
    "integer 0 is the smallest precision of each\n",
    "* minute\n",
    "* second\n",
    "* millisecond\n",
    "* nanosecond (timespan) //NOTE: THIS IS NOT DATE TIME\n",
    "### current time\n",
    "* millisecond\n",
    "    * .z.T(local), .z.t(GMT)\n",
    "* nanoseconds (timespan)\n",
    "    * .z.N(local) .z.n(GMT)"
   ]
  },
  {
   "cell_type": "code",
   "execution_count": 11,
   "metadata": {},
   "outputs": [
    {
     "data": {
      "text/plain": [
       "00:00                00:01                00:02               \r\n",
       "00:00:00             00:00:01             00:00:02            \r\n",
       "00:00:00.000         00:00:00.001         00:00:00.002        \r\n",
       "0D00:00:00.000000000 0D00:00:00.000000001 0D00:00:00.000000002\r\n",
       "0D00:00:00.000000000 0D00:00:00.000000001 0D00:00:00.000000002\r\n"
      ]
     },
     "execution_count": 11,
     "metadata": {},
     "output_type": "execute_result"
    }
   ],
   "source": [
    "(00:00;00:00:00;00:00:00.000;0D;00:00:00.000000000) +\\: til 3 //0D can be represented by a 9 \"zero\" precision or anything with 0D"
   ]
  },
  {
   "cell_type": "code",
   "execution_count": 15,
   "metadata": {},
   "outputs": [
    {
     "data": {
      "text/plain": [
       "0D00:00:00.000000000 0D00:30:00.000000000 0D01:00:00.000000000\r\n"
      ]
     },
     "execution_count": 15,
     "metadata": {},
     "output_type": "execute_result"
    }
   ],
   "source": [
    "0D00:30*til 3 //flexibility of timespan //30 min interval"
   ]
  },
  {
   "cell_type": "markdown",
   "metadata": {},
   "source": [
    "## Date and Time together\n",
    "* datetime (Old, DO NOT USE)\n",
    "    * Stored as double, 1.5 means 1.5 D from 2001.01.01\n",
    "    * Display as millisecond but actual precision is nano(double)\n",
    "    * .z.Z (local) .z.z(GMT)\n",
    "* timestamps (New, integer)\n",
    "    * integer: nanosecond from 2001.01.01\n",
    "    * .z.P (local) .z.p(GMT)"
   ]
  },
  {
   "cell_type": "code",
   "execution_count": 24,
   "metadata": {},
   "outputs": [
    {
     "data": {
      "text/plain": [
       "2020.03.21T12:42:23.445\r\n"
      ]
     },
     "execution_count": 24,
     "metadata": {},
     "output_type": "execute_result"
    },
    {
     "data": {
      "text/plain": [
       "6.382393e+017\r\n"
      ]
     },
     "execution_count": 24,
     "metadata": {},
     "output_type": "execute_result"
    }
   ],
   "source": [
    ".z.Z - 1.5\n",
    ".z.P - 1.5 //first is an integer, minus a float, .z.P needs to interact with \"integers\""
   ]
  },
  {
   "cell_type": "code",
   "execution_count": 1,
   "metadata": {},
   "outputs": [
    {
     "data": {
      "text/plain": [
       "0D00:00:00.000001001\r\n"
      ]
     },
     "execution_count": 1,
     "metadata": {},
     "output_type": "execute_result"
    }
   ],
   "source": [
    "(.z.P+1)-.z.P"
   ]
  },
  {
   "cell_type": "markdown",
   "metadata": {},
   "source": [
    "# Dictionary\n",
    "In kdb, dictionary is not a hash table, it is two list of equal length joint tgt by !  \n",
    "Creating a dictionary is constant time operation, dictionary is actually not created but reference  \n",
    "it is reference till either key or value is modified\n",
    "## Creating a dictionary"
   ]
  },
  {
   "cell_type": "code",
   "execution_count": 1,
   "metadata": {},
   "outputs": [
    {
     "name": "stdout",
     "output_type": "stream",
     "text": [
      "john  | 20\r\n",
      "steve | 31\r\n",
      "rachel| 22\r\n"
     ]
    }
   ],
   "source": [
    "show ages:`john`steve`rachel!20 31 22"
   ]
  },
  {
   "cell_type": "code",
   "execution_count": 7,
   "metadata": {},
   "outputs": [
    {
     "data": {
      "text/plain": [
       "1i\r\n"
      ]
     },
     "execution_count": 7,
     "metadata": {},
     "output_type": "execute_result"
    },
    {
     "data": {
      "text/plain": [
       "2i\r\n"
      ]
     },
     "execution_count": 7,
     "metadata": {},
     "output_type": "execute_result"
    }
   ],
   "source": [
    "x:2000.01.01 +til 10;p:10?1f; -16!p\n",
    "d:x!p; -16!p  //amending p will cause reference to it to drop back to 1, but x remains"
   ]
  },
  {
   "cell_type": "code",
   "execution_count": 11,
   "metadata": {},
   "outputs": [
    {
     "name": "stdout",
     "output_type": "stream",
     "text": [
      "2000.01.01 100f\r\n",
      "2000.01.02 101f\r\n",
      "2000.01.03 99f \r\n"
     ]
    },
    {
     "data": {
      "text/plain": [
       "2000.01.01 2000.01.02 2000.01.03\r\n",
       "100        101        99        \r\n"
      ]
     },
     "execution_count": 11,
     "metadata": {},
     "output_type": "execute_result"
    },
    {
     "name": "stdout",
     "output_type": "stream",
     "text": [
      "2000.01.01| 100\r\n",
      "2000.01.02| 101\r\n",
      "2000.01.03| 99\r\n"
     ]
    }
   ],
   "source": [
    "show pairs:((2000.01.01;100f);(2000.01.02;101f);(2000.01.03;99f));flip pairs\n",
    "show dict: (!) . flip pairs"
   ]
  },
  {
   "cell_type": "markdown",
   "metadata": {},
   "source": [
    "## Splitting Dictionary into 2 lists"
   ]
  },
  {
   "cell_type": "code",
   "execution_count": 8,
   "metadata": {},
   "outputs": [
    {
     "data": {
      "text/plain": [
       "`john`steve`rachel`tom`brian\r\n"
      ]
     },
     "execution_count": 8,
     "metadata": {},
     "output_type": "execute_result"
    },
    {
     "data": {
      "text/plain": [
       "18 31 25 35 27\r\n"
      ]
     },
     "execution_count": 8,
     "metadata": {},
     "output_type": "execute_result"
    }
   ],
   "source": [
    "key ages\n",
    "value ages"
   ]
  },
  {
   "cell_type": "markdown",
   "metadata": {},
   "source": [
    "## Dictionary Lookup and accessing value"
   ]
  },
  {
   "cell_type": "code",
   "execution_count": 2,
   "metadata": {},
   "outputs": [
    {
     "data": {
      "text/plain": [
       "20\r\n"
      ]
     },
     "execution_count": 2,
     "metadata": {},
     "output_type": "execute_result"
    },
    {
     "data": {
      "text/plain": [
       "20\r\n"
      ]
     },
     "execution_count": 2,
     "metadata": {},
     "output_type": "execute_result"
    },
    {
     "data": {
      "text/plain": [
       "20 22\r\n"
      ]
     },
     "execution_count": 2,
     "metadata": {},
     "output_type": "execute_result"
    }
   ],
   "source": [
    "ages `john //like list lookup, square brackets are optional\n",
    "ages[`john]\n",
    "ages`john`rachel"
   ]
  },
  {
   "cell_type": "markdown",
   "metadata": {},
   "source": [
    "## Subset of dictionary"
   ]
  },
  {
   "cell_type": "code",
   "execution_count": 15,
   "metadata": {},
   "outputs": [
    {
     "data": {
      "text/plain": [
       "2000.01.03| 0.08388858\r\n",
       "2000.01.04| 0.1959907\r\n"
      ]
     },
     "execution_count": 15,
     "metadata": {},
     "output_type": "execute_result"
    },
    {
     "data": {
      "text/plain": [
       "2000.01.09| 0.2296615\r\n"
      ]
     },
     "execution_count": 15,
     "metadata": {},
     "output_type": "execute_result"
    }
   ],
   "source": [
    "2000.01.03 2000.01.04#d \n",
    "(1#2000.01.09)#d  //to take out single element, need enlist"
   ]
  },
  {
   "cell_type": "markdown",
   "metadata": {},
   "source": [
    "## Amending a dictionary\n",
    "Again, it is similar to a list"
   ]
  },
  {
   "cell_type": "code",
   "execution_count": 3,
   "metadata": {},
   "outputs": [
    {
     "data": {
      "text/plain": [
       "john  | 18\r\n",
       "steve | 31\r\n",
       "rachel| 25\r\n"
      ]
     },
     "execution_count": 3,
     "metadata": {},
     "output_type": "execute_result"
    }
   ],
   "source": [
    "ages[`rachel]:25          // set a value\n",
    "ages[`john]-:1            // decrement a value\n",
    "ages                      // check changes"
   ]
  },
  {
   "cell_type": "markdown",
   "metadata": {},
   "source": [
    "## Appending to a dictionary\n",
    "Either we use the amend method above, or join using the , operator  \n",
    "joining the dictionary will overwrite common keys, and append new keys"
   ]
  },
  {
   "cell_type": "code",
   "execution_count": 5,
   "metadata": {},
   "outputs": [
    {
     "data": {
      "text/plain": [
       "john  | 18\r\n",
       "steve | 31\r\n",
       "rachel| 25\r\n",
       "tom   | 35\r\n",
       "brian | 27\r\n"
      ]
     },
     "execution_count": 5,
     "metadata": {},
     "output_type": "execute_result"
    }
   ],
   "source": [
    "ages[`tom]:35                         // the amend method\n",
    "ages,:enlist[`brian]!enlist 27         // join method. I use enlist here to turn atoms into singletons\n",
    "ages"
   ]
  },
  {
   "cell_type": "markdown",
   "metadata": {},
   "source": [
    "## List functions on dictionaries\n",
    "Well, dictionaries are basically expansion of lists, functions works on list work on dictionaries as well"
   ]
  },
  {
   "cell_type": "code",
   "execution_count": 17,
   "metadata": {},
   "outputs": [
    {
     "data": {
      "text/plain": [
       "2000.01.10| 0.6919531\r\n",
       "2000.01.09| 0.2296615\r\n",
       "2000.01.08| 0.6916099\r\n",
       "2000.01.07| 0.5294808\r\n",
       "2000.01.06| 0.6137452\r\n",
       "2000.01.05| 0.375638\r\n",
       "2000.01.04| 0.1959907\r\n",
       "2000.01.03| 0.08388858\r\n",
       "2000.01.02| 0.5785203\r\n",
       "2000.01.01| 0.4931835\r\n"
      ]
     },
     "execution_count": 17,
     "metadata": {},
     "output_type": "execute_result"
    },
    {
     "data": {
      "text/plain": [
       "2000.01.01| 0.4931835\r\n",
       "2000.01.02| 0.5785203\r\n"
      ]
     },
     "execution_count": 17,
     "metadata": {},
     "output_type": "execute_result"
    },
    {
     "data": {
      "text/plain": [
       "2000.01.01| 0.49\r\n",
       "2000.01.02| 0.58\r\n",
       "2000.01.03| 0.08\r\n",
       "2000.01.04| 0.2\r\n",
       "2000.01.05| 0.38\r\n",
       "2000.01.06| 0.61\r\n",
       "2000.01.07| 0.53\r\n",
       "2000.01.08| 0.69\r\n",
       "2000.01.09| 0.23\r\n",
       "2000.01.10| 0.69\r\n"
      ]
     },
     "execution_count": 17,
     "metadata": {},
     "output_type": "execute_result"
    },
    {
     "data": {
      "text/plain": [
       "4.483671\r\n"
      ]
     },
     "execution_count": 17,
     "metadata": {},
     "output_type": "execute_result"
    }
   ],
   "source": [
    "reverse d //reverse them like list\n",
    "2#d  //take out like list\n",
    "system \"l qtips/util.q\"\n",
    ".util.rnd[0.01]d  //apply list function to value\n",
    "sum d //applying aggregating function //note will not be dictionary"
   ]
  },
  {
   "cell_type": "code",
   "execution_count": 19,
   "metadata": {
    "scrolled": true
   },
   "outputs": [
    {
     "data": {
      "text/plain": [
       "2000.01.01| 0.4931835\r\n",
       "2000.01.02| 0.5785203\r\n",
       "2000.01.03| 0.08388858\r\n",
       "2000.01.04| 0.1959907\r\n",
       "2000.01.05| 0.375638\r\n",
       "2000.01.06| 0.6137452\r\n",
       "2000.01.07| 0.5294808\r\n",
       "2000.01.08| 0.6916099\r\n",
       "2000.01.09| 0.2296615\r\n",
       "2000.01.10| 0.6919531\r\n"
      ]
     },
     "execution_count": 19,
     "metadata": {},
     "output_type": "execute_result"
    }
   ],
   "source": [
    "d"
   ]
  },
  {
   "cell_type": "markdown",
   "metadata": {},
   "source": [
    "# Tables\n",
    "to get all tables in namespace\n",
    "* \\a\n",
    "* tables`  \n",
    "To specify a namespace\n",
    "* \\a .namespace\n",
    "* tables .namespace\n",
    "\n",
    "## Representation\n",
    "A table is:\n",
    "1. Flipped column Dictionary\n",
    "2. List of Dictionaries\n",
    "3. Collection of lists of equal length"
   ]
  },
  {
   "cell_type": "code",
   "execution_count": 1,
   "metadata": {},
   "outputs": [
    {
     "name": "stdout",
     "output_type": "stream",
     "text": [
      "1 1 1 0.98 0.94 0.93 1.05 1 1.04 0.98 0.99 1.01 0.91 0.94 0.98 1.03 1 1.03 0...\r\n"
     ]
    }
   ],
   "source": [
    "system \"l qtips/util.q\"\n",
    "system \"l qtips/stat.q\"\n",
    "s:1.3;r:.05;dt:.util.wday 2001.01.01+til 365;tm:deltas[first dt;dt]%365; \n",
    "show price: .util.rnd[0.01] .stat.gbm[s;r;tm] .stat.norminv (count dt)?1f"
   ]
  },
  {
   "cell_type": "markdown",
   "metadata": {},
   "source": [
    "### 1. Flipped (column Dictionary OR dictionary of list)\n",
    "For this to happen, dictionary keys should be all symbols, list shld be equal length"
   ]
  },
  {
   "cell_type": "code",
   "execution_count": 2,
   "metadata": {},
   "outputs": [
    {
     "name": "stdout",
     "output_type": "stream",
     "text": [
      "id dt         price\r\n",
      "-------------------\r\n",
      "0  2001.01.01 1    \r\n",
      "1  2001.01.02 1    \r\n",
      "2  2001.01.03 1    \r\n",
      "3  2001.01.04 0.98 \r\n",
      "4  2001.01.05 0.94 \r\n",
      "5  2001.01.08 0.93 \r\n",
      "6  2001.01.09 1.05 \r\n",
      "7  2001.01.10 1    \r\n",
      "8  2001.01.11 1.04 \r\n",
      "9  2001.01.12 0.98 \r\n",
      "10 2001.01.15 0.99 \r\n",
      "11 2001.01.16 1.01 \r\n",
      "12 2001.01.17 0.91 \r\n",
      "13 2001.01.18 0.94 \r\n",
      "14 2001.01.19 0.98 \r\n",
      "15 2001.01.22 1.03 \r\n",
      "16 2001.01.23 1    \r\n",
      "17 2001.01.24 1.03 \r\n",
      "18 2001.01.25 0.95 \r\n",
      "19 2001.01.26 1.03 \r\n",
      "..\r\n"
     ]
    },
    {
     "data": {
      "text/plain": [
       "0.98\r\n"
      ]
     },
     "execution_count": 2,
     "metadata": {},
     "output_type": "execute_result"
    }
   ],
   "source": [
    "show t:flip d:`id`dt`price!(til count dt;dt;price) //Dictionary with equal length \n",
    "//(0;dt;price) will work too, the 0 atom will become vectors of 0 to match the other 2 lengths\n",
    "d[`price;3]"
   ]
  },
  {
   "cell_type": "code",
   "execution_count": 26,
   "metadata": {},
   "outputs": [
    {
     "data": {
      "text/plain": [
       "id   | 3\r\n",
       "dt   | 2001.01.04\r\n",
       "price| 0.97\r\n"
      ]
     },
     "execution_count": 26,
     "metadata": {},
     "output_type": "execute_result"
    },
    {
     "name": "stdout",
     "output_type": "stream",
     "text": [
      "+`id`dt`price!(0 1 2 3 4 5 6 7 8 9 10 11 12 13 14 15 16 17 18 19 20 21 22 23 ..\n"
     ]
    },
    {
     "data": {
      "text/plain": [
       "0.97\r\n"
      ]
     },
     "execution_count": 26,
     "metadata": {},
     "output_type": "execute_result"
    }
   ],
   "source": [
    "t 3 //each element is a dictionary, see point 2 below\n",
    "t[3;`price]\n",
    "0N!t; //internal representation, note that it is a flip dictionary //+ symbol = flip"
   ]
  },
  {
   "cell_type": "markdown",
   "metadata": {},
   "source": [
    "### 2. List of dictionary"
   ]
  },
  {
   "cell_type": "code",
   "execution_count": 13,
   "metadata": {},
   "outputs": [
    {
     "name": "stdout",
     "output_type": "stream",
     "text": [
      "id dt         price\r\n",
      "-------------------\r\n",
      "1  2001.01.02 0.94 \r\n"
     ]
    },
    {
     "data": {
      "text/plain": [
       "id dt         price\r\n",
       "-------------------\r\n",
       "0  2001.01.01 1    \r\n",
       "1  2001.01.02 0.94 \r\n"
      ]
     },
     "execution_count": 13,
     "metadata": {},
     "output_type": "execute_result"
    }
   ],
   "source": [
    "ls1:enlist `id`dt`price!(0;dt 0;price 0) //an enlisted dictionary //again dictionary keys need to be sym\n",
    "show ls2:enlist `id`dt`price!(1;dt 1;price 1)\n",
    "t:ls1,ls2\n",
    "t 1 //inverse referencing"
   ]
  },
  {
   "cell_type": "markdown",
   "metadata": {},
   "source": [
    "### 3. Collection of lists of equal length"
   ]
  },
  {
   "cell_type": "code",
   "execution_count": 3,
   "metadata": {},
   "outputs": [
    {
     "data": {
      "text/plain": [
       "id date       price\r\n",
       "-------------------\r\n",
       "0  2001.01.01 1    \r\n",
       "0  2001.01.02 1    \r\n",
       "0  2001.01.03 1    \r\n",
       "0  2001.01.04 0.98 \r\n",
       "0  2001.01.05 0.94 \r\n",
       "0  2001.01.08 0.93 \r\n"
      ]
     },
     "execution_count": 3,
     "metadata": {},
     "output_type": "execute_result"
    }
   ],
   "source": [
    "t:([]id:0;date:dt;price:price);\n",
    "6#t"
   ]
  },
  {
   "cell_type": "code",
   "execution_count": 36,
   "metadata": {},
   "outputs": [
    {
     "data": {
      "text/plain": [
       "id dt         price\r\n",
       "-------------------\r\n",
       "0  2001.01.01 1    \r\n",
       "0  2001.01.02 1    \r\n",
       "0  2001.01.03 1    \r\n",
       "0  2001.01.04 0.98 \r\n",
       "0  2001.01.05 0.94 \r\n"
      ]
     },
     "execution_count": 36,
     "metadata": {},
     "output_type": "execute_result"
    }
   ],
   "source": [
    "id:0; 5#t:([]id;dt;price) //can also not name symbol, if we happy to have variable name as col name"
   ]
  },
  {
   "cell_type": "markdown",
   "metadata": {},
   "source": [
    "## Table manipulation\n",
    "Similar to list, can be reversed, indexed and joined. Treating it as list of dictionary is natural  \n",
    "All list ordering operation treats table as a list"
   ]
  },
  {
   "cell_type": "code",
   "execution_count": 7,
   "metadata": {},
   "outputs": [
    {
     "data": {
      "text/plain": [
       "id dt         price\r\n",
       "-------------------\r\n",
       "0  2001.12.31 0.9  \r\n",
       "0  2001.12.28 1.09 \r\n",
       "0  2001.12.27 0.97 \r\n",
       "0  2001.12.26 0.97 \r\n",
       "0  2001.12.25 1.03 \r\n"
      ]
     },
     "execution_count": 7,
     "metadata": {},
     "output_type": "execute_result"
    }
   ],
   "source": [
    "5#reverse t"
   ]
  },
  {
   "cell_type": "code",
   "execution_count": 10,
   "metadata": {},
   "outputs": [
    {
     "data": {
      "text/plain": [
       "id   dt           price \r\n",
       "------------------------\r\n",
       ",\"0\" \"2001.01.01\" ,\"1\"  \r\n",
       ",\"0\" \"2001.01.02\" ,\"1\"  \r\n",
       ",\"0\" \"2001.01.03\" ,\"1\"  \r\n",
       ",\"0\" \"2001.01.04\" \"0.98\"\r\n",
       ",\"0\" \"2001.01.05\" \"0.94\"\r\n"
      ]
     },
     "execution_count": 10,
     "metadata": {},
     "output_type": "execute_result"
    },
    {
     "data": {
      "text/plain": [
       "id dt         price\r\n",
       "-------------------\r\n",
       "0  2002.01.02 2    \r\n",
       "0  2002.01.04 2    \r\n",
       "0  2002.01.06 2    \r\n",
       "0  2002.01.08 1.96 \r\n",
       "0  2002.01.10 1.88 \r\n"
      ]
     },
     "execution_count": 10,
     "metadata": {},
     "output_type": "execute_result"
    }
   ],
   "source": [
    "//value modifying operators affect everything\n",
    "string 5#t\n",
    "2* 5#t //multiplying everything by 2, (including dates)"
   ]
  },
  {
   "cell_type": "code",
   "execution_count": 18,
   "metadata": {},
   "outputs": [
    {
     "data": {
      "text/plain": [
       "0          0          0          0          0         \r\n",
       "2001.01.01 2001.01.02 2001.01.03 2001.01.04 2001.01.05\r\n",
       "1          1          1          0.98       0.94      \r\n"
      ]
     },
     "execution_count": 18,
     "metadata": {},
     "output_type": "execute_result"
    }
   ],
   "source": [
    "value flip 5#t //three list, value of dictioanry"
   ]
  },
  {
   "cell_type": "markdown",
   "metadata": {},
   "source": [
    "### Getting Columns names or whole columns"
   ]
  },
  {
   "cell_type": "code",
   "execution_count": 19,
   "metadata": {},
   "outputs": [
    {
     "data": {
      "text/plain": [
       "`id`dt`price\r\n"
      ]
     },
     "execution_count": 19,
     "metadata": {},
     "output_type": "execute_result"
    },
    {
     "data": {
      "text/plain": [
       "`id`dt`price\r\n"
      ]
     },
     "execution_count": 19,
     "metadata": {},
     "output_type": "execute_result"
    }
   ],
   "source": [
    "key flip t //might not work for special tables \"keyed tables\"\n",
    "cols t"
   ]
  },
  {
   "cell_type": "code",
   "execution_count": 21,
   "metadata": {},
   "outputs": [
    {
     "data": {
      "text/plain": [
       "dt         price\r\n",
       "----------------\r\n",
       "2001.01.01 1    \r\n",
       "2001.01.02 1    \r\n",
       "2001.01.03 1    \r\n",
       "2001.01.04 0.98 \r\n",
       "2001.01.05 0.94 \r\n"
      ]
     },
     "execution_count": 21,
     "metadata": {},
     "output_type": "execute_result"
    }
   ],
   "source": [
    "`dt`price#5#t //choosing whole column, //we only choose the columns we want in that certain order //can delete columns this way"
   ]
  },
  {
   "cell_type": "code",
   "execution_count": 29,
   "metadata": {},
   "outputs": [
    {
     "data": {
      "text/plain": [
       "2001.01.01 2001.01.02 2001.01.03 2001.01.04 2001.01.05 2001.01.08 2001.01.09 ..\r\n",
       "1 1 1 0.98 0.94 0.93 1.05 1 1.04 0.98 0.99 1.01 0.91 0.94 0.98 1.03 1 1.03 0...\r\n",
       "`long$()\r\n"
      ]
     },
     "execution_count": 29,
     "metadata": {},
     "output_type": "execute_result"
    }
   ],
   "source": [
    "t `dt`price`does_not_exist //list of list, same as value flip"
   ]
  },
  {
   "cell_type": "code",
   "execution_count": 34,
   "metadata": {},
   "outputs": [
    {
     "data": {
      "text/plain": [
       "id dt        \r\n",
       "-------------\r\n",
       "0  2001.01.01\r\n",
       "0  2001.01.02\r\n",
       "0  2001.01.03\r\n",
       "0  2001.01.04\r\n",
       "0  2001.01.05\r\n"
      ]
     },
     "execution_count": 34,
     "metadata": {},
     "output_type": "execute_result"
    },
    {
     "data": {
      "text/plain": [
       "dt         price\r\n",
       "----------------\r\n",
       "2001.01.01 1    \r\n",
       "2001.01.02 1    \r\n",
       "2001.01.03 1    \r\n",
       "2001.01.04 0.98 \r\n",
       "2001.01.05 0.94 \r\n"
      ]
     },
     "execution_count": 34,
     "metadata": {},
     "output_type": "execute_result"
    }
   ],
   "source": [
    "2#/:5#t //first two columns, we need #/:\n",
    "-2#/:5#t //last two columns"
   ]
  },
  {
   "cell_type": "markdown",
   "metadata": {},
   "source": [
    "### Reordering columns"
   ]
  },
  {
   "cell_type": "code",
   "execution_count": 39,
   "metadata": {
    "scrolled": true
   },
   "outputs": [
    {
     "data": {
      "text/plain": [
       "id dt         price\r\n",
       "-------------------\r\n",
       "0  2001.01.01 1    \r\n",
       "0  2001.01.02 1    \r\n",
       "0  2001.01.03 1    \r\n",
       "0  2001.01.04 0.98 \r\n",
       "0  2001.01.05 0.94 \r\n"
      ]
     },
     "execution_count": 39,
     "metadata": {},
     "output_type": "execute_result"
    },
    {
     "data": {
      "text/plain": [
       "dt         id price\r\n",
       "-------------------\r\n",
       "2001.01.01 0  1    \r\n",
       "2001.01.02 0  1    \r\n",
       "2001.01.03 0  1    \r\n",
       "2001.01.04 0  0.98 \r\n",
       "2001.01.05 0  0.94 \r\n"
      ]
     },
     "execution_count": 39,
     "metadata": {},
     "output_type": "execute_result"
    }
   ],
   "source": [
    "5#t\n",
    "`dt xcols 5#t //not in placed. need assign back"
   ]
  },
  {
   "cell_type": "code",
   "execution_count": 43,
   "metadata": {},
   "outputs": [
    {
     "data": {
      "text/plain": [
       "dt         price id\r\n",
       "-------------------\r\n",
       "2001.01.01 1     0 \r\n",
       "2001.01.02 1     0 \r\n",
       "2001.01.03 1     0 \r\n",
       "2001.01.04 0.98  0 \r\n",
       "2001.01.05 0.94  0 \r\n"
      ]
     },
     "execution_count": 43,
     "metadata": {},
     "output_type": "execute_result"
    }
   ],
   "source": [
    "`dt`price xcols 5#t"
   ]
  },
  {
   "cell_type": "markdown",
   "metadata": {},
   "source": [
    "### Adding new col"
   ]
  },
  {
   "cell_type": "code",
   "execution_count": 12,
   "metadata": {},
   "outputs": [
    {
     "data": {
      "text/plain": [
       "price1 p2 \r\n",
       "----------\r\n",
       "149    763\r\n",
       "18     814\r\n"
      ]
     },
     "execution_count": 12,
     "metadata": {},
     "output_type": "execute_result"
    },
    {
     "data": {
      "text/plain": [
       "id date       price price1 p2 \r\n",
       "------------------------------\r\n",
       "0  2001.01.01 1     149    763\r\n",
       "0  2001.01.02 1     18     814\r\n",
       "0  2001.01.03 1     457    601\r\n",
       "0  2001.01.04 0.98  313    212\r\n",
       "0  2001.01.05 0.94  568    301\r\n",
       "0  2001.01.08 0.93  816    882\r\n",
       "0  2001.01.09 1.05  549    953\r\n",
       "0  2001.01.10 1     891    418\r\n",
       "0  2001.01.11 1.04  147    10 \r\n",
       "0  2001.01.12 0.98  962    461\r\n",
       "0  2001.01.15 0.99  420    913\r\n",
       "0  2001.01.16 1.01  844    816\r\n",
       "0  2001.01.17 0.91  318    196\r\n",
       "0  2001.01.18 0.94  180    833\r\n",
       "0  2001.01.19 0.98  58     386\r\n",
       "0  2001.01.22 1.03  355    656\r\n",
       "0  2001.01.23 1     927    679\r\n",
       "0  2001.01.24 1.03  702    84 \r\n",
       "0  2001.01.25 0.95  405    85 \r\n",
       "0  2001.01.26 1.03  762    470\r\n",
       "..\r\n"
      ]
     },
     "execution_count": 12,
     "metadata": {},
     "output_type": "execute_result"
    }
   ],
   "source": [
    "p1:(count t)?1000;p2:(count t)?1000\n",
    "2#append_table: flip `price1`p2!(p1;p2)\n",
    "t,'append_table //works for any number of columns, 1 or many"
   ]
  },
  {
   "cell_type": "markdown",
   "metadata": {},
   "source": [
    "# keyed tables\n",
    "Just like how dictionary allow us to access values by key, a keyed table allow us to access rows by key\n",
    "## Declaring a key table \n",
    "### Method 1: declare it directly\n",
    "The brackets in table declaration can be used to identify with the table primary key"
   ]
  },
  {
   "cell_type": "code",
   "execution_count": 45,
   "metadata": {},
   "outputs": [
    {
     "data": {
      "text/plain": [
       "id date      | price\r\n",
       "-------------| -----\r\n",
       "0  2001.01.01| 1    \r\n",
       "0  2001.01.02| 1    \r\n",
       "0  2001.01.03| 1    \r\n",
       "0  2001.01.04| 0.98 \r\n",
       "0  2001.01.05| 0.94 \r\n"
      ]
     },
     "execution_count": 45,
     "metadata": {},
     "output_type": "execute_result"
    }
   ],
   "source": [
    "5#kt:([id:0;date:dt]price:price)"
   ]
  },
  {
   "cell_type": "markdown",
   "metadata": {},
   "source": [
    "### Method 2: transform an existing table\n",
    "Using ! we can key the first few columns  \n",
    "Using xkey we can key anyhwere"
   ]
  },
  {
   "cell_type": "code",
   "execution_count": 48,
   "metadata": {},
   "outputs": [
    {
     "data": {
      "text/plain": [
       "id dt        | price\r\n",
       "-------------| -----\r\n",
       "0  2001.01.01| 1    \r\n",
       "0  2001.01.02| 1    \r\n",
       "0  2001.01.03| 1    \r\n",
       "0  2001.01.04| 0.98 \r\n",
       "0  2001.01.05| 0.94 \r\n",
       "0  2001.01.08| 0.93 \r\n"
      ]
     },
     "execution_count": 48,
     "metadata": {},
     "output_type": "execute_result"
    }
   ],
   "source": [
    "6#2!t //key first two columns"
   ]
  },
  {
   "cell_type": "code",
   "execution_count": 49,
   "metadata": {},
   "outputs": [
    {
     "data": {
      "text/plain": [
       "dt         price| id\r\n",
       "----------------| --\r\n",
       "2001.01.01 1    | 0 \r\n",
       "2001.01.02 1    | 0 \r\n",
       "2001.01.03 1    | 0 \r\n",
       "2001.01.04 0.98 | 0 \r\n",
       "2001.01.05 0.94 | 0 \r\n",
       "2001.01.08 0.93 | 0 \r\n"
      ]
     },
     "execution_count": 49,
     "metadata": {},
     "output_type": "execute_result"
    }
   ],
   "source": [
    "6#2!`dt`price xcols t //change the order and key"
   ]
  },
  {
   "cell_type": "code",
   "execution_count": 50,
   "metadata": {},
   "outputs": [
    {
     "data": {
      "text/plain": [
       "price dt        | id\r\n",
       "----------------| --\r\n",
       "1     2001.01.01| 0 \r\n",
       "1     2001.01.02| 0 \r\n",
       "1     2001.01.03| 0 \r\n",
       "0.98  2001.01.04| 0 \r\n",
       "0.94  2001.01.05| 0 \r\n",
       "0.93  2001.01.08| 0 \r\n"
      ]
     },
     "execution_count": 50,
     "metadata": {},
     "output_type": "execute_result"
    }
   ],
   "source": [
    "6#`price`dt xkey t //xkey combine xcols and ! together"
   ]
  },
  {
   "cell_type": "markdown",
   "metadata": {},
   "source": [
    "## Unkeying table\n",
    "**0!**"
   ]
  },
  {
   "cell_type": "code",
   "execution_count": 53,
   "metadata": {},
   "outputs": [
    {
     "data": {
      "text/plain": [
       "id date      | price\r\n",
       "-------------| -----\r\n",
       "0  2001.01.01| 1    \r\n",
       "0  2001.01.02| 1    \r\n",
       "0  2001.01.03| 1    \r\n",
       "0  2001.01.04| 0.98 \r\n",
       "0  2001.01.05| 0.94 \r\n"
      ]
     },
     "execution_count": 53,
     "metadata": {},
     "output_type": "execute_result"
    },
    {
     "data": {
      "text/plain": [
       "id date       price\r\n",
       "-------------------\r\n",
       "0  2001.01.01 1    \r\n",
       "0  2001.01.02 1    \r\n",
       "0  2001.01.03 1    \r\n",
       "0  2001.01.04 0.98 \r\n",
       "0  2001.01.05 0.94 \r\n"
      ]
     },
     "execution_count": 53,
     "metadata": {},
     "output_type": "execute_result"
    }
   ],
   "source": [
    "5#kt\n",
    "5#0!kt //unkeying"
   ]
  },
  {
   "cell_type": "markdown",
   "metadata": {},
   "source": [
    "## Representation and Indexing of keyed tables\n",
    "keyed tables are dictionaries of tables  \n",
    "keyed tables: keys are tables, values are tables"
   ]
  },
  {
   "cell_type": "code",
   "execution_count": 58,
   "metadata": {},
   "outputs": [
    {
     "data": {
      "text/plain": [
       "price| 0.93\r\n"
      ]
     },
     "execution_count": 58,
     "metadata": {},
     "output_type": "execute_result"
    }
   ],
   "source": [
    "kt (0;2001.05.25) //similar to dictionary"
   ]
  },
  {
   "cell_type": "code",
   "execution_count": 74,
   "metadata": {},
   "outputs": [
    {
     "name": "stdout",
     "output_type": "stream",
     "text": [
      "0 2001.05.23\r\n",
      "0 2001.05.24\r\n",
      "0 2001.05.25\r\n",
      "0 2001.05.26\r\n",
      "0 2001.05.27\r\n"
     ]
    },
    {
     "data": {
      "text/plain": [
       "price\r\n",
       "-----\r\n",
       "1.03 \r\n",
       "1.09 \r\n",
       "0.93 \r\n",
       "     \r\n",
       "     \r\n"
      ]
     },
     "execution_count": 74,
     "metadata": {},
     "output_type": "execute_result"
    }
   ],
   "source": [
    "//M1: inefficient, list of list index\n",
    "show ls: flip (0;2001.05.23 + til 5) //to query multiple record we need a list of list\n",
    "kt ls //note 26 and 27 are weekends //note that last two are nulls\n",
    "//flipping list of list is not efficient"
   ]
  },
  {
   "cell_type": "code",
   "execution_count": 76,
   "metadata": {},
   "outputs": [
    {
     "data": {
      "text/plain": [
       "price\r\n",
       "-----\r\n",
       "1.03 \r\n",
       "1.09 \r\n",
       "0.93 \r\n",
       "     \r\n",
       "     \r\n"
      ]
     },
     "execution_count": 76,
     "metadata": {},
     "output_type": "execute_result"
    }
   ],
   "source": [
    "//M2: table index\n",
    "kt ([]id:0;date:2001.05.23 + til 5)"
   ]
  },
  {
   "cell_type": "code",
   "execution_count": 77,
   "metadata": {},
   "outputs": [
    {
     "data": {
      "text/plain": [
       "id date      \r\n",
       "-------------\r\n",
       "0  2001.01.01\r\n",
       "0  2001.01.02\r\n",
       "0  2001.01.03\r\n",
       "0  2001.01.04\r\n",
       "0  2001.01.05\r\n"
      ]
     },
     "execution_count": 77,
     "metadata": {},
     "output_type": "execute_result"
    },
    {
     "data": {
      "text/plain": [
       "price\r\n",
       "-----\r\n",
       "1    \r\n",
       "1    \r\n",
       "1    \r\n",
       "0.98 \r\n",
       "0.94 \r\n"
      ]
     },
     "execution_count": 77,
     "metadata": {},
     "output_type": "execute_result"
    }
   ],
   "source": [
    "//keyed tables: keys are tables, values are tables\n",
    "key 5#kt //a table\n",
    "value 5#kt //yet another table"
   ]
  },
  {
   "cell_type": "code",
   "execution_count": 78,
   "metadata": {},
   "outputs": [
    {
     "data": {
      "text/plain": [
       "1b\r\n"
      ]
     },
     "execution_count": 78,
     "metadata": {},
     "output_type": "execute_result"
    }
   ],
   "source": [
    "kt~([]id:0;date:dt)!([]price:price) //we can even define a keyed table as a dictionary of two ordinary tables"
   ]
  }
 ],
 "metadata": {
  "kernelspec": {
   "display_name": "Q (kdb+)",
   "language": "q",
   "name": "qpk"
  },
  "language_info": {
   "file_extension": ".q",
   "mimetype": "text/x-q",
   "name": "q",
   "version": "3.6.0"
  }
 },
 "nbformat": 4,
 "nbformat_minor": 2
}
