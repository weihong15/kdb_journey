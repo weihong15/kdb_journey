{
 "cells": [
  {
   "cell_type": "markdown",
   "metadata": {},
   "source": [
    "# Iterators\n",
    "This notebook will be splited into ways iterators work\n"
   ]
  },
  {
   "cell_type": "markdown",
   "metadata": {},
   "source": [
    "## Content Page\n",
    "- [Iterators for Unary Function using **each** or **'**(single apostrophe)](#Iterators-for-Unary-Function)\n",
    "- [Iterators for >2 arguement functions using **'**](#Iterators-for-Binary-Function-or->2-arguements-function)\n",
    "- [Case/For selecting from different sets using **'**](#Iterators-for-selecting-elements-(case))\n",
    "- [Function composition using **'**](#Function-composition)"
   ]
  },
  {
   "cell_type": "markdown",
   "metadata": {},
   "source": [
    "## Iterators for Unary Function\n",
    "We can either use each or '(single apostrophe). However good q style prefer each over '"
   ]
  },
  {
   "cell_type": "code",
   "execution_count": 6,
   "metadata": {},
   "outputs": [
    {
     "data": {
      "text/plain": [
       "1 12 2 9\r\n"
      ]
     },
     "execution_count": 6,
     "metadata": {},
     "output_type": "execute_result"
    }
   ],
   "source": [
    "L:(\"A\";\"presentation\";\"on\";\"iterators\")\n",
    "count each L //Prefered style"
   ]
  },
  {
   "cell_type": "code",
   "execution_count": 2,
   "metadata": {},
   "outputs": [
    {
     "data": {
      "text/plain": [
       "1 12 2 9\r\n"
      ]
     },
     "execution_count": 2,
     "metadata": {},
     "output_type": "execute_result"
    }
   ],
   "source": [
    "count'[L] //Avoid where possible"
   ]
  },
  {
   "cell_type": "code",
   "execution_count": 3,
   "metadata": {},
   "outputs": [
    {
     "data": {
      "text/plain": [
       "1 12 2 9\r\n"
      ]
     },
     "execution_count": 3,
     "metadata": {},
     "output_type": "execute_result"
    }
   ],
   "source": [
    "(count')L //Avoid where possible)"
   ]
  },
  {
   "cell_type": "code",
   "execution_count": 17,
   "metadata": {},
   "outputs": [
    {
     "data": {
      "text/plain": [
       "106h\r\n"
      ]
     },
     "execution_count": 17,
     "metadata": {},
     "output_type": "execute_result"
    }
   ],
   "source": [
    "type (count') //We note that single apostrophe '  will transform a function, but not used as a function, hence adverb."
   ]
  },
  {
   "cell_type": "code",
   "execution_count": 18,
   "metadata": {},
   "outputs": [
    {
     "data": {
      "text/plain": [
       "1\r\n",
       "1 1 1 1 1 1 1 1 1 1 1 1\r\n",
       "1 1\r\n",
       "1 1 1 1 1 1 1 1 1\r\n"
      ]
     },
     "execution_count": 18,
     "metadata": {},
     "output_type": "execute_result"
    }
   ],
   "source": [
    "count each'L //Unfortunately, to apply a unary function at depth we do need to use the apostrophe."
   ]
  },
  {
   "cell_type": "code",
   "execution_count": 19,
   "metadata": {},
   "outputs": [
    {
     "data": {
      "text/plain": [
       "1\r\n",
       "1 1 1 1 1 1 1 1 1 1 1 1\r\n",
       "1 1\r\n",
       "1 1 1 1 1 1 1 1 1\r\n"
      ]
     },
     "execution_count": 19,
     "metadata": {},
     "output_type": "execute_result"
    }
   ],
   "source": [
    "(count')'[L]"
   ]
  },
  {
   "cell_type": "markdown",
   "metadata": {},
   "source": [
    "## Iterators for Binary Function or >2 arguements function\n",
    "We use '(single apostrophe) for binary function  \n",
    "for both the arguements, they should have the **same length**, or **one of it of length one**(extended)"
   ]
  },
  {
   "cell_type": "code",
   "execution_count": 16,
   "metadata": {},
   "outputs": [
    {
     "data": {
      "text/plain": [
       "1011b\r\n"
      ]
     },
     "execution_count": 16,
     "metadata": {},
     "output_type": "execute_result"
    }
   ],
   "source": [
    "\"Aqns\"in'L  //both of length four, so pairwise i.e. \"A\" in \"A\", \"q\" in \"presentation\""
   ]
  },
  {
   "cell_type": "code",
   "execution_count": 15,
   "metadata": {},
   "outputs": [
    {
     "data": {
      "text/plain": [
       "111b\r\n"
      ]
     },
     "execution_count": 15,
     "metadata": {},
     "output_type": "execute_result"
    }
   ],
   "source": [
    "enlist[\"omg\"] in \"omgwtfbbq\""
   ]
  },
  {
   "cell_type": "code",
   "execution_count": 17,
   "metadata": {},
   "outputs": [
    {
     "data": {
      "text/plain": [
       "\"AA\"\r\n",
       "\"qpresentation\"\r\n",
       "\"non\"\r\n",
       "\"siterators\"\r\n"
      ]
     },
     "execution_count": 17,
     "metadata": {},
     "output_type": "execute_result"
    }
   ],
   "source": [
    "\"Aqns\",'L //same length, so will join piecewise //,'[\"Aqns\";L]"
   ]
  },
  {
   "cell_type": "code",
   "execution_count": 18,
   "metadata": {},
   "outputs": [
    {
     "data": {
      "text/plain": [
       "\"AA\"\r\n",
       "\"Apresentation\"\r\n",
       "\"Aon\"\r\n",
       "\"Aiterators\"\r\n"
      ]
     },
     "execution_count": 18,
     "metadata": {},
     "output_type": "execute_result"
    }
   ],
   "source": [
    "\"A\",'L // Atom \"A\" is extended, length one and length four  //equivalently ,'[\"A\";L]"
   ]
  },
  {
   "cell_type": "code",
   "execution_count": 21,
   "metadata": {},
   "outputs": [
    {
     "data": {
      "text/plain": [
       "1005000 1000000 1007000\r\n"
      ]
     },
     "execution_count": 21,
     "metadata": {},
     "output_type": "execute_result"
    }
   ],
   "source": [
    "{x+y*z}'[1000000;1 0 1;5000 6000 7000] // First arg here is extended"
   ]
  },
  {
   "cell_type": "markdown",
   "metadata": {},
   "source": [
    "## Iterators for selecting elements (case)\n",
    "The left arguement will determine where to select the element  \n",
    "The right arguement(a list), will require all it elements of same length, or some of it as len 1"
   ]
  },
  {
   "cell_type": "code",
   "execution_count": 25,
   "metadata": {},
   "outputs": [
    {
     "data": {
      "text/plain": [
       "\"xbz\"\r\n"
      ]
     },
     "execution_count": 25,
     "metadata": {},
     "output_type": "execute_result"
    },
    {
     "data": {
      "text/plain": [
       "\"cab\"\r\n"
      ]
     },
     "execution_count": 25,
     "metadata": {},
     "output_type": "execute_result"
    }
   ],
   "source": [
    "1 0 1'[\"abc\";\"xyz\"]\n",
    "2 0 1'[\"a\";\"b\";\"cde\"] // Atoms still extended as neccesary"
   ]
  },
  {
   "cell_type": "code",
   "execution_count": 28,
   "metadata": {},
   "outputs": [
    {
     "data": {
      "text/plain": [
       "1b\r\n"
      ]
     },
     "execution_count": 28,
     "metadata": {},
     "output_type": "execute_result"
    }
   ],
   "source": [
    "(1 0 1'[\"abc\";\"xyz\"])~?[010b;\"abc\";\"xyz\"]  //normally if for two elements, we will try to use vector conditional for clarity\n",
    "// hard to replicate with vector condition if right arguement has more than two elements"
   ]
  },
  {
   "cell_type": "code",
   "execution_count": 29,
   "metadata": {},
   "outputs": [
    {
     "data": {
      "text/plain": [
       "pref   home office mobile call\r\n",
       "------------------------------\r\n",
       "office 93   90     12     90  \r\n",
       "mobile 54   43     10     10  \r\n",
       "home   38   90     1      38  \r\n",
       "office 97   84     90     84  \r\n",
       "office 88   63     73     63  \r\n"
      ]
     },
     "execution_count": 29,
     "metadata": {},
     "output_type": "execute_result"
    }
   ],
   "source": [
    "t:([]pref:5?`home`office`mobile;home:5?100;office:5?100;mobile:5?100)\n",
    "update call:(`home`office`mobile?pref)'[home;office;mobile] from t"
   ]
  },
  {
   "cell_type": "markdown",
   "metadata": {},
   "source": [
    "## Function composition\n",
    "In q, there is also function composition $f \\circ g \\circ h$. However, in kdb, f and g needs to be unary function while h can be function of any valence. "
   ]
  },
  {
   "cell_type": "code",
   "execution_count": 4,
   "metadata": {},
   "outputs": [
    {
     "data": {
      "text/plain": [
       "36\r\n"
      ]
     },
     "execution_count": 4,
     "metadata": {},
     "output_type": "execute_result"
    },
    {
     "data": {
      "text/plain": [
       "18f\r\n"
      ]
     },
     "execution_count": 4,
     "metadata": {},
     "output_type": "execute_result"
    }
   ],
   "source": [
    "h:+; g:3*;f:%[;2]\n",
    "'[g;h][9;3] //equivalent to g(h(9,3))\n",
    "('[;] over (f;g;h))[9;3] //f(g(h(9,3)))\n",
    "comp_func:('[;] over (f;g;h)) //equivalently '[;]/[(f;g;h)]"
   ]
  },
  {
   "cell_type": "markdown",
   "metadata": {},
   "source": [
    "To composite more than 2 functions, the over keyword needs to be used, a composite function is just like a function"
   ]
  },
  {
   "cell_type": "code",
   "execution_count": 22,
   "metadata": {},
   "outputs": [
    {
     "data": {
      "text/plain": [
       "18f\r\n"
      ]
     },
     "execution_count": 22,
     "metadata": {},
     "output_type": "execute_result"
    },
    {
     "data": {
      "text/plain": [
       "%[;2]*[3]+'[(0 1;2 3;4 5;6 7;8 9)]\r\n"
      ]
     },
     "execution_count": 22,
     "metadata": {},
     "output_type": "execute_result"
    }
   ],
   "source": [
    "comp_func[9;3]\n",
    "(comp_func')[5 2#til 10] //need to figure out how to make this works.  KIV"
   ]
  },
  {
   "cell_type": "markdown",
   "metadata": {},
   "source": [
    "for unary composition function, we can make above work with each"
   ]
  },
  {
   "cell_type": "code",
   "execution_count": 23,
   "metadata": {},
   "outputs": [
    {
     "data": {
      "text/plain": [
       "0 27 54\r\n"
      ]
     },
     "execution_count": 23,
     "metadata": {},
     "output_type": "execute_result"
    }
   ],
   "source": [
    "times_27:('[;] over (g;g;g))\n",
    "times_27 each til 3"
   ]
  },
  {
   "cell_type": "markdown",
   "metadata": {},
   "source": [
    "## Each-left, Each-Right \n",
    "symbol used are \\\\: /: respectively. Used on binary/didatic functions  \n",
    "While '(single aprostrophe) need both side to be same length(or attempt to make both the same length), each left and right does not need both arguement to be of same length"
   ]
  },
  {
   "cell_type": "code",
   "execution_count": 29,
   "metadata": {},
   "outputs": [
    {
     "data": {
      "text/plain": [
       "001b\r\n"
      ]
     },
     "execution_count": 29,
     "metadata": {},
     "output_type": "execute_result"
    },
    {
     "data": {
      "text/plain": [
       "001b\r\n"
      ]
     },
     "execution_count": 29,
     "metadata": {},
     "output_type": "execute_result"
    }
   ],
   "source": [
    "3 in/:(0 1 2;0 2 4;0 3 6)\n",
    "3 in'(0 1 2;0 2 4;0 3 6)"
   ]
  },
  {
   "cell_type": "code",
   "execution_count": 30,
   "metadata": {},
   "outputs": [
    {
     "data": {
      "text/plain": [
       "111b\r\n",
       "101b\r\n",
       "100b\r\n"
      ]
     },
     "execution_count": 30,
     "metadata": {},
     "output_type": "execute_result"
    },
    {
     "data": {
      "text/plain": [
       "100b\r\n"
      ]
     },
     "execution_count": 30,
     "metadata": {},
     "output_type": "execute_result"
    }
   ],
   "source": [
    "0 1 2 in/:(0 1 2;0 2 4;0 3 6) //this runs (0 1 2) in each of the right side\n",
    "0 1 2 in'(0 1 2;0 2 4;0 3 6) //this run 0 in (0 1 2), 1 in (0 2 4), etc"
   ]
  },
  {
   "cell_type": "code",
   "execution_count": 35,
   "metadata": {},
   "outputs": [
    {
     "data": {
      "text/plain": [
       "1100b\r\n"
      ]
     },
     "execution_count": 35,
     "metadata": {},
     "output_type": "execute_result"
    }
   ],
   "source": [
    "\"string\"like/:(\"str*\";\"str???\";\"match\";\"foo*\")  // we can combine this with any."
   ]
  },
  {
   "cell_type": "code",
   "execution_count": 42,
   "metadata": {},
   "outputs": [
    {
     "data": {
      "text/plain": [
       "`trade.csv`order.csv\r\n"
      ]
     },
     "execution_count": 42,
     "metadata": {},
     "output_type": "execute_result"
    }
   ],
   "source": [
    "` sv/:`trade`order,\\:`csv  //first ,\\: will cause a list of len two, first element `trade`csv"
   ]
  },
  {
   "cell_type": "markdown",
   "metadata": {},
   "source": [
    "chaining multiple each right and each left together"
   ]
  },
  {
   "cell_type": "code",
   "execution_count": 52,
   "metadata": {},
   "outputs": [
    {
     "data": {
      "text/plain": [
       "1100b\r\n",
       "0001b\r\n"
      ]
     },
     "execution_count": 52,
     "metadata": {},
     "output_type": "execute_result"
    }
   ],
   "source": [
    "(\"string\";\"foo\")like/:\\:(\"str*\";\"str???\";\"match\";\"foo*\") // we first do \"string\" like/: y  then we do \"foo\" like/: y"
   ]
  },
  {
   "cell_type": "code",
   "execution_count": 54,
   "metadata": {},
   "outputs": [
    {
     "data": {
      "text/plain": [
       "10b\r\n",
       "10b\r\n",
       "00b\r\n",
       "01b\r\n"
      ]
     },
     "execution_count": 54,
     "metadata": {},
     "output_type": "execute_result"
    }
   ],
   "source": [
    "(\"string\";\"foo\")like\\:/:(\"str*\";\"str???\";\"match\";\"foo*\") // the iterators closest to like get activated first"
   ]
  },
  {
   "cell_type": "code",
   "execution_count": 63,
   "metadata": {},
   "outputs": [
    {
     "name": "stdout",
     "output_type": "stream",
     "text": [
      "0 0 0 1\r\n",
      "1 0 1 1\r\n",
      "0 0 1 0\r\n",
      "0 1 1 1\r\n",
      "0 0\r\n",
      "0 1\r\n",
      "1 0\r\n",
      "1 1\r\n"
     ]
    },
    {
     "data": {
      "text/plain": [
       "1b\r\n"
      ]
     },
     "execution_count": 63,
     "metadata": {},
     "output_type": "execute_result"
    },
    {
     "data": {
      "text/plain": [
       "1b\r\n"
      ]
     },
     "execution_count": 63,
     "metadata": {},
     "output_type": "execute_result"
    }
   ],
   "source": [
    "show a:{x,/:\\:x}til 2 //2X2X2 matrix\n",
    "show b:{x ,\\:/: x}til 2 //2X2X2 matrix\n",
    "show c:{x cross x}til 2 // 4X2 matrix\n",
    "c~raze a\n",
    "c~raze flip b"
   ]
  },
  {
   "cell_type": "markdown",
   "metadata": {},
   "source": [
    "## Each-Prior\n",
    "- When used on a binary value, ': is known as each prior and its keyword is prior. It applies the binary to each item in a list and to the previous item (i.e each adjacent pair)  \n",
    "- Some uses of ': are so common they have they their own keywords, e.g. deltas, ratios, differ.\n",
    "- Since each prior applies it's value pairwise, a reasonable question to ask is what about the first item of the list, what is that paired with?\n",
    "Without going into too much detail, it is paired with the identity element of the binary (.i.e for a function f the value x such that y~f[x;y] for\n",
    "any y). In this case, the identity element is 0, since subtracting zero does nothing.\n"
   ]
  },
  {
   "cell_type": "code",
   "execution_count": 66,
   "metadata": {},
   "outputs": [
    {
     "name": "stdout",
     "output_type": "stream",
     "text": [
      "12 8 10 1 9 11 5 6 1 5\r\n"
     ]
    },
    {
     "data": {
      "text/plain": [
       "12 -4 2 -9 8 2 -6 1 -5 4\r\n"
      ]
     },
     "execution_count": 66,
     "metadata": {},
     "output_type": "execute_result"
    },
    {
     "data": {
      "text/plain": [
       "12 -4 2 -9 8 2 -6 1 -5 4\r\n"
      ]
     },
     "execution_count": 66,
     "metadata": {},
     "output_type": "execute_result"
    },
    {
     "data": {
      "text/plain": [
       "12 -4 2 -9 8 2 -6 1 -5 4\r\n"
      ]
     },
     "execution_count": 66,
     "metadata": {},
     "output_type": "execute_result"
    }
   ],
   "source": [
    "show L:10?20\n",
    "(-':)L  //all three are equivalent\n",
    "(-)prior L\n",
    "deltas L"
   ]
  },
  {
   "cell_type": "code",
   "execution_count": 67,
   "metadata": {},
   "outputs": [
    {
     "data": {
      "text/plain": [
       "11 -4 2 -9 8 2 -6 1 -5 4\r\n"
      ]
     },
     "execution_count": 67,
     "metadata": {},
     "output_type": "execute_result"
    }
   ],
   "source": [
    "deltas[1;L] //specify negative one element to be 1, if not specify, identity will be used //variadic func"
   ]
  },
  {
   "cell_type": "markdown",
   "metadata": {},
   "source": [
    "## Over/Scan/Converge/Do/While (/ \\\\)\n",
    "\\\\ returns all intermediate value  \n",
    "/ return only the final value"
   ]
  },
  {
   "cell_type": "code",
   "execution_count": 68,
   "metadata": {},
   "outputs": [
    {
     "data": {
      "text/plain": [
       "11 13 16 20\r\n"
      ]
     },
     "execution_count": 68,
     "metadata": {},
     "output_type": "execute_result"
    }
   ],
   "source": [
    "10+\\1 2 3 4 // (((10+1)+2)+3)+4"
   ]
  },
  {
   "cell_type": "markdown",
   "metadata": {},
   "source": [
    "+\\ is variadic, if we pass only 1 arguement, it will have an identity value in front"
   ]
  },
  {
   "cell_type": "code",
   "execution_count": 69,
   "metadata": {},
   "outputs": [
    {
     "data": {
      "text/plain": [
       "1 3 6 10\r\n"
      ]
     },
     "execution_count": 69,
     "metadata": {},
     "output_type": "execute_result"
    }
   ],
   "source": [
    "(+\\)1 2 3 4 // 1+2+3+4"
   ]
  },
  {
   "cell_type": "code",
   "execution_count": 70,
   "metadata": {},
   "outputs": [
    {
     "data": {
      "text/plain": [
       "\"2020.03.08D19:39:45.938193000\"\r\n"
      ]
     },
     "execution_count": 70,
     "metadata": {},
     "output_type": "execute_result"
    },
    {
     "data": {
      "text/plain": [
       "\"2020-03-08D19:39:45-938335000\"\r\n",
       "\"2020-03-08D19.39.45-938335000\"\r\n"
      ]
     },
     "execution_count": 70,
     "metadata": {},
     "output_type": "execute_result"
    }
   ],
   "source": [
    "//for ternary values\n",
    "string .z.p\n",
    "ssr\\[string .z.p;\".:\";\"-.\"] //first step replace . with -, next replace : to ."
   ]
  },
  {
   "cell_type": "markdown",
   "metadata": {},
   "source": [
    "### Unary functions/values\n",
    "```\n",
    "(f/)x // Converge (Can also be called as f/[x])\n",
    "x f/y // Do (where x is a non-negative integer)\n",
    "x f/y // While (where x is a function returning 1b or 0b)\n",
    "```\n",
    "Good trick is to treat f/ as a single function g:f/  \n",
    "then g can be one or two arguement"
   ]
  },
  {
   "cell_type": "code",
   "execution_count": 71,
   "metadata": {},
   "outputs": [
    {
     "data": {
      "text/plain": [
       "01b\r\n"
      ]
     },
     "execution_count": 71,
     "metadata": {},
     "output_type": "execute_result"
    },
    {
     "data": {
      "text/plain": [
       "0.1 0.01 0.0001 1e-008 1e-016 1e-032 1e-064 1e-128 1e-256 0\r\n"
      ]
     },
     "execution_count": 71,
     "metadata": {},
     "output_type": "execute_result"
    }
   ],
   "source": [
    "//converge  //stop only when reach within comparison tolerance level or original argument\n",
    "(not\\)0b\n",
    "({x*x}\\)0.1\n",
    "//(not/)42  //infinite loop please don't uncomment"
   ]
  },
  {
   "cell_type": "code",
   "execution_count": 1,
   "metadata": {},
   "outputs": [
    {
     "name": "stdout",
     "output_type": "stream",
     "text": [
      "muddys  | dallas\r\n",
      "dallas  | bqBar\r\n",
      "bqBar   | magumbos\r\n",
      "magumbos| heros\r\n",
      "heros   | towers\r\n",
      "towers  | muddys\r\n"
     ]
    },
    {
     "data": {
      "text/plain": [
       "`muddys`dallas`bqBar`magumbos`heros`towers\r\n"
      ]
     },
     "execution_count": 1,
     "metadata": {},
     "output_type": "execute_result"
    }
   ],
   "source": [
    "show route:`muddys`dallas`bqBar`magumbos`heros`towers!`dallas`bqBar`magumbos`heros`towers`muddys\n",
    "(route\\)`muddys  //stop only after reaching the original assingment"
   ]
  },
  {
   "cell_type": "code",
   "execution_count": 73,
   "metadata": {},
   "outputs": [
    {
     "data": {
      "text/plain": [
       "5  7 \r\n",
       "10 14\r\n",
       "20 28\r\n"
      ]
     },
     "execution_count": 73,
     "metadata": {},
     "output_type": "execute_result"
    },
    {
     "data": {
      "text/plain": [
       "1 1 2 3 5 8 13 21 34 55 89 144\r\n"
      ]
     },
     "execution_count": 73,
     "metadata": {},
     "output_type": "execute_result"
    },
    {
     "data": {
      "text/plain": [
       "`muddys`dallas`bqBar\r\n"
      ]
     },
     "execution_count": 73,
     "metadata": {},
     "output_type": "execute_result"
    }
   ],
   "source": [
    "//Do\n",
    "//run a specific number of times, note first evaluation is always original argu3ement\n",
    "2(2*)\\5 7 //run twice\n",
    "10{x,sum -2#x}/1 1 //generate 10 fibonacci numbers after 1 1\n",
    "2 route\\`muddys //for those who want to pub jump twice"
   ]
  },
  {
   "cell_type": "code",
   "execution_count": 2,
   "metadata": {},
   "outputs": [
    {
     "data": {
      "text/plain": [
       "2 4 8 16 32 64 128\r\n"
      ]
     },
     "execution_count": 2,
     "metadata": {},
     "output_type": "execute_result"
    },
    {
     "data": {
      "text/plain": [
       "2 4 8 16 32 64 128 256 512 1024\r\n"
      ]
     },
     "execution_count": 2,
     "metadata": {},
     "output_type": "execute_result"
    },
    {
     "data": {
      "text/plain": [
       "1 1 2 3 5 8 13 21\r\n"
      ]
     },
     "execution_count": 2,
     "metadata": {},
     "output_type": "execute_result"
    },
    {
     "data": {
      "text/plain": [
       "`muddys`dallas`bqBar`magumbos\r\n"
      ]
     },
     "execution_count": 2,
     "metadata": {},
     "output_type": "execute_result"
    }
   ],
   "source": [
    "//while //condition in front\n",
    "(100>)(2*)\\2 // equivalently {100>x}(2*)\\2  OR {x<100}(2*)\\2\n",
    "{x<1000}{x+x}\\2\n",
    "(8>count@){x,sum -2#x}/1 1  // While the number of fibonacci numbers is less than 8\n",
    "(`magumbos<>)route\\`muddys //last stop magumbos,"
   ]
  },
  {
   "cell_type": "markdown",
   "metadata": {},
   "source": [
    "### Binary functions/values\n",
    "it is variadic again , let f be the binary function and g:f\\  \n",
    "1 arguement --> u will get yourself back on first iteration, this new value will be feeded as x with second y  \n",
    "2 arguement --> will apply f[first x;first y] := temp, f[temp;second y]. it will repeat again for second x, etc"
   ]
  },
  {
   "cell_type": "code",
   "execution_count": 20,
   "metadata": {},
   "outputs": [
    {
     "data": {
      "text/plain": [
       "2 5 9\r\n"
      ]
     },
     "execution_count": 20,
     "metadata": {},
     "output_type": "execute_result"
    },
    {
     "data": {
      "text/plain": [
       "1002 1005 1009\r\n"
      ]
     },
     "execution_count": 20,
     "metadata": {},
     "output_type": "execute_result"
    },
    {
     "data": {
      "text/plain": [
       "1002 1003\r\n",
       "1005 1006\r\n",
       "1009 1010\r\n"
      ]
     },
     "execution_count": 20,
     "metadata": {},
     "output_type": "execute_result"
    }
   ],
   "source": [
    "(+\\) 2 3 4\n",
    "1000+\\2 3 4\n",
    "+\\[1000 1001;2 3 4]"
   ]
  },
  {
   "cell_type": "code",
   "execution_count": null,
   "metadata": {},
   "outputs": [],
   "source": []
  },
  {
   "cell_type": "code",
   "execution_count": null,
   "metadata": {},
   "outputs": [],
   "source": []
  },
  {
   "cell_type": "code",
   "execution_count": null,
   "metadata": {},
   "outputs": [],
   "source": []
  }
 ],
 "metadata": {
  "kernelspec": {
   "display_name": "Q (kdb+)",
   "language": "q",
   "name": "qpk"
  },
  "language_info": {
   "file_extension": ".q",
   "mimetype": "text/x-q",
   "name": "q",
   "version": "3.6.0"
  }
 },
 "nbformat": 4,
 "nbformat_minor": 2
}
