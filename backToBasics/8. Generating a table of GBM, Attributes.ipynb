{
 "cells": [
  {
   "cell_type": "markdown",
   "metadata": {},
   "source": [
    "- [Path Simulation into a table](#Simulating-path-for-different-symbols-into-a-table)\n",
    "    - [Using adverbs for many path(s) simulation](#Many-path-simulation-using-adverbs)\n",
    "    - [Generating a table](#Generating-a-table)\n",
    "    - [Putting it all tgt](#Finalie:-putting-all-together-and-creating-a-table)\n",
    "- [Attributes](#Attributes)\n",
    "    - [Introduction](#Attributes-basic)\n",
    "    - [The sort attribute \\`s](#Sort-Attribute)\n",
    "        - [Doesn't cost memory, binary search](#Binary-search)\n",
    "        - [Sorting Tables](#Sorting-Tables)\n",
    "    - [The rest of Attributes(memories needed)](#Rest-of-Attributes)\n",
    "    - [The Unique attribute \\`u](#Unique-attribute)\n",
    "        - [Index-Apply, @-operatoar, this applies to ALL ATTRIBUTES](#Index-Apply,@-operator)\n",
    "        - [Hasing a q dictionary to make it pythong dictionary](#Applying-unique-to-dictionary-key-make-it-truly-python-dictionary)\n",
    "    - [The Partition attribute \\`p](#Partition-Attribute)\n",
    "    - [The Group Attribute \\`g](#Group-Attribute)\n",
    "- [How query work and how to optimize query based on attribute](#Optimizing-query)"
   ]
  },
  {
   "cell_type": "code",
   "execution_count": 1,
   "metadata": {},
   "outputs": [],
   "source": [
    "system \"l qtips/util.q\"\n",
    "system \"l qtips/sim.q\"\n",
    "system \"l qtips/stat.q\""
   ]
  },
  {
   "cell_type": "markdown",
   "metadata": {},
   "source": [
    "# Simulating path for different symbols into a table\n",
    "## Many path simulation using adverbs"
   ]
  },
  {
   "cell_type": "code",
   "execution_count": 2,
   "metadata": {},
   "outputs": [
    {
     "name": "stdout",
     "output_type": "stream",
     "text": [
      "2001.01.01 2001.01.02 2001.01.03 2001.01.04 2001.01.05 2001.01.06 2001.01.07 ..\r\n"
     ]
    },
    {
     "data": {
      "text/plain": [
       "100 99.60649 100.0606 100.6185 103.1832 102.4524 101.743  98.28538 102.0385 1..\r\n",
       "100 102.6424 104.6078 107.0357 105.7365 103.7757 104.6683 107.4583 106.7366 1..\r\n",
       "100 103.9796 110.9127 115.7124 121.7422 118.9225 132.165  136.0676 124.9609 1..\r\n",
       "100 101.4057 101.9946 101.6875 100.8562 102.186  101.3456 101.6848 102.2907 1..\r\n"
      ]
     },
     "execution_count": 2,
     "metadata": {},
     "output_type": "execute_result"
    },
    {
     "data": {
      "text/plain": [
       "71 70.74873 68.40532 66.35008 66.13724 67.49015 66.55713 66.70249 67.6267  66..\r\n",
       "51 50.81951 49.13622 47.65991 47.50703 48.47884 47.80865 47.91306 48.57693 47..\r\n",
       "17 16.93984 16.37874 15.88664 15.83568 16.15961 15.93622 15.97102 16.19231 15..\r\n",
       "73 72.74165 70.33223 68.21909 68.00026 69.39129 68.43198 68.58144 69.53168 68..\r\n"
      ]
     },
     "execution_count": 2,
     "metadata": {},
     "output_type": "execute_result"
    },
    {
     "data": {
      "text/plain": [
       "76 75.08739 76.89137 77.32267 79.05748 81.15346 81.1392  82.13347 82.18542 84..\r\n",
       "38 37.54369 38.44569 38.66134 39.52874 40.57673 40.5696  41.06673 41.09271 42..\r\n",
       "66 65.20747 66.77409 67.14864 68.65518 70.47538 70.46299 71.32643 71.37154 73..\r\n",
       "34 33.59173 34.39877 34.59172 35.36782 36.3055  36.29911 36.74392 36.76716 37..\r\n"
      ]
     },
     "execution_count": 2,
     "metadata": {},
     "output_type": "execute_result"
    },
    {
     "data": {
      "text/plain": [
       "63 62.83375 64.4008  64.21111 66.35626 65.70915 64.70225 65.95787 66.24118 64..\r\n",
       "93 92.75459 95.06784 94.78783 97.95448 96.99922 95.51285 97.36638 97.7846  95..\r\n",
       "72 71.81    73.60091 73.38413 75.83573 75.09617 73.94543 75.38043 75.70421 74..\r\n",
       "22 21.94195 22.48917 22.42293 23.17203 22.94605 22.59444 23.03291 23.13184 22..\r\n"
      ]
     },
     "execution_count": 2,
     "metadata": {},
     "output_type": "execute_result"
    }
   ],
   "source": [
    "show dt:.util.rng[1;2001.01.01;2002.01.01]\n",
    "100 * .sim.path[;.05;dt%365.25] each 4?1f //running for different volatility\n",
    "(4?100) *\\:.sim.path[.3;.05] dt%365.25 //running for 4 different starting stock prices\n",
    "flip *[4?100] each .sim.path[.3;.05] dt%365.25 //flip of above, yyy\n",
    ".sim.path[.3;.05;dt%365.25]*/:4?100 //same as above"
   ]
  },
  {
   "cell_type": "code",
   "execution_count": 16,
   "metadata": {},
   "outputs": [
    {
     "data": {
      "text/plain": [
       "100 95.8186  91.66538 89.88349 91.52997 91.55524 88.80695 86.49372 86.69652 8..\r\n",
       "100 100.0839 98.97854 98.28987 98.42714 99.87087 99.33454 99.54408 98.70428 1..\r\n",
       "100 99.75271 100.1135 100.1173 100.1624 100.1115 100.0595 99.68587 99.33417 9..\r\n",
       "100 98.0912  97.22219 96.69273 97.38031 97.0199  96.99662 95.56029 97.48227 9..\r\n"
      ]
     },
     "execution_count": 16,
     "metadata": {},
     "output_type": "execute_result"
    },
    {
     "data": {
      "text/plain": [
       "100 99.00176 99.26184 100.2123 99.44085 99.82198 100.6217 100.0202 99.18872 9..\r\n",
       "100 99.10378 99.98887 100.9797 100.8107 101.3917 100.708  100.4029 99.90281 9..\r\n",
       "100 105.237  106.5451 110.085  113.268  114.1026 116.1285 120.0737 124.6833 1..\r\n",
       "100 101.6031 102.5257 103.9812 108.5024 108.4186 107.3093 107.6362 107.9267 1..\r\n"
      ]
     },
     "execution_count": 16,
     "metadata": {},
     "output_type": "execute_result"
    }
   ],
   "source": [
    "100*.sim.path[;;dt%365.25]'[4?.5f;4?.2] //running four different path with different mean and variance\n",
    "100*(4?.5f).sim.path[;;dt%365.25]'4?.2 //if we use ' adverb, for binary function can use x f' y instead of f'[x;y]"
   ]
  },
  {
   "cell_type": "markdown",
   "metadata": {},
   "source": [
    "## Generating a table"
   ]
  },
  {
   "cell_type": "code",
   "execution_count": 3,
   "metadata": {},
   "outputs": [
    {
     "name": "stdout",
     "output_type": "stream",
     "text": [
      "id date                                                                      ..\r\n",
      "-----------------------------------------------------------------------------..\r\n",
      "0  2001.01.01 2001.01.02 2001.01.03 2001.01.04 2001.01.05 2001.01.06 2001.01...\r\n",
      "1  2001.01.01 2001.01.02 2001.01.03 2001.01.04 2001.01.05 2001.01.06 2001.01...\r\n",
      "2  2001.01.01 2001.01.02 2001.01.03 2001.01.04 2001.01.05 2001.01.06 2001.01...\r\n",
      "3  2001.01.01 2001.01.02 2001.01.03 2001.01.04 2001.01.05 2001.01.06 2001.01...\r\n",
      "4  2001.01.01 2001.01.02 2001.01.03 2001.01.04 2001.01.05 2001.01.06 2001.01...\r\n",
      "5  2001.01.01 2001.01.02 2001.01.03 2001.01.04 2001.01.05 2001.01.06 2001.01...\r\n",
      "6  2001.01.01 2001.01.02 2001.01.03 2001.01.04 2001.01.05 2001.01.06 2001.01...\r\n",
      "7  2001.01.01 2001.01.02 2001.01.03 2001.01.04 2001.01.05 2001.01.06 2001.01...\r\n",
      "8  2001.01.01 2001.01.02 2001.01.03 2001.01.04 2001.01.05 2001.01.06 2001.01...\r\n",
      "9  2001.01.01 2001.01.02 2001.01.03 2001.01.04 2001.01.05 2001.01.06 2001.01...\r\n"
     ]
    },
    {
     "data": {
      "text/plain": [
       "id date       price   \r\n",
       "----------------------\r\n",
       "0  2001.01.01 91      \r\n",
       "0  2001.01.02 91.16153\r\n",
       "0  2001.01.03 94.07292\r\n",
       "0  2001.01.04 88.01806\r\n",
       "0  2001.01.05 91.52637\r\n",
       "0  2001.01.06 90.72591\r\n",
       "0  2001.01.07 88.78336\r\n",
       "0  2001.01.08 94.62853\r\n",
       "0  2001.01.09 98.13645\r\n",
       "0  2001.01.10 108.6298\r\n",
       "0  2001.01.11 112.8646\r\n",
       "0  2001.01.12 106.5435\r\n",
       "0  2001.01.13 100.4122\r\n",
       "0  2001.01.14 101.3917\r\n",
       "0  2001.01.15 101.5999\r\n",
       "0  2001.01.16 96.77371\r\n",
       "0  2001.01.17 101.4076\r\n",
       "0  2001.01.18 94.46252\r\n",
       "0  2001.01.19 98.24121\r\n",
       "0  2001.01.20 103.527 \r\n",
       "..\r\n"
      ]
     },
     "execution_count": 3,
     "metadata": {},
     "output_type": "execute_result"
    }
   ],
   "source": [
    "n:10;\n",
    "p:(n?100)*(n?1f) .sim.path[;;dt%365.25]' n?.1 //10 security, with 10 diferent starting point, 10 different volatility, 10 return\n",
    "show t:([]id:til n;date:n#enlist dt;price:p)\n",
    "ungroup t //similar to raze? if equal number of date and price, will make sure 1 id, 1 date 1 price"
   ]
  },
  {
   "cell_type": "code",
   "execution_count": 4,
   "metadata": {},
   "outputs": [],
   "source": [
    "genp:{[id;S;s;r;dtm]\n",
    " t:abs type dtm;\n",
    " tm:(\"np\" t in 12 14 15h)$dtm; //timestamp date datetime will cast to \"p\" -->timestamp, else case to \"n\" timespan\n",
    " p:S*path[s;r;tm%365D06]; //Stock starting price *path\n",
    " c:`id,`time`date[t=14h],`price; //columns name, if 0choose time, if 1 choose date\n",
    " p:flip c!(id;dtm;p); //flip dictionary to be table\n",
    " p}"
   ]
  },
  {
   "cell_type": "code",
   "execution_count": 5,
   "metadata": {},
   "outputs": [
    {
     "data": {
      "text/plain": [
       "id date       price   \r\n",
       "----------------------\r\n",
       "0  2000.01.01 100     \r\n",
       "0  2000.01.02 103.5   \r\n",
       "0  2000.01.03 102.5442\r\n",
       "0  2000.01.04 102.3235\r\n",
       "0  2000.01.05 102.9763\r\n"
      ]
     },
     "execution_count": 5,
     "metadata": {},
     "output_type": "execute_result"
    }
   ],
   "source": [
    "5#.sim.genp[0;100;.3;.03] .util.rng[1;2000.01.01;2001.01.01] //generating for daily data"
   ]
  },
  {
   "cell_type": "code",
   "execution_count": 6,
   "metadata": {},
   "outputs": [
    {
     "data": {
      "text/plain": [
       "id time  price   \r\n",
       "-----------------\r\n",
       "0  09:00 100     \r\n",
       "0  09:01 100.0265\r\n",
       "0  09:02 99.97448\r\n",
       "0  09:03 99.98156\r\n",
       "0  09:04 99.99573\r\n"
      ]
     },
     "execution_count": 6,
     "metadata": {},
     "output_type": "execute_result"
    }
   ],
   "source": [
    "5#.sim.genp[0;100;.3;.03] .util.rng[1;09:00;16:00] //generating for minute data, see how column name change"
   ]
  },
  {
   "cell_type": "markdown",
   "metadata": {},
   "source": [
    "## Finalie: putting all together and creating a table"
   ]
  },
  {
   "cell_type": "code",
   "execution_count": 7,
   "metadata": {},
   "outputs": [
    {
     "data": {
      "text/plain": [
       "+`id`date`price!(0 0 0 0 0 0 0 0 0 0 0 0 0 0 0 0 0 0 0 0 0 0 0 0 0 0 0 0 0 0 ..\r\n",
       "+`id`date`price!(1 1 1 1 1 1 1 1 1 1 1 1 1 1 1 1 1 1 1 1 1 1 1 1 1 1 1 1 1 1 ..\r\n",
       "+`id`date`price!(2 2 2 2 2 2 2 2 2 2 2 2 2 2 2 2 2 2 2 2 2 2 2 2 2 2 2 2 2 2 ..\r\n",
       "+`id`date`price!(3 3 3 3 3 3 3 3 3 3 3 3 3 3 3 3 3 3 3 3 3 3 3 3 3 3 3 3 3 3 ..\r\n",
       "+`id`date`price!(4 4 4 4 4 4 4 4 4 4 4 4 4 4 4 4 4 4 4 4 4 4 4 4 4 4 4 4 4 4 ..\r\n",
       "+`id`date`price!(5 5 5 5 5 5 5 5 5 5 5 5 5 5 5 5 5 5 5 5 5 5 5 5 5 5 5 5 5 5 ..\r\n",
       "+`id`date`price!(6 6 6 6 6 6 6 6 6 6 6 6 6 6 6 6 6 6 6 6 6 6 6 6 6 6 6 6 6 6 ..\r\n",
       "+`id`date`price!(7 7 7 7 7 7 7 7 7 7 7 7 7 7 7 7 7 7 7 7 7 7 7 7 7 7 7 7 7 7 ..\r\n",
       "+`id`date`price!(8 8 8 8 8 8 8 8 8 8 8 8 8 8 8 8 8 8 8 8 8 8 8 8 8 8 8 8 8 8 ..\r\n",
       "+`id`date`price!(9 9 9 9 9 9 9 9 9 9 9 9 9 9 9 9 9 9 9 9 9 9 9 9 9 9 9 9 9 9 ..\r\n"
      ]
     },
     "execution_count": 7,
     "metadata": {},
     "output_type": "execute_result"
    }
   ],
   "source": [
    "n:10;dts:.util.rng[1;2000.01.01;2001.01.01];\n",
    ".sim.genp[;;;;dts]'[til n;n?100;n?.3;n?.07] //this is a list of 10 tables //raze reduce one layer of nesting\n",
    "//raze start with empty list (), x 0 , x 1, ....."
   ]
  },
  {
   "cell_type": "code",
   "execution_count": 8,
   "metadata": {},
   "outputs": [
    {
     "data": {
      "text/plain": [
       "id date      | price   \r\n",
       "-------------| --------\r\n",
       "0  2000.01.01| 40      \r\n",
       "0  2000.01.02| 39.80801\r\n",
       "0  2000.01.03| 39.87907\r\n",
       "0  2000.01.04| 39.84628\r\n",
       "0  2000.01.05| 39.83921\r\n",
       "0  2000.01.06| 39.60324\r\n",
       "0  2000.01.07| 39.27849\r\n",
       "0  2000.01.08| 39.07609\r\n",
       "0  2000.01.09| 39.04476\r\n",
       "0  2000.01.10| 38.98655\r\n",
       "0  2000.01.11| 38.69436\r\n",
       "0  2000.01.12| 38.9584 \r\n",
       "0  2000.01.13| 39.02865\r\n",
       "0  2000.01.14| 39.00942\r\n",
       "0  2000.01.15| 38.96701\r\n",
       "0  2000.01.16| 38.93442\r\n",
       "0  2000.01.17| 38.86379\r\n",
       "0  2000.01.18| 38.99949\r\n",
       "0  2000.01.19| 39.29227\r\n",
       "0  2000.01.20| 39.48125\r\n",
       "..\r\n"
      ]
     },
     "execution_count": 8,
     "metadata": {},
     "output_type": "execute_result"
    }
   ],
   "source": [
    "2!raze .sim.genp[;;;;dts]'[til n;n?100;n?.3;n?.07] //keying the table, suppose to do after razing"
   ]
  },
  {
   "cell_type": "markdown",
   "metadata": {},
   "source": [
    "# Attributes\n",
    "By default, q will use a linear search, however, if the legnth of list grow, it will not be efficient. the above data set has 3650 data points. We can use other searching mechanism if proper attribute is placed\n",
    "* Binary Search (sorted data)\n",
    "* Hashing algorithm (unique, grouped, partitioned data)  \n",
    "The different attributes are: **sorted,unqiue,parted, grouped**  \n",
    "We apply attribute using #, instead of using a number(it means take), we use a symbol (first letter of the different attribute to apply"
   ]
  },
  {
   "cell_type": "markdown",
   "metadata": {},
   "source": [
    "## Attributes basic"
   ]
  },
  {
   "cell_type": "code",
   "execution_count": 9,
   "metadata": {},
   "outputs": [
    {
     "data": {
      "text/plain": [
       "`s#0 1 2 3 4\r\n"
      ]
     },
     "execution_count": 9,
     "metadata": {},
     "output_type": "execute_result"
    },
    {
     "data": {
      "text/plain": [
       "`s\r\n"
      ]
     },
     "execution_count": 9,
     "metadata": {},
     "output_type": "execute_result"
    },
    {
     "data": {
      "text/plain": [
       "`\r\n"
      ]
     },
     "execution_count": 9,
     "metadata": {},
     "output_type": "execute_result"
    },
    {
     "data": {
      "text/plain": [
       "0 1 2 3 4\r\n"
      ]
     },
     "execution_count": 9,
     "metadata": {},
     "output_type": "execute_result"
    }
   ],
   "source": [
    "x:`s#til 5\n",
    "x\n",
    "attr x //return attribute of x\n",
    "attr () //if no attribute will return empty symbol\n",
    "`#x //null symbol means removing attribute"
   ]
  },
  {
   "cell_type": "markdown",
   "metadata": {},
   "source": [
    "## Sort Attribute"
   ]
  },
  {
   "cell_type": "code",
   "execution_count": 9,
   "metadata": {},
   "outputs": [
    {
     "ename": "\u001b[0;31ms-fail\u001b[0m",
     "evalue": "\u001b[0;31ms-fail\u001b[0m",
     "output_type": "error",
     "traceback": [
      "\u001b[0;31mevaluation error:\n\u001b[0m",
      "\u001b[0;31ms-fail\u001b[0m",
      "\u001b[0;31m\u001b[0m",
      "\u001b[0;31m  [0]  `s#reverse til 4 //applying sorted to non-ascending list will cause attribute to fail\r\n         ^\r\n\u001b[0m"
     ]
    }
   ],
   "source": [
    "`s#reverse til 4 //applying sorted to non-ascending list will cause attribute to fail"
   ]
  },
  {
   "cell_type": "code",
   "execution_count": 10,
   "metadata": {},
   "outputs": [
    {
     "data": {
      "text/plain": [
       "`s#1 2 2 3 5\r\n"
      ]
     },
     "execution_count": 10,
     "metadata": {},
     "output_type": "execute_result"
    }
   ],
   "source": [
    "asc 5 2 1 3 2 //calling asc will automaticlly apply sorted attribute to list"
   ]
  },
  {
   "cell_type": "markdown",
   "metadata": {},
   "source": [
    "Adding sorted attribute adds no memory overhead\n",
    "\"?\": find, if a list is passed as the left operand, it will search that list for y"
   ]
  },
  {
   "cell_type": "code",
   "execution_count": 11,
   "metadata": {},
   "outputs": [
    {
     "data": {
      "text/plain": [
       "99\r\n"
      ]
     },
     "execution_count": 11,
     "metadata": {},
     "output_type": "execute_result"
    }
   ],
   "source": [
    "x:til 100000000\n",
    "\\t x? last x"
   ]
  },
  {
   "cell_type": "code",
   "execution_count": 12,
   "metadata": {},
   "outputs": [
    {
     "data": {
      "text/plain": [
       "0\r\n"
      ]
     },
     "execution_count": 12,
     "metadata": {},
     "output_type": "execute_result"
    }
   ],
   "source": [
    "s:`s#x\n",
    "\\t s? last x"
   ]
  },
  {
   "cell_type": "code",
   "execution_count": 13,
   "metadata": {},
   "outputs": [
    {
     "data": {
      "text/plain": [
       "`s#0 1 2 3 4 5 6 7 8 9 10 11 12 13 14 15 16 17 18 19 20 21 22 23 24 25 26 27 ..\r\n"
      ]
     },
     "execution_count": 13,
     "metadata": {},
     "output_type": "execute_result"
    }
   ],
   "source": [
    "x //Note that even though we did not assign x back, it is \"sorted\" too. q automatically do this as there is no memory overhead"
   ]
  },
  {
   "cell_type": "code",
   "execution_count": 14,
   "metadata": {},
   "outputs": [
    {
     "data": {
      "text/plain": [
       "`s#1 2 3 4\r\n"
      ]
     },
     "execution_count": 14,
     "metadata": {},
     "output_type": "execute_result"
    }
   ],
   "source": [
    "//due to applying sort attribute being in-placed, we do not need to even store it in new variable\n",
    "`s#x:1 2 3 4"
   ]
  },
  {
   "cell_type": "markdown",
   "metadata": {},
   "source": [
    "### Binary search\n",
    "We can force a binary search even without the sorted attribute.  \n",
    "The **bin** operation is slightly different, it returns the largest index that is <= the actual number  \n",
    "The **binr** operation returns index that is >= the actual number"
   ]
  },
  {
   "cell_type": "code",
   "execution_count": 15,
   "metadata": {},
   "outputs": [
    {
     "data": {
      "text/plain": [
       "0 2 4 6 8 10 12 14\r\n"
      ]
     },
     "execution_count": 15,
     "metadata": {},
     "output_type": "execute_result"
    },
    {
     "data": {
      "text/plain": [
       "6\r\n"
      ]
     },
     "execution_count": 15,
     "metadata": {},
     "output_type": "execute_result"
    },
    {
     "data": {
      "text/plain": [
       "7\r\n"
      ]
     },
     "execution_count": 15,
     "metadata": {},
     "output_type": "execute_result"
    }
   ],
   "source": [
    "2*til 8\n",
    "(2*til 8) bin 13\n",
    "(2*til 8) binr 13"
   ]
  },
  {
   "cell_type": "markdown",
   "metadata": {},
   "source": [
    "### Sorting Tables\n",
    "**xasc** two arguements, x: list of columns(or one column), y: table  \n",
    "automatically put x 0 (or x) with sorted attribute"
   ]
  },
  {
   "cell_type": "code",
   "execution_count": 16,
   "metadata": {},
   "outputs": [
    {
     "name": "stdout",
     "output_type": "stream",
     "text": [
      "(+`id`date!(`s#0 0 0 0 0 0 0 0 0 0 0 0 0 0 0 0 0 0 0 0 0 0 0 0 0 0 0 0 0 0 0 ..\n"
     ]
    },
    {
     "data": {
      "text/plain": [
       "id date      | price   \r\n",
       "-------------| --------\r\n",
       "0  2000.01.01| 72      \r\n",
       "0  2000.01.02| 72.3129 \r\n",
       "0  2000.01.03| 72.52072\r\n",
       "0  2000.01.04| 72.00876\r\n",
       "0  2000.01.05| 71.33128\r\n",
       "0  2000.01.06| 71.33287\r\n",
       "0  2000.01.07| 70.72105\r\n",
       "0  2000.01.08| 70.42016\r\n",
       "0  2000.01.09| 70.31312\r\n",
       "0  2000.01.10| 70.29542\r\n",
       "0  2000.01.11| 70.39729\r\n",
       "0  2000.01.12| 70.22473\r\n",
       "0  2000.01.13| 70.15744\r\n",
       "0  2000.01.14| 70.6191 \r\n",
       "0  2000.01.15| 70.67955\r\n",
       "0  2000.01.16| 71.00712\r\n",
       "0  2000.01.17| 70.98353\r\n",
       "0  2000.01.18| 71.10379\r\n",
       "0  2000.01.19| 70.79851\r\n",
       "0  2000.01.20| 70.509  \r\n",
       "..\r\n"
      ]
     },
     "execution_count": 16,
     "metadata": {},
     "output_type": "execute_result"
    }
   ],
   "source": [
    "n:1000;dts:.util.rng[1;2000.01.01;2005.01.01];\n",
    "t:2!raze .sim.genp[;;;;dts]'[til n;n?100;n?.3;n?.07] //keying the table, suppose to do after razing\n",
    "0N!`id`date xasc t //we can see sorted attribute applied to id //note that this is not in place\n",
    "//to make it in place do backtick table"
   ]
  },
  {
   "cell_type": "code",
   "execution_count": 17,
   "metadata": {},
   "outputs": [
    {
     "data": {
      "text/plain": [
       "c    | t f a\r\n",
       "-----| -----\r\n",
       "id   | j   s\r\n",
       "date | d    \r\n",
       "price| f    \r\n"
      ]
     },
     "execution_count": 17,
     "metadata": {},
     "output_type": "execute_result"
    }
   ],
   "source": [
    "meta `id`date xasc t"
   ]
  },
  {
   "cell_type": "markdown",
   "metadata": {},
   "source": [
    "timing multiple times\n",
    "* \\t:n\n",
    "* \\ts:n time and space "
   ]
  },
  {
   "cell_type": "code",
   "execution_count": 18,
   "metadata": {},
   "outputs": [
    {
     "data": {
      "text/plain": [
       "285\r\n"
      ]
     },
     "execution_count": 18,
     "metadata": {},
     "output_type": "execute_result"
    }
   ],
   "source": [
    "\\t:100 t`id`date!(999;2005.01.01)"
   ]
  },
  {
   "cell_type": "code",
   "execution_count": 19,
   "metadata": {},
   "outputs": [
    {
     "data": {
      "text/plain": [
       "0\r\n"
      ]
     },
     "execution_count": 19,
     "metadata": {},
     "output_type": "execute_result"
    }
   ],
   "source": [
    "`id`date xasc `t; //sorted in place //note that if sort tables within function this will not work, unless we return t\n",
    "\\t:100 t`id`date!(999;2005.01.01) "
   ]
  },
  {
   "cell_type": "markdown",
   "metadata": {},
   "source": [
    "## Rest of attributes\n",
    "Sort attribute is only good for data with high number of distinct values. if there's a lot of repeated values (like in our example) we should use other attribute  \n",
    "Everything below are hash\n",
    "* unique (map results to single index)\n",
    "* grouped (map results to single index and count of it)\n",
    "* partitioned (list of index)"
   ]
  },
  {
   "cell_type": "markdown",
   "metadata": {},
   "source": [
    "## Unique attribute\n",
    "strictest attributed, must be unique, but fastest algorithm"
   ]
  },
  {
   "cell_type": "code",
   "execution_count": 24,
   "metadata": {},
   "outputs": [
    {
     "ename": "\u001b[0;31mu-fail\u001b[0m",
     "evalue": "\u001b[0;31mu-fail\u001b[0m",
     "output_type": "error",
     "traceback": [
      "\u001b[0;31mevaluation error:\n\u001b[0m",
      "\u001b[0;31mu-fail\u001b[0m",
      "\u001b[0;31m\u001b[0m",
      "\u001b[0;31m  [0]  `u#0 0\r\n         ^\r\n\u001b[0m"
     ]
    }
   ],
   "source": [
    "`u#0 0"
   ]
  },
  {
   "cell_type": "code",
   "execution_count": 21,
   "metadata": {},
   "outputs": [
    {
     "data": {
      "text/plain": [
       "date      | id price   \r\n",
       "----------| -----------\r\n",
       "2000.01.01| 0  72      \r\n",
       "2000.01.02| 0  72.3129 \r\n",
       "2000.01.03| 0  72.52072\r\n",
       "2000.01.04| 0  72.00876\r\n",
       "2000.01.05| 0  71.33128\r\n"
      ]
     },
     "execution_count": 21,
     "metadata": {},
     "output_type": "execute_result"
    }
   ],
   "source": [
    "t2:select from t where id=0 //this will make dates unique //since only 1 id, threw away all other ids\n",
    "5#t2: `date xkey t2 //keying only 1 col"
   ]
  },
  {
   "cell_type": "code",
   "execution_count": 22,
   "metadata": {},
   "outputs": [
    {
     "data": {
      "text/plain": [
       "2000.01.01 2000.01.02 2000.01.03 2000.01.04 2000.01.05 2000.01.06 2000.01.07 ..\r\n"
      ]
     },
     "execution_count": 22,
     "metadata": {},
     "output_type": "execute_result"
    }
   ],
   "source": [
    "(t2:0!t2)`date //we need to unkey the table before applying attribute //select the list"
   ]
  },
  {
   "cell_type": "code",
   "execution_count": 23,
   "metadata": {},
   "outputs": [
    {
     "data": {
      "text/plain": [
       "c    | t f a\r\n",
       "-----| -----\r\n",
       "date | d   u\r\n",
       "id   | j    \r\n",
       "price| f    \r\n"
      ]
     },
     "execution_count": 23,
     "metadata": {},
     "output_type": "execute_result"
    }
   ],
   "source": [
    "t2[`date]:`u#t2`date //unique attribute applied to t2\n",
    "meta t2"
   ]
  },
  {
   "cell_type": "markdown",
   "metadata": {},
   "source": [
    "### Index Apply,@ operator"
   ]
  },
  {
   "cell_type": "code",
   "execution_count": 24,
   "metadata": {},
   "outputs": [
    {
     "data": {
      "text/plain": [
       "`u#2000.01.01 2000.01.02 2000.01.03 2000.01.04 2000.01.05 2000.01.06 2000.01...\r\n"
      ]
     },
     "execution_count": 24,
     "metadata": {},
     "output_type": "execute_result"
    }
   ],
   "source": [
    "//version 1, two arguement\n",
    "@[t2;`date] //calling t2[`date]"
   ]
  },
  {
   "cell_type": "code",
   "execution_count": 33,
   "metadata": {},
   "outputs": [
    {
     "data": {
      "text/plain": [
       "date       id price   \r\n",
       "----------------------\r\n",
       "2000.01.01 0  72      \r\n",
       "2000.01.02 0  72.3129 \r\n",
       "2000.01.03 0  72.52072\r\n",
       "2000.01.04 0  72.00876\r\n",
       "2000.01.05 0  71.33128\r\n"
      ]
     },
     "execution_count": 33,
     "metadata": {},
     "output_type": "execute_result"
    },
    {
     "data": {
      "text/plain": [
       "c    | t f a\r\n",
       "-----| -----\r\n",
       "date | d   u\r\n",
       "id   | j    \r\n",
       "price| f    \r\n"
      ]
     },
     "execution_count": 33,
     "metadata": {},
     "output_type": "execute_result"
    }
   ],
   "source": [
    "//version 2, three arguement, third arguement monoadic function f, @[t;col;f] === f[t[col]]\n",
    "5#t2:@[t2;`date;`#] //removing attribute and assinging back to t2\n",
    "meta value @[`t2;`date;`u#] //first arguement symbol => in-placed, not creating a copy //@ will return `t2 in this case"
   ]
  },
  {
   "cell_type": "code",
   "execution_count": 39,
   "metadata": {},
   "outputs": [
    {
     "data": {
      "text/plain": [
       "date       id price    \r\n",
       "-----------------------\r\n",
       "2000.01.01 0  0.72     \r\n",
       "2000.01.02 0  0.723129 \r\n",
       "2000.01.03 0  0.7252072\r\n",
       "2000.01.04 0  0.7200876\r\n",
       "2000.01.05 0  0.7133128\r\n"
      ]
     },
     "execution_count": 39,
     "metadata": {},
     "output_type": "execute_result"
    }
   ],
   "source": [
    "//version 3, four aeguement, dyadic function @[t;x;f;y] ==> f[t[x];y]\n",
    "5#@[t2;`price;%;100] //not in-placed without backtick"
   ]
  },
  {
   "cell_type": "markdown",
   "metadata": {},
   "source": [
    "### Applying unique to dictionary key make it truly python dictionary"
   ]
  },
  {
   "cell_type": "code",
   "execution_count": 7,
   "metadata": {},
   "outputs": [
    {
     "name": "stdout",
     "output_type": "stream",
     "text": [
      "`eae`oco`khd`dga`eob`iog`edg`kio`gme`iko\r\n",
      "2 8 3 4 1 6 4 4 2 2\r\n",
      "`u#`eae`oco`khd`dga`eob`iog`edg`kio`gme`iko!2 8 3 4 1 6 4 4 2 2\n"
     ]
    },
    {
     "data": {
      "text/plain": [
       "eae| 2\r\n",
       "oco| 8\r\n",
       "khd| 3\r\n",
       "dga| 4\r\n",
       "eob| 1\r\n",
       "iog| 6\r\n",
       "edg| 4\r\n",
       "kio| 4\r\n",
       "gme| 2\r\n",
       "iko| 2\r\n"
      ]
     },
     "execution_count": 7,
     "metadata": {},
     "output_type": "execute_result"
    }
   ],
   "source": [
    "//M1 unique list join list\n",
    "show m1:10?`3\n",
    "show m2:10?10\n",
    "0N!d:@[`u#;m1]!m2"
   ]
  },
  {
   "cell_type": "code",
   "execution_count": 5,
   "metadata": {},
   "outputs": [
    {
     "name": "stdout",
     "output_type": "stream",
     "text": [
      "(`u#`symbol$())!`long$()\n"
     ]
    },
    {
     "data": {
      "text/plain": []
     },
     "execution_count": 5,
     "metadata": {},
     "output_type": "execute_result"
    },
    {
     "name": "stdout",
     "output_type": "stream",
     "text": [
      "(`u#,`peter)!,5\n"
     ]
    },
    {
     "data": {
      "text/plain": [
       "peter| 5\r\n"
      ]
     },
     "execution_count": 5,
     "metadata": {},
     "output_type": "execute_result"
    }
   ],
   "source": [
    "//M2, start with an empty and start appending\n",
    "0N!d1:@[`u#;0#`]!0#1\n",
    "d1[`peter]:5\n",
    "0N!d1"
   ]
  },
  {
   "cell_type": "markdown",
   "metadata": {},
   "source": [
    "## Partition Attribute\n",
    "unique is perfect for dictionary or single column key, but is useless for table with multiple keys  \n",
    "multi-coumn key, we need use partition `p or group attribute `g  \n",
    "partition attribute creates a map from unique value to (row index,count), so same value must be tgt  \n",
    "Sorting is good for creating partition attribute, even though it will have sort attribute, can become faster with partition  \n"
   ]
  },
  {
   "cell_type": "markdown",
   "metadata": {},
   "source": [
    "n:1000;dts:.util.rng[1;2000.01.01;2010.01.01];\n",
    "t:raze .sim.genp[;;;;dts]'[til n;n?100;n?.3;n?.07]"
   ]
  },
  {
   "cell_type": "code",
   "execution_count": 3,
   "metadata": {},
   "outputs": [
    {
     "data": {
      "text/plain": [
       "date       id price\r\n",
       "-------------------\r\n",
       "2000.01.01 0  1    \r\n",
       "2000.01.01 1  25   \r\n",
       "2000.01.01 2  98   \r\n",
       "2000.01.01 3  52   \r\n",
       "2000.01.01 4  74   \r\n"
      ]
     },
     "execution_count": 3,
     "metadata": {},
     "output_type": "execute_result"
    }
   ],
   "source": [
    "//data is currently for 10 years, and 1000 different id/syms\n",
    "5#t:{x xcols @[;x;`p#] x xasc y}[`date] t //x:`date, y:t, function first 1) sort by x, apply attribute, reorder x in front"
   ]
  },
  {
   "cell_type": "code",
   "execution_count": 4,
   "metadata": {},
   "outputs": [
    {
     "name": "stdout",
     "output_type": "stream",
     "text": [
      "+`date`id`price!(`p#2000.01.01 2000.01.01 2000.01.01 2000.01.01 2000.01.01 20..\n"
     ]
    },
    {
     "data": {
      "text/plain": [
       "c    | t f a\r\n",
       "-----| -----\r\n",
       "date | d   p\r\n",
       "id   | j    \r\n",
       "price| f    \r\n"
      ]
     },
     "execution_count": 4,
     "metadata": {},
     "output_type": "execute_result"
    }
   ],
   "source": [
    "0N!t; meta t //note that parted is applied to date"
   ]
  },
  {
   "cell_type": "markdown",
   "metadata": {},
   "source": [
    "## Group Attribute\n",
    "group attribute creates a map from unique value to a list of index, where the list of index is where the value appear  \n",
    "This will take significantly additional memory  \n",
    "Best use in tables that are continuously being updated with new rows  \n",
    "when new data comes in, q update the internal grouping map, this make each update slower but boost query performance"
   ]
  },
  {
   "cell_type": "code",
   "execution_count": 5,
   "metadata": {},
   "outputs": [
    {
     "data": {
      "text/plain": [
       "c    | t f a\r\n",
       "-----| -----\r\n",
       "id   | j    \r\n",
       "date | d   g\r\n",
       "price| f    \r\n"
      ]
     },
     "execution_count": 5,
     "metadata": {},
     "output_type": "execute_result"
    }
   ],
   "source": [
    "t:raze .sim.genp[;;;;dts]'[til n;n?100;n?.3;n?.07] //we start again but do not need to sort date to apply group\n",
    "meta @[t;`date;`g#]"
   ]
  },
  {
   "cell_type": "markdown",
   "metadata": {},
   "source": [
    "# Optimizing query\n",
    "Adding an attribute on the first column of the key allow q to narrow the seach extremely fast  \n",
    "Once the first column is used to narrow the search, attributes that may exists on the remaining columns are ignored(i.e. linear search for rest of columns)  \n",
    "it is therefore **extremely important** to make the first column as unique as possible  \n",
    "\n",
    "An example, if we want to choose whether to key a table by date/id or id/date, the choice depend on frequency of data  \n",
    "if we only have 2 dates and 10,000 ids, it is better to have id/date,  as after searching(quickly) by id, we only have 2 dates(linear)  \n",
    "\n",
    "Another FAQ, there's no limit on number of attributes we can apply, does it mean we should apply it to all 1000 columns?  \n",
    "It will slow down addition of new rows, as each column attribute(other than sort) needs to store more data (index,etc)  \n",
    "More memory too  \n",
    "\n",
    "But if the first condition of where clause is attributed, it will increase search speed  \n",
    "\n",
    "Selecting a subset or deleting rows from tables is not only expensive but also **removes all attributes**. Appending rows that invalidate attributes also removes them."
   ]
  },
  {
   "cell_type": "code",
   "execution_count": 6,
   "metadata": {
    "scrolled": true
   },
   "outputs": [
    {
     "data": {
      "text/plain": [
       "{[t]\r\n",
       " c:first cols t;\r\n",
       " a:`g`u 1=n:count keys t;\r\n",
       " t:n!@[;c;a#]0!t;\r\n",
       " t}\r\n"
      ]
     },
     "execution_count": 6,
     "metadata": {},
     "output_type": "execute_result"
    }
   ],
   "source": [
    "//.util.sattr\n",
    "{[t]\n",
    " c:first cols t; //name of first col\n",
    " a:`g`u 1=n:count keys t; //if key =1 apply unique, else apply group\n",
    " t:n!@[;c;a#]0!t; //unkey, apply, key\n",
    " t}"
   ]
  },
  {
   "cell_type": "code",
   "execution_count": 18,
   "metadata": {},
   "outputs": [
    {
     "name": "stdout",
     "output_type": "stream",
     "text": [
      "a b c\r\n",
      "-----\r\n"
     ]
    },
    {
     "data": {
      "text/plain": [
       "c| t f a\r\n",
       "-| -----\r\n",
       "a| f    \r\n",
       "b| f    \r\n",
       "c| f    \r\n"
      ]
     },
     "execution_count": 18,
     "metadata": {},
     "output_type": "execute_result"
    }
   ],
   "source": [
    "show t:flip`a`b`c!\"fff\"$\\:() //apply () into float //basically list of three empty float\n",
    "meta t"
   ]
  },
  {
   "cell_type": "code",
   "execution_count": 19,
   "metadata": {},
   "outputs": [
    {
     "data": {
      "text/plain": [
       "c| t f a\r\n",
       "-| -----\r\n",
       "a| f   g\r\n",
       "b| f    \r\n",
       "c| f    \r\n"
      ]
     },
     "execution_count": 19,
     "metadata": {},
     "output_type": "execute_result"
    },
    {
     "data": {
      "text/plain": [
       "c| t f a\r\n",
       "-| -----\r\n",
       "a| f   u\r\n",
       "b| f    \r\n",
       "c| f    \r\n"
      ]
     },
     "execution_count": 19,
     "metadata": {},
     "output_type": "execute_result"
    },
    {
     "data": {
      "text/plain": [
       "c| t f a\r\n",
       "-| -----\r\n",
       "a| f   g\r\n",
       "b| f    \r\n",
       "c| f    \r\n"
      ]
     },
     "execution_count": 19,
     "metadata": {},
     "output_type": "execute_result"
    }
   ],
   "source": [
    "meta .util.sattr t\n",
    "meta .util.sattr 1!t //don't think very useful as it will fail if a does not have unique value?\n",
    "meta .util.sattr 2!t"
   ]
  },
  {
   "cell_type": "code",
   "execution_count": 21,
   "metadata": {},
   "outputs": [
    {
     "data": {
      "text/plain": [
       "{$[`s=attr k:key x;x;(`s#k i)!value[x]i:iasc k]}\r\n"
      ]
     },
     "execution_count": 21,
     "metadata": {},
     "output_type": "execute_result"
    }
   ],
   "source": [
    "//.util.kasc //this is use to sort a dictionary(there fore keyed table), make keys ascending\n",
    "{$[`s=attr k:key x;x;(`s#k i)!value[x]i:iasc k]} //see whether does key is ascending, if not, find the index to change order,\n",
    "//change the order of both key and value, and applying attribute to key"
   ]
  },
  {
   "cell_type": "code",
   "execution_count": null,
   "metadata": {},
   "outputs": [],
   "source": []
  }
 ],
 "metadata": {
  "kernelspec": {
   "display_name": "Q (kdb+)",
   "language": "q",
   "name": "qpk"
  },
  "language_info": {
   "file_extension": ".q",
   "mimetype": "text/x-q",
   "name": "q",
   "version": "3.6.0"
  }
 },
 "nbformat": 4,
 "nbformat_minor": 2
}
